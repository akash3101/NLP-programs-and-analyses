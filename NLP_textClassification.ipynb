{
 "cells": [
  {
   "cell_type": "markdown",
   "metadata": {},
   "source": [
    "## Using NLTK for text classification - Akash Gupta\n",
    "\n",
    "This note demonstrates various Python functions and primarily the **NLTK** library to carry out text classification tasks."
   ]
  },
  {
   "cell_type": "code",
   "execution_count": 1,
   "metadata": {},
   "outputs": [],
   "source": [
    "import nltk\n",
    "import re\n",
    "import pprint\n",
    "\n",
    "# inputs are converted into feature sets which are then fed to the ML algorithm \n",
    "# along with training labels. Then for testing, again inputs are converted into \n",
    "# extracted feature sets which are fed to the model to get the labels."
   ]
  },
  {
   "cell_type": "code",
   "execution_count": 2,
   "metadata": {},
   "outputs": [
    {
     "data": {
      "text/plain": [
       "{'last letter': 'k'}"
      ]
     },
     "execution_count": 2,
     "metadata": {},
     "output_type": "execute_result"
    }
   ],
   "source": [
    "# modeling differences in gender names. Decide what features are important and encode them.\n",
    "\n",
    "def gender_features(word):\n",
    "    return {'last letter': word[-1]}\n",
    "gender_features('shrek')     ## output of this is a feature set"
   ]
  },
  {
   "cell_type": "code",
   "execution_count": 3,
   "metadata": {},
   "outputs": [],
   "source": [
    "from nltk.corpus import names\n",
    "import random\n",
    "\n",
    "names1 = ([(name,'male') for name in names.words('male.txt')] + \n",
    "         [(name,'female') for name in names.words('female.txt')])\n",
    "random.shuffle(names1)"
   ]
  },
  {
   "cell_type": "code",
   "execution_count": 4,
   "metadata": {},
   "outputs": [],
   "source": [
    "# training a naive bayes classifier\n",
    "\n",
    "featuresets = [(gender_features(n),g) for (n,g) in names1]\n",
    "train_set, test_set = featuresets[500:], featuresets[:500]\n",
    "classifier = nltk.NaiveBayesClassifier.train(train_set)"
   ]
  },
  {
   "cell_type": "code",
   "execution_count": 7,
   "metadata": {},
   "outputs": [
    {
     "data": {
      "text/plain": [
       "'male'"
      ]
     },
     "execution_count": 7,
     "metadata": {},
     "output_type": "execute_result"
    }
   ],
   "source": [
    "classifier.classify(gender_features('adam'))"
   ]
  },
  {
   "cell_type": "code",
   "execution_count": 6,
   "metadata": {},
   "outputs": [
    {
     "data": {
      "text/plain": [
       "'female'"
      ]
     },
     "execution_count": 6,
     "metadata": {},
     "output_type": "execute_result"
    }
   ],
   "source": [
    "classifier.classify(gender_features('eve'))"
   ]
  },
  {
   "cell_type": "code",
   "execution_count": 8,
   "metadata": {},
   "outputs": [
    {
     "name": "stdout",
     "output_type": "stream",
     "text": [
      "0.77\n"
     ]
    }
   ],
   "source": [
    "print(nltk.classify.accuracy(classifier, test_set))"
   ]
  },
  {
   "cell_type": "code",
   "execution_count": 10,
   "metadata": {},
   "outputs": [
    {
     "name": "stdout",
     "output_type": "stream",
     "text": [
      "Most Informative Features\n",
      "             last letter = 'a'            female : male   =     32.9 : 1.0\n",
      "             last letter = 'k'              male : female =     31.9 : 1.0\n",
      "             last letter = 'f'              male : female =     15.4 : 1.0\n",
      "             last letter = 'p'              male : female =     11.3 : 1.0\n",
      "             last letter = 'v'              male : female =     11.3 : 1.0\n"
     ]
    }
   ],
   "source": [
    "# compute likelihood ratios. Interpret this as:- if the last letter in a name is 'a',\n",
    "# then is 32.9 times more likely for the name to be a female name than a male name.\n",
    "\n",
    "classifier.show_most_informative_features(5)"
   ]
  },
  {
   "cell_type": "code",
   "execution_count": 11,
   "metadata": {},
   "outputs": [
    {
     "name": "stdout",
     "output_type": "stream",
     "text": [
      "0.77\n"
     ]
    }
   ],
   "source": [
    "# demonstrating overfitting with a very detailed feature extraction. training not generalizing \n",
    "# well to new data refers to the problem of overfitting. Here we are taking the first an last \n",
    "# letters of a name as features.\n",
    "\n",
    "def gender_features2(name):\n",
    "    features = {}\n",
    "    features['first letter'] = name[0].lower()\n",
    "    features['last letter'] = name[-1].lower()\n",
    "    letters = 'abcdefghijklmnopqrstuvwxyz'\n",
    "    for l in letters:\n",
    "        features['count(%s)'% l] = name.lower().count(l)\n",
    "        features['has(%s)'% l] = (l in name.lower())\n",
    "    return features\n",
    "\n",
    "featuresets = [(gender_features2(n),g) for (n,g) in names1]\n",
    "train_set, test_set = featuresets[500:],featuresets[:500]\n",
    "classifier = nltk.NaiveBayesClassifier.train(train_set)\n",
    "print(nltk.classify.accuracy(classifier,test_set))"
   ]
  },
  {
   "cell_type": "code",
   "execution_count": 12,
   "metadata": {},
   "outputs": [
    {
     "name": "stdout",
     "output_type": "stream",
     "text": [
      "0.766\n"
     ]
    }
   ],
   "source": [
    "# for properly evaluating a model we create a development set - divide it into training set\n",
    "# and dev-test set. training trains the model and dev-test does error analysis. test set is the \n",
    "# final evalutation system\n",
    "\n",
    "train_names = names1[1500:]\n",
    "devtest_names = names1[500:1500]\n",
    "test_names = names1[:500]\n",
    "\n",
    "train_set = [(gender_features(n),g) for (n,g) in train_names]\n",
    "devtest_set = [(gender_features(n),g) for (n,g) in devtest_names]\n",
    "test_set = [(gender_features(n),g) for (n,g) in test_names]\n",
    "classifier = nltk.NaiveBayesClassifier.train(train_set)\n",
    "print(nltk.classify.accuracy(classifier,devtest_set))"
   ]
  },
  {
   "cell_type": "code",
   "execution_count": 13,
   "metadata": {},
   "outputs": [
    {
     "name": "stdout",
     "output_type": "stream",
     "text": [
      "correct=female   guess=male     name=Addis                         \n",
      "correct=female   guess=male     name=Aleen                         \n",
      "correct=female   guess=male     name=Allis                         \n",
      "correct=female   guess=male     name=Anett                         \n",
      "correct=female   guess=male     name=Anne-Mar                      \n",
      "correct=female   guess=male     name=Ardelis                       \n",
      "correct=female   guess=male     name=Aryn                          \n",
      "correct=female   guess=male     name=Aurel                         \n",
      "correct=female   guess=male     name=Bess                          \n",
      "correct=female   guess=male     name=Betteann                      \n",
      "correct=female   guess=male     name=Bidget                        \n",
      "correct=female   guess=male     name=Blair                         \n",
      "correct=female   guess=male     name=Bridget                       \n",
      "correct=female   guess=male     name=Bridgett                      \n",
      "correct=female   guess=male     name=Cal                           \n",
      "correct=female   guess=male     name=Calypso                       \n",
      "correct=female   guess=male     name=Candis                        \n",
      "correct=female   guess=male     name=Caren                         \n",
      "correct=female   guess=male     name=Carolann                      \n",
      "correct=female   guess=male     name=Carolin                       \n",
      "correct=female   guess=male     name=Caryl                         \n",
      "correct=female   guess=male     name=Cathrin                       \n",
      "correct=female   guess=male     name=Cathryn                       \n",
      "correct=female   guess=male     name=Cecil                         \n",
      "correct=female   guess=male     name=Chandal                       \n",
      "correct=female   guess=male     name=Cherilyn                      \n",
      "correct=female   guess=male     name=Chris                         \n",
      "correct=female   guess=male     name=Christal                      \n",
      "correct=female   guess=male     name=Clair                         \n",
      "correct=female   guess=male     name=Crystal                       \n",
      "correct=female   guess=male     name=Dareen                        \n",
      "correct=female   guess=male     name=Denys                         \n",
      "correct=female   guess=male     name=Devan                         \n",
      "correct=female   guess=male     name=Devin                         \n",
      "correct=female   guess=male     name=Dorcas                        \n",
      "correct=female   guess=male     name=Dot                           \n",
      "correct=female   guess=male     name=Emmalyn                       \n",
      "correct=female   guess=male     name=Enid                          \n",
      "correct=female   guess=male     name=Esther                        \n",
      "correct=female   guess=male     name=Evaleen                       \n",
      "correct=female   guess=male     name=Fanchon                       \n",
      "correct=female   guess=male     name=Flor                          \n",
      "correct=female   guess=male     name=Gabriel                       \n",
      "correct=female   guess=male     name=Gabriell                      \n",
      "correct=female   guess=male     name=Gaynor                        \n",
      "correct=female   guess=male     name=Gen                           \n",
      "correct=female   guess=male     name=Gert                          \n",
      "correct=female   guess=male     name=Gillian                       \n",
      "correct=female   guess=male     name=Glen                          \n",
      "correct=female   guess=male     name=Greer                         \n",
      "correct=female   guess=male     name=Harriet                       \n",
      "correct=female   guess=male     name=Harriott                      \n",
      "correct=female   guess=male     name=Hedwig                        \n",
      "correct=female   guess=male     name=Imogen                        \n",
      "correct=female   guess=male     name=Izabel                        \n",
      "correct=female   guess=male     name=Jazmin                        \n",
      "correct=female   guess=male     name=Jess                          \n",
      "correct=female   guess=male     name=Jessalin                      \n",
      "correct=female   guess=male     name=Jessalyn                      \n",
      "correct=female   guess=male     name=Jill                          \n",
      "correct=female   guess=male     name=Jo                            \n",
      "correct=female   guess=male     name=Joan                          \n",
      "correct=female   guess=male     name=Joann                         \n",
      "correct=female   guess=male     name=Jolynn                        \n",
      "correct=female   guess=male     name=Jonis                         \n",
      "correct=female   guess=male     name=Jordan                        \n",
      "correct=female   guess=male     name=Joyann                        \n",
      "correct=female   guess=male     name=Karalynn                      \n",
      "correct=female   guess=male     name=Karen                         \n",
      "correct=female   guess=male     name=Karleen                       \n",
      "correct=female   guess=male     name=Karlen                        \n",
      "correct=female   guess=male     name=Karlyn                        \n",
      "correct=female   guess=male     name=Karylin                       \n",
      "correct=female   guess=male     name=Katleen                       \n",
      "correct=female   guess=male     name=Kerrill                       \n",
      "correct=female   guess=male     name=Kit                           \n",
      "correct=female   guess=male     name=Koren                         \n",
      "correct=female   guess=male     name=Kristal                       \n",
      "correct=female   guess=male     name=Kristel                       \n",
      "correct=female   guess=male     name=Krystal                       \n",
      "correct=female   guess=male     name=Lark                          \n",
      "correct=female   guess=male     name=Lilias                        \n",
      "correct=female   guess=male     name=Lois                          \n",
      "correct=female   guess=male     name=Loren                         \n",
      "correct=female   guess=male     name=Lyndell                       \n",
      "correct=female   guess=male     name=Lynn                          \n",
      "correct=female   guess=male     name=Mabel                         \n",
      "correct=female   guess=male     name=Mairead                       \n",
      "correct=female   guess=male     name=Margot                        \n",
      "correct=female   guess=male     name=Margret                       \n",
      "correct=female   guess=male     name=Mariann                       \n",
      "correct=female   guess=male     name=Mariel                        \n",
      "correct=female   guess=male     name=Marlyn                        \n",
      "correct=female   guess=male     name=Meghan                        \n",
      "correct=female   guess=male     name=Mellicent                     \n",
      "correct=female   guess=male     name=Nat                           \n",
      "correct=female   guess=male     name=Noreen                        \n",
      "correct=female   guess=male     name=Opal                          \n",
      "correct=female   guess=male     name=Pam                           \n",
      "correct=female   guess=male     name=Pearl                         \n",
      "correct=female   guess=male     name=Peg                           \n",
      "correct=female   guess=male     name=Pen                           \n",
      "correct=female   guess=male     name=Phylis                        \n",
      "correct=female   guess=male     name=Ros                           \n",
      "correct=female   guess=male     name=Roselin                       \n",
      "correct=female   guess=male     name=Row                           \n",
      "correct=female   guess=male     name=Scarlet                       \n",
      "correct=female   guess=male     name=Scarlett                      \n",
      "correct=female   guess=male     name=Shannon                       \n",
      "correct=female   guess=male     name=Sher                          \n",
      "correct=female   guess=male     name=Shirl                         \n",
      "correct=female   guess=male     name=Sibel                         \n",
      "correct=female   guess=male     name=Sibyl                         \n",
      "correct=female   guess=male     name=Stoddard                      \n",
      "correct=female   guess=male     name=Tamar                         \n",
      "correct=female   guess=male     name=Teriann                       \n",
      "correct=female   guess=male     name=Velvet                        \n",
      "correct=female   guess=male     name=Vin                           \n",
      "correct=female   guess=male     name=Vivyan                        \n",
      "correct=female   guess=male     name=Willow                        \n",
      "correct=female   guess=male     name=Yehudit                       \n",
      "correct=female   guess=male     name=Yoko                          \n",
      "correct=male     guess=female   name=Abe                           \n",
      "correct=male     guess=female   name=Alley                         \n",
      "correct=male     guess=female   name=Ambrose                       \n",
      "correct=male     guess=female   name=Amory                         \n",
      "correct=male     guess=female   name=Artie                         \n",
      "correct=male     guess=female   name=Arvy                          \n",
      "correct=male     guess=female   name=Ashish                        \n",
      "correct=male     guess=female   name=Bailie                        \n",
      "correct=male     guess=female   name=Barry                         \n",
      "correct=male     guess=female   name=Bary                          \n",
      "correct=male     guess=female   name=Benjie                        \n",
      "correct=male     guess=female   name=Bentley                       \n",
      "correct=male     guess=female   name=Billie                        \n",
      "correct=male     guess=female   name=Chrisy                        \n",
      "correct=male     guess=female   name=Claire                        \n",
      "correct=male     guess=female   name=Clarke                        \n",
      "correct=male     guess=female   name=Connie                        \n",
      "correct=male     guess=female   name=Conroy                        \n",
      "correct=male     guess=female   name=Conway                        \n",
      "correct=male     guess=female   name=Corky                         \n",
      "correct=male     guess=female   name=Dabney                        \n",
      "correct=male     guess=female   name=Darcy                         \n",
      "correct=male     guess=female   name=Davide                        \n",
      "correct=male     guess=female   name=Dickie                        \n",
      "correct=male     guess=female   name=Dmitri                        \n",
      "correct=male     guess=female   name=Durante                       \n",
      "correct=male     guess=female   name=Dwaine                        \n",
      "correct=male     guess=female   name=Elijah                        \n",
      "correct=male     guess=female   name=Enrique                       \n",
      "correct=male     guess=female   name=Erny                          \n",
      "correct=male     guess=female   name=Ezra                          \n",
      "correct=male     guess=female   name=Ferdie                        \n",
      "correct=male     guess=female   name=Fonzie                        \n",
      "correct=male     guess=female   name=Gale                          \n",
      "correct=male     guess=female   name=Giovanni                      \n",
      "correct=male     guess=female   name=Goose                         \n",
      "correct=male     guess=female   name=Guillaume                     \n",
      "correct=male     guess=female   name=Harley                        \n",
      "correct=male     guess=female   name=Herculie                      \n",
      "correct=male     guess=female   name=Hilary                        \n",
      "correct=male     guess=female   name=Huntley                       \n",
      "correct=male     guess=female   name=Iggy                          \n",
      "correct=male     guess=female   name=Isadore                       \n",
      "correct=male     guess=female   name=Jeremy                        \n",
      "correct=male     guess=female   name=Jeromy                        \n",
      "correct=male     guess=female   name=Johnny                        \n",
      "correct=male     guess=female   name=Johny                         \n",
      "correct=male     guess=female   name=Josiah                        \n",
      "correct=male     guess=female   name=Keefe                         \n",
      "correct=male     guess=female   name=Kenneth                       \n",
      "correct=male     guess=female   name=Kingsly                       \n",
      "correct=male     guess=female   name=Lance                         \n",
      "correct=male     guess=female   name=Larry                         \n",
      "correct=male     guess=female   name=Lee                           \n",
      "correct=male     guess=female   name=Lefty                         \n",
      "correct=male     guess=female   name=Lindsey                       \n",
      "correct=male     guess=female   name=Lonnie                        \n",
      "correct=male     guess=female   name=Luce                          \n",
      "correct=male     guess=female   name=Marmaduke                     \n",
      "correct=male     guess=female   name=Marty                         \n",
      "correct=male     guess=female   name=Marve                         \n",
      "correct=male     guess=female   name=Matty                         \n",
      "correct=male     guess=female   name=Mendie                        \n",
      "correct=male     guess=female   name=Meredith                      \n",
      "correct=male     guess=female   name=Merle                         \n",
      "correct=male     guess=female   name=Michale                       \n",
      "correct=male     guess=female   name=Michele                       \n",
      "correct=male     guess=female   name=Monroe                        \n",
      "correct=male     guess=female   name=Montgomery                    \n",
      "correct=male     guess=female   name=Mose                          \n",
      "correct=male     guess=female   name=Munroe                        \n",
      "correct=male     guess=female   name=Nickie                        \n",
      "correct=male     guess=female   name=Obie                          \n",
      "correct=male     guess=female   name=Patrice                       \n",
      "correct=male     guess=female   name=Pennie                        \n",
      "correct=male     guess=female   name=Ramesh                        \n",
      "correct=male     guess=female   name=Reube                         \n",
      "correct=male     guess=female   name=Rex                           \n",
      "correct=male     guess=female   name=Ritch                         \n",
      "correct=male     guess=female   name=Rodney                        \n",
      "correct=male     guess=female   name=Roscoe                        \n",
      "correct=male     guess=female   name=Rustie                        \n",
      "correct=male     guess=female   name=Rusty                         \n",
      "correct=male     guess=female   name=Selby                         \n",
      "correct=male     guess=female   name=Sergei                        \n",
      "correct=male     guess=female   name=Shelby                        \n",
      "correct=male     guess=female   name=Shelley                       \n",
      "correct=male     guess=female   name=Stanly                        \n",
      "correct=male     guess=female   name=Stearne                       \n",
      "correct=male     guess=female   name=Tabbie                        \n",
      "correct=male     guess=female   name=Tally                         \n",
      "correct=male     guess=female   name=Tannie                        \n",
      "correct=male     guess=female   name=Tarrance                      \n",
      "correct=male     guess=female   name=Terrance                      \n",
      "correct=male     guess=female   name=Thayne                        \n",
      "correct=male     guess=female   name=Timmy                         \n",
      "correct=male     guess=female   name=Tommie                        \n",
      "correct=male     guess=female   name=Towney                        \n",
      "correct=male     guess=female   name=Townie                        \n",
      "correct=male     guess=female   name=Tully                         \n",
      "correct=male     guess=female   name=Vale                          \n",
      "correct=male     guess=female   name=Vance                         \n",
      "correct=male     guess=female   name=Voltaire                      \n",
      "correct=male     guess=female   name=Wadsworth                     \n",
      "correct=male     guess=female   name=Wallace                       \n",
      "correct=male     guess=female   name=Wally                         \n",
      "correct=male     guess=female   name=Walsh                         \n",
      "correct=male     guess=female   name=Wayne                         \n",
      "correct=male     guess=female   name=Yancy                         \n",
      "correct=male     guess=female   name=Zacharie                      \n",
      "correct=male     guess=female   name=Zechariah                     \n",
      "correct=male     guess=female   name=Zollie                        \n"
     ]
    },
    {
     "data": {
      "text/plain": [
       "234"
      ]
     },
     "execution_count": 13,
     "metadata": {},
     "output_type": "execute_result"
    }
   ],
   "source": [
    "# generate list of error classifier makes in devtest\n",
    "\n",
    "errors = []\n",
    "\n",
    "for (name, tag) in devtest_names:\n",
    "    guess = classifier.classify(gender_features(name))\n",
    "    if guess != tag:\n",
    "        errors.append((tag, guess, name))\n",
    "\n",
    "# make changes to featureset based on the errors generated\n",
    "\n",
    "for (tag, guess, name) in sorted(errors):\n",
    "    print(\"correct=%-8s guess=%-8s name=%-30s\"%(tag,guess,name))\n",
    "\n",
    "len(errors)"
   ]
  },
  {
   "cell_type": "code",
   "execution_count": 27,
   "metadata": {},
   "outputs": [
    {
     "name": "stdout",
     "output_type": "stream",
     "text": [
      "0.763\n"
     ]
    }
   ],
   "source": [
    "# we see that sometimes last two letters can be indicative of the gender. 'ch' ending tends to \n",
    "# be associated with male even though 'h' is associated more with female. Adjust featureset\n",
    "\n",
    "def gender_features(word):\n",
    "    return {'suffix 1': word[-1:], 'suffix 2': word[-2:]}\n",
    "\n",
    "# rebuild the classifier\n",
    "\n",
    "train_set = [(gender_features(n),g) for (n,g) in train_names]\n",
    "devtest_set = [(gender_features(n),g) for (n,g) in devtest_names]\n",
    "classifier = nltk.NaiveBayesClassifier.train(train_set)\n",
    "print(nltk.classify.accuracy(classifier, devtest_set))"
   ]
  },
  {
   "cell_type": "code",
   "execution_count": 30,
   "metadata": {},
   "outputs": [],
   "source": [
    "# categorizing movie reviews as positive or negative\n",
    "\n",
    "from nltk.corpus import movie_reviews\n",
    "\n",
    "documents = [(list(movie_reviews.words(fileid)),category) for category\n",
    "            in movie_reviews.categories() for fileid in movie_reviews.fileids(category)]\n",
    "\n",
    "random.shuffle(documents)"
   ]
  },
  {
   "cell_type": "code",
   "execution_count": 32,
   "metadata": {},
   "outputs": [],
   "source": [
    "# define as a feature as whether a document contains a certain word or not\n",
    "# we make a list of 2000 most frequent words and then define a feature extractor that\n",
    "# check whether that document has the word or not\n",
    "\n",
    "all_words = nltk.FreqDist(w.lower() for w in movie_reviews.words())\n",
    "word_features = list(all_words.keys())[:2000]\n",
    "\n",
    "def document_features(document):\n",
    "    docwords = set(document)\n",
    "    features = {}\n",
    "    for word in word_features:\n",
    "        features['contains(%s)'%word] = (word in docwords)\n",
    "    return features\n",
    "\n",
    "print(document_features(movie_reviews.words('pos/cv957_8737.txt')))"
   ]
  },
  {
   "cell_type": "code",
   "execution_count": 34,
   "metadata": {},
   "outputs": [
    {
     "name": "stdout",
     "output_type": "stream",
     "text": [
      "0.79\n",
      "Most Informative Features\n",
      "    contains(schumacher) = True              neg : pos    =      7.3 : 1.0\n",
      "        contains(shoddy) = True              neg : pos    =      6.9 : 1.0\n",
      " contains(unimaginative) = True              neg : pos    =      6.9 : 1.0\n",
      "     contains(atrocious) = True              neg : pos    =      6.5 : 1.0\n",
      "        contains(turkey) = True              neg : pos    =      6.3 : 1.0\n"
     ]
    }
   ],
   "source": [
    "# now use the defined feature extractor to train a classifier that labels movie reviews. Interpret this\n",
    "# as:- if a review contains the word 'schumac'\n",
    "\n",
    "featuresets = [(document_features(d),c) for (d,c) in documents]\n",
    "train_set, test_set = featuresets[100:], featuresets[:100]\n",
    "classifier = nltk.NaiveBayesClassifier.train(train_set)\n",
    "print(nltk.classify.accuracy(classifier,test_set))\n",
    "classifier.show_most_informative_features(5)"
   ]
  }
 ],
 "metadata": {
  "kernelspec": {
   "display_name": "Python 3",
   "language": "python",
   "name": "python3"
  },
  "language_info": {
   "codemirror_mode": {
    "name": "ipython",
    "version": 3
   },
   "file_extension": ".py",
   "mimetype": "text/x-python",
   "name": "python",
   "nbconvert_exporter": "python",
   "pygments_lexer": "ipython3",
   "version": "3.7.4"
  }
 },
 "nbformat": 4,
 "nbformat_minor": 4
}
