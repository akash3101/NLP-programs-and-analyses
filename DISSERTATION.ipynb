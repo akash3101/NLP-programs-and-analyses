{
 "cells": [
  {
   "cell_type": "code",
   "execution_count": 1,
   "metadata": {},
   "outputs": [],
   "source": [
    "import numpy as np\n",
    "import pandas as pd\n",
    "import nltk\n",
    "from nltk.corpus import stopwords\n",
    "import re\n",
    "import random\n",
    "%matplotlib inline\n",
    "import matplotlib.pyplot as plt\n",
    "plt.style.use('seaborn-whitegrid')\n",
    "from sklearn.feature_extraction.text import CountVectorizer\n",
    "from sklearn.decomposition import LatentDirichletAllocation\n",
    "import mglearn"
   ]
  },
  {
   "cell_type": "code",
   "execution_count": 2,
   "metadata": {},
   "outputs": [],
   "source": [
    "# read review dataset and gold labels dataset\n",
    "\n",
    "data = pd.read_csv('/Users/Akashgupta/Desktop/NEWERFIN/disser/basic_DELL_data.csv')\n",
    "data = data.rename(columns={\"DELL\": \"REVIEW\"})\n",
    "lab = pd.read_csv('/Users/Akashgupta/Desktop/NEWERFIN/disser/GOLD_DELL_LABELS.csv')"
   ]
  },
  {
   "cell_type": "code",
   "execution_count": 4,
   "metadata": {},
   "outputs": [],
   "source": [
    "#data = data.rename(columns={'HP': 'REVIEW'})"
   ]
  },
  {
   "cell_type": "code",
   "execution_count": 3,
   "metadata": {},
   "outputs": [],
   "source": [
    "# merge review and gold labels dataset into one\n",
    "\n",
    "data['LABELS'] = lab['LABELS']\n",
    "dd = {0: 'neg', 1: 'pos'}\n",
    "data['LABELS'] = lab['LABELS'].map(dd)"
   ]
  },
  {
   "cell_type": "code",
   "execution_count": 4,
   "metadata": {},
   "outputs": [
    {
     "data": {
      "text/html": [
       "<div>\n",
       "<style scoped>\n",
       "    .dataframe tbody tr th:only-of-type {\n",
       "        vertical-align: middle;\n",
       "    }\n",
       "\n",
       "    .dataframe tbody tr th {\n",
       "        vertical-align: top;\n",
       "    }\n",
       "\n",
       "    .dataframe thead th {\n",
       "        text-align: right;\n",
       "    }\n",
       "</style>\n",
       "<table border=\"1\" class=\"dataframe\">\n",
       "  <thead>\n",
       "    <tr style=\"text-align: right;\">\n",
       "      <th></th>\n",
       "      <th>REVIEW</th>\n",
       "      <th>LABELS</th>\n",
       "    </tr>\n",
       "  </thead>\n",
       "  <tbody>\n",
       "    <tr>\n",
       "      <td>0</td>\n",
       "      <td>Using it for last 4~5 days. This is my 4th lap...</td>\n",
       "      <td>neg</td>\n",
       "    </tr>\n",
       "    <tr>\n",
       "      <td>1</td>\n",
       "      <td>I got a detective laptop .It didn't turn on an...</td>\n",
       "      <td>neg</td>\n",
       "    </tr>\n",
       "    <tr>\n",
       "      <td>2</td>\n",
       "      <td>guys , i bought this dell g3 3500 laptop a wee...</td>\n",
       "      <td>pos</td>\n",
       "    </tr>\n",
       "    <tr>\n",
       "      <td>3</td>\n",
       "      <td>After using it for about a month..\\nGood specs...</td>\n",
       "      <td>pos</td>\n",
       "    </tr>\n",
       "    <tr>\n",
       "      <td>4</td>\n",
       "      <td>Using this product for 10 days,no issues at al...</td>\n",
       "      <td>pos</td>\n",
       "    </tr>\n",
       "  </tbody>\n",
       "</table>\n",
       "</div>"
      ],
      "text/plain": [
       "                                              REVIEW LABELS\n",
       "0  Using it for last 4~5 days. This is my 4th lap...    neg\n",
       "1  I got a detective laptop .It didn't turn on an...    neg\n",
       "2  guys , i bought this dell g3 3500 laptop a wee...    pos\n",
       "3  After using it for about a month..\\nGood specs...    pos\n",
       "4  Using this product for 10 days,no issues at al...    pos"
      ]
     },
     "execution_count": 4,
     "metadata": {},
     "output_type": "execute_result"
    }
   ],
   "source": [
    "data.head()"
   ]
  },
  {
   "cell_type": "code",
   "execution_count": 5,
   "metadata": {},
   "outputs": [
    {
     "data": {
      "text/plain": [
       "'After using it for about a month..\\nGood specs and performance.\\nscreen looks dull at first but after disabling eco screen from boot menu looks great.\\nprice is somewhat high than others but with the quality you get it is worth it.\\nsound is awesome with Alienware controls , keyboard is nice, USB ports are tight at first but works nice after 2-3 days.. only downgrad here is battery performance but guys its gaming system so it can be neglected.\\ntried with many games, runs smoother, you need to disable power saving option to get more then 30 fps.. its in nvidia game experince control.\\nDelivery here was late but very happy with what i got. Thanks to Amazon and delivey agents '"
      ]
     },
     "execution_count": 5,
     "metadata": {},
     "output_type": "execute_result"
    }
   ],
   "source": [
    "# glimpse a review\n",
    "\n",
    "data['REVIEW'][3]"
   ]
  },
  {
   "cell_type": "code",
   "execution_count": 6,
   "metadata": {},
   "outputs": [],
   "source": [
    "# OOP program\n",
    "\n",
    "class L_stats(object):\n",
    "    def __init__(self, raw, col_name):\n",
    "        self.raw = raw\n",
    "        self.col_name = col_name\n",
    "        \n",
    "    def tokenized(self):\n",
    "        tokens = []\n",
    "        for review in self.raw[self.col_name]:\n",
    "            tokens.append([w.lower() for w in nltk.word_tokenize(review) if len(w)>2])\n",
    "        return tokens\n",
    "    \n",
    "    def bi_token(self):\n",
    "        bitokens = []\n",
    "        tokendata = self.tokenized()\n",
    "        for review in tokendata:\n",
    "            bitokens.append(list(nltk.bigrams(review)))\n",
    "        return bitokens\n",
    "    \n",
    "    def vocab(self):\n",
    "        voc = []\n",
    "        for review in self.raw[self.col_name]:\n",
    "            voc += [w.lower() for w in nltk.word_tokenize(review) if len(w)>2]\n",
    "        return voc\n",
    "    \n",
    "    def tokenized_uni(self):\n",
    "        tokens = []\n",
    "        for review in self.raw[self.col_name]:\n",
    "            tokens.append(list(set([w.lower() for w in nltk.word_tokenize(review) if len(w)>2])))\n",
    "        return tokens\n",
    "    \n",
    "    def vocab_uni(self):\n",
    "        voc = []\n",
    "        for review in self.raw[self.col_name]:\n",
    "            voc += [w.lower() for w in nltk.word_tokenize(review) if len(w)>2]\n",
    "        return list(set(voc))\n",
    "    \n",
    "    def avg_word_count(self):\n",
    "        avg = 0\n",
    "        v = self.tokenized()\n",
    "        for review in v:\n",
    "            avg += (len(review)/len(v))\n",
    "        avg = np.round(avg, 2)\n",
    "        return avg\n",
    "    \n",
    "    def tokenized_no_stops(self):\n",
    "        DF = []\n",
    "        c = self.tokenized()\n",
    "        for r in c:\n",
    "            DF.append([w.lower() for w in r if w.lower() not in stopwords.words('english')])\n",
    "        return DF\n",
    "    \n",
    "    def vocab_no_stops(self):\n",
    "        v = self.vocab()\n",
    "        d = [w.lower() for w in v if w.lower() not in stopwords.words('english')]\n",
    "        return d\n",
    "    \n",
    "    def count_stats(self):\n",
    "        print(\"Total number of words in all reviews: \", len(self.vocab()))\n",
    "        print()\n",
    "        print(\"Average number of words in each review: \", self.avg_word_count())\n",
    "        print()\n",
    "        print(\"Total number of words in all reviews without stopwords\", len(self.vocab_no_stops()))\n",
    "         \n",
    "    def frequencies(self):\n",
    "        print(\"Top 60 most frequently occurring words in the dataset, along with their count:\")\n",
    "        print()\n",
    "        var2 = nltk.FreqDist(self.vocab()).most_common(60)\n",
    "        for i in range(60):\n",
    "            print(var2[i])\n",
    "    \n",
    "    def frequencies_stop(self):\n",
    "        print(\"Top 30 most frequently occurring words in the data without stops, along with their count:\")\n",
    "        print()\n",
    "        var = nltk.FreqDist(self.vocab_no_stops()).most_common(30)\n",
    "        for i in range(30):\n",
    "            print(var[i])\n",
    "    \n",
    "    def hapaxes(self):\n",
    "        print(\"Top 60 most rare words that occur only once in the review dataset:\")\n",
    "        print()\n",
    "        vvv = self.vocab()\n",
    "        var3 = nltk.FreqDist(vvv).hapaxes()\n",
    "        for i in range(60):\n",
    "            print(var3[i])\n",
    "            \n",
    "    def collocation(self):\n",
    "        print(\"Most frequent bigrams (pairs of words): \")\n",
    "        print()\n",
    "        v4 = self.vocab()\n",
    "        t = nltk.Text(v4)\n",
    "        print(t.collocations_list())\n",
    "        #print()\n",
    "        #dft = self.tokenized()\n",
    "        #for r in dft:\n",
    "            #t = nltk.Text(r)\n",
    "            #if t.collocations() != None:\n",
    "                #print(t.collocations())\n",
    "                \n",
    "    def concord(self, word):\n",
    "        vs = self.vocab()\n",
    "        tt = nltk.Text(vs)\n",
    "        print(tt.concordance(word))\n",
    "        \n",
    "    def find_bigrams(self, word):\n",
    "        vv = self.vocab()\n",
    "        t6 = nltk.Text(vv)\n",
    "        print(t6.findall(r'<{}> <.*>'.format(word)))\n",
    "        \n",
    "    def nouns(self):\n",
    "        vvs = self.vocab()\n",
    "        nouns = [w for (w, n) in nltk.pos_tag(vvs) if n in ['NN', 'NNP']]\n",
    "        return nouns"
   ]
  },
  {
   "cell_type": "code",
   "execution_count": 7,
   "metadata": {},
   "outputs": [],
   "source": [
    "# create main object\n",
    "\n",
    "DATA = L_stats(data, 'REVIEW')"
   ]
  },
  {
   "cell_type": "code",
   "execution_count": 8,
   "metadata": {},
   "outputs": [],
   "source": [
    "# extract all tokenized reviews for training \n",
    "\n",
    "DFL = DATA.tokenized_no_stops()\n",
    "reviews_all = []\n",
    "for i in range(len(data['LABELS'])):\n",
    "    reviews_all.append((DFL[i], data['LABELS'][i]))"
   ]
  },
  {
   "cell_type": "code",
   "execution_count": 9,
   "metadata": {},
   "outputs": [],
   "source": [
    "# shuffle the reviews\n",
    "\n",
    "random.shuffle(reviews_all)"
   ]
  },
  {
   "cell_type": "code",
   "execution_count": 10,
   "metadata": {},
   "outputs": [],
   "source": [
    "# get best features\n",
    "\n",
    "freq_words = nltk.FreqDist(DATA.vocab_no_stops())\n",
    "word_features = list(freq_words)"
   ]
  },
  {
   "cell_type": "code",
   "execution_count": 11,
   "metadata": {},
   "outputs": [],
   "source": [
    "# define training output and condition\n",
    "\n",
    "def review_features(review, w_feat):\n",
    "    review_words = set(review)\n",
    "    features = {}\n",
    "    for word in w_feat:\n",
    "        features['contains({})'.format(word)] = (word in review_words)\n",
    "    return features"
   ]
  },
  {
   "cell_type": "code",
   "execution_count": 12,
   "metadata": {},
   "outputs": [],
   "source": [
    "# train model\n",
    "\n",
    "feature_sets = [(review_features(r, word_features), c) for (r, c) in reviews_all]\n",
    "train_set, test_set = feature_sets[:400], feature_sets[400:]\n",
    "classifier = nltk.NaiveBayesClassifier.train(train_set)"
   ]
  },
  {
   "cell_type": "code",
   "execution_count": 13,
   "metadata": {},
   "outputs": [
    {
     "data": {
      "text/plain": [
       "0.7878787878787878"
      ]
     },
     "execution_count": 13,
     "metadata": {},
     "output_type": "execute_result"
    }
   ],
   "source": [
    "# get accuracy\n",
    "\n",
    "nltk.classify.accuracy(classifier, test_set)"
   ]
  },
  {
   "cell_type": "code",
   "execution_count": 14,
   "metadata": {},
   "outputs": [
    {
     "name": "stdout",
     "output_type": "stream",
     "text": [
      "Most Informative Features\n",
      "      contains(customer) = True              neg : pos    =     15.8 : 1.0\n",
      "         contains(worst) = True              neg : pos    =     10.7 : 1.0\n",
      "          contains(poor) = True              neg : pos    =     10.2 : 1.0\n",
      "       contains(amazing) = True              pos : neg    =      8.3 : 1.0\n",
      "     contains(excellent) = True              pos : neg    =      8.3 : 1.0\n",
      "          contains(nice) = True              pos : neg    =      7.7 : 1.0\n",
      "          contains(came) = True              neg : pos    =      6.9 : 1.0\n",
      "          contains(home) = True              neg : pos    =      6.9 : 1.0\n",
      "       contains(replace) = True              neg : pos    =      6.9 : 1.0\n",
      "         contains(today) = True              neg : pos    =      6.9 : 1.0\n",
      "         contains(waste) = True              neg : pos    =      6.9 : 1.0\n",
      "       contains(awesome) = True              pos : neg    =      6.9 : 1.0\n",
      "       contains(looking) = True              pos : neg    =      5.8 : 1.0\n",
      "   contains(replacement) = True              neg : pos    =      5.7 : 1.0\n",
      "          contains(2019) = True              neg : pos    =      5.7 : 1.0\n",
      "         contains(close) = True              neg : pos    =      5.7 : 1.0\n",
      "         contains(drive) = True              neg : pos    =      5.7 : 1.0\n",
      "        contains(making) = True              neg : pos    =      5.7 : 1.0\n",
      "       contains(minutes) = True              neg : pos    =      5.7 : 1.0\n",
      "      contains(products) = True              neg : pos    =      5.7 : 1.0\n"
     ]
    }
   ],
   "source": [
    "# get informative features\n",
    "\n",
    "classifier.show_most_informative_features(20)"
   ]
  },
  {
   "cell_type": "code",
   "execution_count": 13,
   "metadata": {},
   "outputs": [],
   "source": [
    "# read the lexicons datasets\n",
    "\n",
    "lex1 = pd.read_csv('/Users/Akashgupta/Desktop/NEWERFIN/disser/N_NEG_LEX.csv')\n",
    "lex2 = pd.read_csv('/Users/Akashgupta/Desktop/NEWERFIN/disser/N_POS_LEX.csv')\n",
    "lex3 = pd.read_csv('/Users/Akashgupta/Desktop/NEWERFIN/disser/onlyNEG.csv')\n",
    "lex4 = pd.read_csv('/Users/Akashgupta/Desktop/NEWERFIN/disser/onlyPOS.csv')"
   ]
  },
  {
   "cell_type": "code",
   "execution_count": 14,
   "metadata": {},
   "outputs": [],
   "source": [
    "# separate out the words in separate positive negative lexicons\n",
    "\n",
    "negative_NEG = list(lex1['word'])\n",
    "positive_NEG = list(lex2['word'])\n",
    "negative_ONLY = list(lex3['word'])\n",
    "positive_ONLY = list(lex4['word'])"
   ]
  },
  {
   "cell_type": "code",
   "execution_count": 15,
   "metadata": {},
   "outputs": [],
   "source": [
    "# read the negation bigram lexicons\n",
    "\n",
    "lex5 = pd.read_csv('/Users/Akashgupta/Desktop/NEWERFIN/disser/bi_NEG.csv')\n",
    "lex6 = pd.read_csv('/Users/Akashgupta/Desktop/NEWERFIN/disser/bi_POS.csv')"
   ]
  },
  {
   "cell_type": "code",
   "execution_count": 16,
   "metadata": {},
   "outputs": [],
   "source": [
    "# separate out the bigrams into separate positive negative lexicons\n",
    "\n",
    "neg_bi = [tuple(x) for x in list(lex5.values)]\n",
    "pos_bi = [tuple(x) for x in list(lex6.values)]"
   ]
  },
  {
   "cell_type": "code",
   "execution_count": 17,
   "metadata": {},
   "outputs": [],
   "source": [
    "# store data in unigram and bigram formats\n",
    "\n",
    "bigrams_data = DATA.bi_token()\n",
    "unigrams_data = DATA.tokenized()"
   ]
  },
  {
   "cell_type": "code",
   "execution_count": 20,
   "metadata": {},
   "outputs": [],
   "source": [
    "# latent semantic indexing to isolate \"topics\"\n",
    "\n",
    "regex = r'[a-zA-Z]{4,17}'\n",
    "vect = CountVectorizer(max_df=0.36, stop_words=\"english\", token_pattern=regex)\n",
    "X = vect.fit_transform(data['REVIEW'])"
   ]
  },
  {
   "cell_type": "code",
   "execution_count": 21,
   "metadata": {},
   "outputs": [],
   "source": [
    "lda = LatentDirichletAllocation(n_components=3, learning_method=\"batch\",\n",
    "                                max_iter=30, random_state=0)\n",
    "doc_topics = lda.fit_transform(X)"
   ]
  },
  {
   "cell_type": "code",
   "execution_count": 22,
   "metadata": {},
   "outputs": [],
   "source": [
    "sorting = np.argsort(lda.components_, axis=1)[:, ::-1]\n",
    "feature_names = np.array(vect.get_feature_names())"
   ]
  },
  {
   "cell_type": "code",
   "execution_count": 23,
   "metadata": {},
   "outputs": [
    {
     "name": "stdout",
     "output_type": "stream",
     "text": [
      "topic 0       topic 1       topic 2       \n",
      "--------      --------      --------      \n",
      "good          good          dell          \n",
      "battery       dell          product       \n",
      "product       product       battery       \n",
      "performance   screen        amazon        \n",
      "best          really        time          \n",
      "nice          office        days          \n",
      "fast          gaming        working       \n",
      "dell          keyboard      issue         \n",
      "great         display       support       \n",
      "price         like          performance   \n",
      "quality       just          poor          \n",
      "money         performance   issues        \n",
      "design        amazon        like          \n",
      "life          time          quality       \n",
      "light         using         replacement   \n",
      "display       work          screen        \n",
      "awesome       overall       model         \n",
      "really        issue         charging      \n",
      "like          sound         disappointed  \n",
      "amazing       configuration problem       \n",
      "value         price         worst         \n",
      "heating       windows       good          \n",
      "looks         awesome       better        \n",
      "just          battery       customer      \n",
      "range         issues        service       \n",
      "worth         used          hours         \n",
      "overall       hard          usage         \n",
      "screen        days          software      \n",
      "gaming        installed     gaming        \n",
      "issue         ports         sound         \n",
      "weight        type          having        \n",
      "premium       great         doesn         \n",
      "works         makes         fine          \n",
      "excellent     update        button        \n",
      "little        laptops       bios          \n",
      "build         speakers      received      \n",
      "keyboard      need          power         \n",
      "smooth        heat          display       \n",
      "looking       mentioned     bought        \n",
      "super         rate          backup        \n",
      "\n",
      "\n"
     ]
    }
   ],
   "source": [
    "mglearn.tools.print_topics(topics=range(3), feature_names=feature_names,\n",
    "                           sorting=sorting, topics_per_chunk=3, n_words=40)"
   ]
  },
  {
   "cell_type": "code",
   "execution_count": 18,
   "metadata": {},
   "outputs": [],
   "source": [
    "# sentence collection using checklists\n",
    "\n",
    "checklist1 = [\"customer\", \"customers\", \"care\", \"support\", \"service\", \"uses\", \"users\",\n",
    "             \"replaced\", \"replacement\", \"services\", \"replace\", \"subscription\",\n",
    "             \"recommend\", \"delivered\", \"received\", \"amazon\", \"issue\", ]\n",
    "\n",
    "checklist2 = [\"hardware\", \"defective\", \"charging\", \"crashed\", \"error\", \"heated\", \"technical\", \"updated\",\n",
    "              \"machine\", \"adapter\", \"browser\", \"draining\", \"faulty\", \"flickering\", \"freezing\",\n",
    "              \"hanging\", \"lagging\", \"speed\", \"drivers\", \"charger\", \"jack\", \"charge\", \"portable\",\n",
    "              \"software\", \"sensor\", \"power\" \"graphic\", \"games\", \"cooling\", \"office\", \"scanner\",\n",
    "              \"sound\", \"configuration\", \"ports\", \"heat\"]\n",
    "\n",
    "checklist3 = [\"premium\", \"looks\", \"weight\", \"heavy\", \"looking\", \"build\", \"design\",\n",
    "              \"lid\", \"lasted\", \"sleek\", \"metal\", \"white\", \"blue\", \"colour\", \"quality\",\n",
    "              \"money\", \"price\", \"value\", \"worth\", \"bucks\", \"cost\", \"range\", \"light\"]\n",
    "\n",
    "\n",
    "f1_sents = []\n",
    "for i in range(len(unigrams_data)):\n",
    "    for w in checklist1:\n",
    "        if w in unigrams_data[i] and unigrams_data[i] not in f1_sents:\n",
    "            f1_sents.append(unigrams_data[i])\n",
    "            \n",
    "f2_sents = []\n",
    "for i in range(len(unigrams_data)):\n",
    "    for w in checklist2:\n",
    "        if w in unigrams_data[i] and unigrams_data[i] not in f2_sents:\n",
    "            f2_sents.append(unigrams_data[i])\n",
    "            \n",
    "f3_sents = []\n",
    "for i in range(len(unigrams_data)):\n",
    "    for w in checklist3:\n",
    "        if w in unigrams_data[i] and unigrams_data[i] not in f3_sents:\n",
    "            f3_sents.append(unigrams_data[i])"
   ]
  },
  {
   "cell_type": "code",
   "execution_count": 19,
   "metadata": {},
   "outputs": [],
   "source": [
    "# separating the data into - sentences with negation bigrams and sentences without\n",
    "\n",
    "f1_w_negs = []\n",
    "f1_wo_negs = []\n",
    "POS_BI = set(pos_bi)\n",
    "NEG_BI = set(neg_bi)\n",
    "lean = False\n",
    "\n",
    "#### feature 1 ####\n",
    "\n",
    "for i in range(len(f1_sents)):\n",
    "    big = list(nltk.bigrams(f1_sents[i]))\n",
    "    BIG = set(big)\n",
    "    if len(set.intersection(BIG, POS_BI)) > 0 or len(set.intersection(BIG, NEG_BI)) > 0:\n",
    "        if f1_sents[i] not in f1_w_negs:\n",
    "            f1_w_negs.append(f1_sents[i])\n",
    "    elif len(set.intersection(BIG, POS_BI)) == 0 and len(set.intersection(BIG, NEG_BI)) == 0:\n",
    "        if f1_sents[i] not in f1_wo_negs:\n",
    "            f1_wo_negs.append(f1_sents[i])\n",
    "            \n",
    "#### feature 2 ######\n",
    "            \n",
    "f2_w_negs = []\n",
    "f2_wo_negs = []\n",
    "            \n",
    "for i in range(len(f2_sents)):\n",
    "    big = list(nltk.bigrams(f2_sents[i]))\n",
    "    BIG = set(big)\n",
    "    if len(set.intersection(BIG, POS_BI)) > 0 or len(set.intersection(BIG, NEG_BI)) > 0:\n",
    "        if f2_sents[i] not in f2_w_negs:\n",
    "            f2_w_negs.append(f2_sents[i])\n",
    "    elif len(set.intersection(BIG, POS_BI)) == 0 and len(set.intersection(BIG, NEG_BI)) == 0:\n",
    "        if f2_sents[i] not in f2_wo_negs:\n",
    "            f2_wo_negs.append(f2_sents[i])\n",
    "            \n",
    "#### feature 3 ####\n",
    "            \n",
    "f3_w_negs = []\n",
    "f3_wo_negs = []\n",
    "    \n",
    "for i in range(len(f3_sents)):\n",
    "    big = list(nltk.bigrams(f3_sents[i]))\n",
    "    BIG = set(big)\n",
    "    if len(set.intersection(BIG, POS_BI)) > 0 or len(set.intersection(BIG, NEG_BI)) > 0:\n",
    "        if f3_sents[i] not in f3_w_negs:\n",
    "            f3_w_negs.append(f3_sents[i])\n",
    "    elif len(set.intersection(BIG, POS_BI)) == 0 and len(set.intersection(BIG, NEG_BI)) == 0:\n",
    "        if f3_sents[i] not in f3_wo_negs:\n",
    "            f3_wo_negs.append(f3_sents[i])"
   ]
  },
  {
   "cell_type": "code",
   "execution_count": 20,
   "metadata": {},
   "outputs": [],
   "source": [
    "# algorithm that counts the score of each feature\n",
    "\n",
    "# this algorithm counts the score of \"negation bigrams\"\n",
    "# and returns a score tuple of (positive-negation-bigrams) and (negative-negation-bigrams)\n",
    "\n",
    "def negation_score(negation_list, positive_NEG, negative_NEG):\n",
    "    dataset = pd.DataFrame(columns=['REVIEW', 'score'])\n",
    "    for i in range(len(negation_list)):\n",
    "        p_score = 0\n",
    "        n_score = 0\n",
    "        bb = list(nltk.bigrams(negation_list[i]))\n",
    "        for br in bb:\n",
    "            if br in pos_bi:\n",
    "                n_score -= 1\n",
    "            elif br in neg_bi:\n",
    "                p_score += 1\n",
    "        \n",
    "        for w in negation_list[i]:\n",
    "            if w in positive_NEG:\n",
    "                p_score += 1\n",
    "            elif w in negative_NEG:\n",
    "                n_score -= 1\n",
    "                \n",
    "        dataset.loc[i] = [\" \".join(negation_list[i]), p_score + n_score]\n",
    "        \n",
    "    return dataset\n",
    "\n",
    "D11 = negation_score(f1_w_negs, positive_NEG, negative_NEG)\n",
    "D21 = negation_score(f2_w_negs, positive_NEG, negative_NEG)\n",
    "D31 = negation_score(f3_w_negs, positive_NEG, negative_NEG)"
   ]
  },
  {
   "cell_type": "code",
   "execution_count": 21,
   "metadata": {},
   "outputs": [],
   "source": [
    "# algorithm that counts the score of each feature\n",
    "\n",
    "# this algorithm counts the score of \"unigrams\"\n",
    "# it returns a score tuple of (positive-unigrams) and (negative unigrams)\n",
    "\n",
    "def pure_score(non_neg_list, positive_ONLY, negative_ONLY):\n",
    "    dataset = pd.DataFrame(columns=['REVIEW', 'score'])\n",
    "    \n",
    "    for i in range(len(non_neg_list)):\n",
    "        p_score = 0\n",
    "        n_score = 0\n",
    "        for w in non_neg_list[i]:\n",
    "            if w in positive_ONLY:\n",
    "                p_score += 1\n",
    "            elif w in negative_ONLY:\n",
    "                n_score -= 1\n",
    "                \n",
    "        dataset.loc[i] = [\" \".join(non_neg_list[i]), p_score + n_score]\n",
    "        \n",
    "    return dataset\n",
    "\n",
    "D12 = pure_score(f1_wo_negs, positive_ONLY, negative_ONLY)\n",
    "D22 = pure_score(f2_wo_negs, positive_ONLY, negative_ONLY)\n",
    "D32 = pure_score(f3_wo_negs, positive_ONLY, negative_ONLY)"
   ]
  },
  {
   "cell_type": "code",
   "execution_count": 22,
   "metadata": {},
   "outputs": [],
   "source": [
    "# convert original dataset to a review format similar to the tokenized reviews\n",
    "\n",
    "rev = []\n",
    "label = []\n",
    "data_new = pd.DataFrame(columns=['REVIEW', 'LABELS'])\n",
    "for i in range(len(data)):\n",
    "    rev.append(\" \".join(unigrams_data[i]))\n",
    "    label.append(data['LABELS'][i])\n",
    "    \n",
    "data_new['REVIEW'] = rev\n",
    "data_new['LABELS'] = label"
   ]
  },
  {
   "cell_type": "code",
   "execution_count": 23,
   "metadata": {},
   "outputs": [],
   "source": [
    "# concatenate pure and negation scores of each feature into feature wise datasets\n",
    "\n",
    "feature1 = pd.concat([D11, D12], axis=0).reset_index(drop=True)\n",
    "feature2 = pd.concat([D21, D22], axis=0).reset_index(drop=True)\n",
    "feature3 = pd.concat([D31, D32], axis=0).reset_index(drop=True)"
   ]
  },
  {
   "cell_type": "code",
   "execution_count": 24,
   "metadata": {},
   "outputs": [
    {
     "data": {
      "text/plain": [
       "2.0"
      ]
     },
     "execution_count": 24,
     "metadata": {},
     "output_type": "execute_result"
    }
   ],
   "source": [
    "feature3.score.median()"
   ]
  },
  {
   "cell_type": "code",
   "execution_count": 25,
   "metadata": {},
   "outputs": [],
   "source": [
    "# merge all the data into one final dataset with columns for features\n",
    "\n",
    "d1 = pd.merge(feature1, feature2, on=\"REVIEW\", how=\"outer\")\n",
    "d1 = d1.rename({'score_x': 'customers', 'score_y': 'performance'}, axis=1)\n",
    "FINAL = d1.merge(feature3, on=\"REVIEW\", how=\"outer\")\n",
    "FINAL = FINAL.rename({'score': 'appearance_price'}, axis=1)"
   ]
  },
  {
   "cell_type": "code",
   "execution_count": 26,
   "metadata": {},
   "outputs": [],
   "source": [
    "score_arr = []\n",
    "for i in range(len(FINAL['REVIEW'])):\n",
    "    for j in range(1, 4):\n",
    "        if type(FINAL.iloc[i][j]) == int:\n",
    "            a = FINAL.iloc[i][j]\n",
    "            FINAL.iloc[i][j] = 1\n",
    "        elif type(FINAL.iloc[i][j]) != int:\n",
    "            FINAL.iloc[i][j] = 0\n",
    "    score_arr.append(a)\n",
    "FINAL['SCORE'] = score_arr"
   ]
  },
  {
   "cell_type": "code",
   "execution_count": 27,
   "metadata": {},
   "outputs": [],
   "source": [
    "lab = []\n",
    "for i in range(len(FINAL['REVIEW'])):\n",
    "    if FINAL['SCORE'][i] <= 0:\n",
    "        lab.append(\"neg\")\n",
    "    elif FINAL['SCORE'][i] > 0:\n",
    "        lab.append(\"pos\")"
   ]
  },
  {
   "cell_type": "code",
   "execution_count": 33,
   "metadata": {},
   "outputs": [
    {
     "data": {
      "text/plain": [
       "(array([  1.,   0.,   1.,  30.,  98., 159.,  59.,  15.,   6.,   6.]),\n",
       " array([-14., -11.,  -8.,  -5.,  -2.,   1.,   4.,   7.,  10.,  13.,  16.]),\n",
       " <a list of 10 Patch objects>)"
      ]
     },
     "execution_count": 33,
     "metadata": {},
     "output_type": "execute_result"
    },
    {
     "data": {
      "image/png": "[encoded data removed]",
      "text/plain": [
       "<Figure size 432x288 with 1 Axes>"
      ]
     },
     "metadata": {
      "needs_background": "light"
     },
     "output_type": "display_data"
    }
   ],
   "source": [
    "plt.hist(FINAL['SCORE'])"
   ]
  },
  {
   "cell_type": "code",
   "execution_count": 28,
   "metadata": {},
   "outputs": [],
   "source": [
    "FINAL['LABELS'] = lab"
   ]
  },
  {
   "cell_type": "code",
   "execution_count": 29,
   "metadata": {},
   "outputs": [
    {
     "data": {
      "text/html": [
       "<div>\n",
       "<style scoped>\n",
       "    .dataframe tbody tr th:only-of-type {\n",
       "        vertical-align: middle;\n",
       "    }\n",
       "\n",
       "    .dataframe tbody tr th {\n",
       "        vertical-align: top;\n",
       "    }\n",
       "\n",
       "    .dataframe thead th {\n",
       "        text-align: right;\n",
       "    }\n",
       "</style>\n",
       "<table border=\"1\" class=\"dataframe\">\n",
       "  <thead>\n",
       "    <tr style=\"text-align: right;\">\n",
       "      <th></th>\n",
       "      <th>REVIEW</th>\n",
       "      <th>customers</th>\n",
       "      <th>performance</th>\n",
       "      <th>appearance_price</th>\n",
       "      <th>SCORE</th>\n",
       "      <th>LABELS</th>\n",
       "    </tr>\n",
       "  </thead>\n",
       "  <tbody>\n",
       "    <tr>\n",
       "      <td>0</td>\n",
       "      <td>using for last 4~5 days this 4th laptop main u...</td>\n",
       "      <td>1</td>\n",
       "      <td>1</td>\n",
       "      <td>1</td>\n",
       "      <td>1</td>\n",
       "      <td>pos</td>\n",
       "    </tr>\n",
       "    <tr>\n",
       "      <td>1</td>\n",
       "      <td>guys bought this dell 3500 laptop week ago fro...</td>\n",
       "      <td>1</td>\n",
       "      <td>1</td>\n",
       "      <td>1</td>\n",
       "      <td>1</td>\n",
       "      <td>pos</td>\n",
       "    </tr>\n",
       "    <tr>\n",
       "      <td>2</td>\n",
       "      <td>overall products was good but when was receive...</td>\n",
       "      <td>1</td>\n",
       "      <td>0</td>\n",
       "      <td>0</td>\n",
       "      <td>-5</td>\n",
       "      <td>neg</td>\n",
       "    </tr>\n",
       "    <tr>\n",
       "      <td>3</td>\n",
       "      <td>this laptop good almost all terms though not g...</td>\n",
       "      <td>1</td>\n",
       "      <td>1</td>\n",
       "      <td>1</td>\n",
       "      <td>1</td>\n",
       "      <td>pos</td>\n",
       "    </tr>\n",
       "    <tr>\n",
       "      <td>4</td>\n",
       "      <td>purchased the base varient dell 3500 10th gen ...</td>\n",
       "      <td>1</td>\n",
       "      <td>1</td>\n",
       "      <td>1</td>\n",
       "      <td>9</td>\n",
       "      <td>pos</td>\n",
       "    </tr>\n",
       "  </tbody>\n",
       "</table>\n",
       "</div>"
      ],
      "text/plain": [
       "                                              REVIEW customers performance  \\\n",
       "0  using for last 4~5 days this 4th laptop main u...         1           1   \n",
       "1  guys bought this dell 3500 laptop week ago fro...         1           1   \n",
       "2  overall products was good but when was receive...         1           0   \n",
       "3  this laptop good almost all terms though not g...         1           1   \n",
       "4  purchased the base varient dell 3500 10th gen ...         1           1   \n",
       "\n",
       "  appearance_price  SCORE LABELS  \n",
       "0                1      1    pos  \n",
       "1                1      1    pos  \n",
       "2                0     -5    neg  \n",
       "3                1      1    pos  \n",
       "4                1      9    pos  "
      ]
     },
     "execution_count": 29,
     "metadata": {},
     "output_type": "execute_result"
    }
   ],
   "source": [
    "FINAL.head()"
   ]
  },
  {
   "cell_type": "code",
   "execution_count": 30,
   "metadata": {},
   "outputs": [],
   "source": [
    "VALID = pd.merge(data_new, FINAL[['REVIEW', 'LABELS']], on='REVIEW', how='inner')"
   ]
  },
  {
   "cell_type": "code",
   "execution_count": 32,
   "metadata": {},
   "outputs": [
    {
     "data": {
      "text/html": [
       "<div>\n",
       "<style scoped>\n",
       "    .dataframe tbody tr th:only-of-type {\n",
       "        vertical-align: middle;\n",
       "    }\n",
       "\n",
       "    .dataframe tbody tr th {\n",
       "        vertical-align: top;\n",
       "    }\n",
       "\n",
       "    .dataframe thead th {\n",
       "        text-align: right;\n",
       "    }\n",
       "</style>\n",
       "<table border=\"1\" class=\"dataframe\">\n",
       "  <thead>\n",
       "    <tr style=\"text-align: right;\">\n",
       "      <th></th>\n",
       "      <th>REVIEW</th>\n",
       "      <th>customers</th>\n",
       "      <th>performance</th>\n",
       "      <th>appearance_price</th>\n",
       "      <th>SCORE</th>\n",
       "      <th>LABELS</th>\n",
       "      <th>brand</th>\n",
       "    </tr>\n",
       "  </thead>\n",
       "  <tbody>\n",
       "    <tr>\n",
       "      <td>0</td>\n",
       "      <td>using for last 4~5 days this 4th laptop main u...</td>\n",
       "      <td>1</td>\n",
       "      <td>1</td>\n",
       "      <td>1</td>\n",
       "      <td>1</td>\n",
       "      <td>pos</td>\n",
       "      <td>DELL</td>\n",
       "    </tr>\n",
       "    <tr>\n",
       "      <td>1</td>\n",
       "      <td>guys bought this dell 3500 laptop week ago fro...</td>\n",
       "      <td>1</td>\n",
       "      <td>1</td>\n",
       "      <td>1</td>\n",
       "      <td>1</td>\n",
       "      <td>pos</td>\n",
       "      <td>DELL</td>\n",
       "    </tr>\n",
       "    <tr>\n",
       "      <td>2</td>\n",
       "      <td>overall products was good but when was receive...</td>\n",
       "      <td>1</td>\n",
       "      <td>0</td>\n",
       "      <td>0</td>\n",
       "      <td>-5</td>\n",
       "      <td>neg</td>\n",
       "      <td>DELL</td>\n",
       "    </tr>\n",
       "    <tr>\n",
       "      <td>3</td>\n",
       "      <td>this laptop good almost all terms though not g...</td>\n",
       "      <td>1</td>\n",
       "      <td>1</td>\n",
       "      <td>1</td>\n",
       "      <td>1</td>\n",
       "      <td>pos</td>\n",
       "      <td>DELL</td>\n",
       "    </tr>\n",
       "    <tr>\n",
       "      <td>4</td>\n",
       "      <td>purchased the base varient dell 3500 10th gen ...</td>\n",
       "      <td>1</td>\n",
       "      <td>1</td>\n",
       "      <td>1</td>\n",
       "      <td>9</td>\n",
       "      <td>pos</td>\n",
       "      <td>DELL</td>\n",
       "    </tr>\n",
       "  </tbody>\n",
       "</table>\n",
       "</div>"
      ],
      "text/plain": [
       "                                              REVIEW customers performance  \\\n",
       "0  using for last 4~5 days this 4th laptop main u...         1           1   \n",
       "1  guys bought this dell 3500 laptop week ago fro...         1           1   \n",
       "2  overall products was good but when was receive...         1           0   \n",
       "3  this laptop good almost all terms though not g...         1           1   \n",
       "4  purchased the base varient dell 3500 10th gen ...         1           1   \n",
       "\n",
       "  appearance_price  SCORE LABELS brand  \n",
       "0                1      1    pos  DELL  \n",
       "1                1      1    pos  DELL  \n",
       "2                0     -5    neg  DELL  \n",
       "3                1      1    pos  DELL  \n",
       "4                1      9    pos  DELL  "
      ]
     },
     "execution_count": 32,
     "metadata": {},
     "output_type": "execute_result"
    }
   ],
   "source": [
    "brand = []\n",
    "for i in range(len(FINAL['REVIEW'])):\n",
    "    brand.append(\"DELL\")\n",
    "FINAL['brand'] = brand\n",
    "\n",
    "FINAL.head()"
   ]
  },
  {
   "cell_type": "code",
   "execution_count": 64,
   "metadata": {},
   "outputs": [],
   "source": [
    "# set the method labels based on median comparison\n",
    "\n",
    "#lab = []\n",
    "#for i in range(len(FINAL['REVIEW'])):\n",
    "#    if (FINAL.iloc[i][1]<=0.0)or(FINAL.iloc[i][2]<=1.0)or(FINAL.iloc[i][3]<=0.0):\n",
    "#        lab.append(\"neg\")\n",
    "#    elif (FINAL.iloc[i][1]>0.0)or(FINAL.iloc[i][2]>1.0)or(FINAL.iloc[i][3]>0.0):\n",
    "#        lab.append(\"pos\")"
   ]
  },
  {
   "cell_type": "code",
   "execution_count": 65,
   "metadata": {},
   "outputs": [],
   "source": [
    "#FINAL['LABELS'] = lab"
   ]
  },
  {
   "cell_type": "code",
   "execution_count": 66,
   "metadata": {},
   "outputs": [],
   "source": [
    "# merging method label dataset with actual gold labeled dataset\n",
    "\n",
    "#VALID = pd.merge(data_new, FINAL[['REVIEW', 'LABELS']], on='REVIEW', how='inner')"
   ]
  },
  {
   "cell_type": "code",
   "execution_count": 31,
   "metadata": {},
   "outputs": [
    {
     "name": "stdout",
     "output_type": "stream",
     "text": [
      "0.8351063829787234\n"
     ]
    }
   ],
   "source": [
    "# getting the accuracy of method labels with respect to the gold labels\n",
    "\n",
    "counter = 0\n",
    "for i in range(len(VALID)):\n",
    "    if VALID['LABELS_x'][i] == VALID['LABELS_y'][i]:\n",
    "        counter += 1\n",
    "    else:\n",
    "        pass\n",
    "    \n",
    "print(counter/len(VALID))"
   ]
  },
  {
   "cell_type": "code",
   "execution_count": 39,
   "metadata": {},
   "outputs": [
    {
     "data": {
      "text/html": [
       "<div>\n",
       "<style scoped>\n",
       "    .dataframe tbody tr th:only-of-type {\n",
       "        vertical-align: middle;\n",
       "    }\n",
       "\n",
       "    .dataframe tbody tr th {\n",
       "        vertical-align: top;\n",
       "    }\n",
       "\n",
       "    .dataframe thead th {\n",
       "        text-align: right;\n",
       "    }\n",
       "</style>\n",
       "<table border=\"1\" class=\"dataframe\">\n",
       "  <thead>\n",
       "    <tr style=\"text-align: right;\">\n",
       "      <th></th>\n",
       "      <th>REVIEW</th>\n",
       "      <th>customers</th>\n",
       "      <th>performance</th>\n",
       "      <th>appearance_price</th>\n",
       "      <th>SCORE</th>\n",
       "      <th>LABELS</th>\n",
       "    </tr>\n",
       "  </thead>\n",
       "  <tbody>\n",
       "    <tr>\n",
       "      <td>0</td>\n",
       "      <td>using for last 4~5 days this 4th laptop main u...</td>\n",
       "      <td>1</td>\n",
       "      <td>1</td>\n",
       "      <td>1</td>\n",
       "      <td>1</td>\n",
       "      <td>pos</td>\n",
       "    </tr>\n",
       "    <tr>\n",
       "      <td>1</td>\n",
       "      <td>guys bought this dell 3500 laptop week ago fro...</td>\n",
       "      <td>1</td>\n",
       "      <td>1</td>\n",
       "      <td>1</td>\n",
       "      <td>1</td>\n",
       "      <td>pos</td>\n",
       "    </tr>\n",
       "    <tr>\n",
       "      <td>2</td>\n",
       "      <td>overall products was good but when was receive...</td>\n",
       "      <td>1</td>\n",
       "      <td>0</td>\n",
       "      <td>0</td>\n",
       "      <td>-5</td>\n",
       "      <td>neg</td>\n",
       "    </tr>\n",
       "    <tr>\n",
       "      <td>3</td>\n",
       "      <td>this laptop good almost all terms though not g...</td>\n",
       "      <td>1</td>\n",
       "      <td>1</td>\n",
       "      <td>1</td>\n",
       "      <td>1</td>\n",
       "      <td>pos</td>\n",
       "    </tr>\n",
       "    <tr>\n",
       "      <td>4</td>\n",
       "      <td>purchased the base varient dell 3500 10th gen ...</td>\n",
       "      <td>1</td>\n",
       "      <td>1</td>\n",
       "      <td>1</td>\n",
       "      <td>9</td>\n",
       "      <td>pos</td>\n",
       "    </tr>\n",
       "    <tr>\n",
       "      <td>...</td>\n",
       "      <td>...</td>\n",
       "      <td>...</td>\n",
       "      <td>...</td>\n",
       "      <td>...</td>\n",
       "      <td>...</td>\n",
       "      <td>...</td>\n",
       "    </tr>\n",
       "    <tr>\n",
       "      <td>370</td>\n",
       "      <td>elegant looks smooth operating happy till now</td>\n",
       "      <td>0</td>\n",
       "      <td>0</td>\n",
       "      <td>1</td>\n",
       "      <td>3</td>\n",
       "      <td>pos</td>\n",
       "    </tr>\n",
       "    <tr>\n",
       "      <td>371</td>\n",
       "      <td>very good product 60k range</td>\n",
       "      <td>0</td>\n",
       "      <td>0</td>\n",
       "      <td>1</td>\n",
       "      <td>1</td>\n",
       "      <td>pos</td>\n",
       "    </tr>\n",
       "    <tr>\n",
       "      <td>372</td>\n",
       "      <td>very nice product battery and performance also...</td>\n",
       "      <td>0</td>\n",
       "      <td>0</td>\n",
       "      <td>1</td>\n",
       "      <td>4</td>\n",
       "      <td>pos</td>\n",
       "    </tr>\n",
       "    <tr>\n",
       "      <td>373</td>\n",
       "      <td>just one word ... wow amazing laptop wanted th...</td>\n",
       "      <td>0</td>\n",
       "      <td>0</td>\n",
       "      <td>1</td>\n",
       "      <td>6</td>\n",
       "      <td>pos</td>\n",
       "    </tr>\n",
       "    <tr>\n",
       "      <td>374</td>\n",
       "      <td>has premium look sleek and fast processing</td>\n",
       "      <td>0</td>\n",
       "      <td>0</td>\n",
       "      <td>1</td>\n",
       "      <td>3</td>\n",
       "      <td>pos</td>\n",
       "    </tr>\n",
       "  </tbody>\n",
       "</table>\n",
       "<p>375 rows × 6 columns</p>\n",
       "</div>"
      ],
      "text/plain": [
       "                                                REVIEW customers performance  \\\n",
       "0    using for last 4~5 days this 4th laptop main u...         1           1   \n",
       "1    guys bought this dell 3500 laptop week ago fro...         1           1   \n",
       "2    overall products was good but when was receive...         1           0   \n",
       "3    this laptop good almost all terms though not g...         1           1   \n",
       "4    purchased the base varient dell 3500 10th gen ...         1           1   \n",
       "..                                                 ...       ...         ...   \n",
       "370      elegant looks smooth operating happy till now         0           0   \n",
       "371                        very good product 60k range         0           0   \n",
       "372  very nice product battery and performance also...         0           0   \n",
       "373  just one word ... wow amazing laptop wanted th...         0           0   \n",
       "374         has premium look sleek and fast processing         0           0   \n",
       "\n",
       "    appearance_price  SCORE LABELS  \n",
       "0                  1      1    pos  \n",
       "1                  1      1    pos  \n",
       "2                  0     -5    neg  \n",
       "3                  1      1    pos  \n",
       "4                  1      9    pos  \n",
       "..               ...    ...    ...  \n",
       "370                1      3    pos  \n",
       "371                1      1    pos  \n",
       "372                1      4    pos  \n",
       "373                1      6    pos  \n",
       "374                1      3    pos  \n",
       "\n",
       "[375 rows x 6 columns]"
      ]
     },
     "execution_count": 39,
     "metadata": {},
     "output_type": "execute_result"
    }
   ],
   "source": [
    "FINAL"
   ]
  },
  {
   "cell_type": "code",
   "execution_count": 33,
   "metadata": {},
   "outputs": [],
   "source": [
    "FINAL.to_csv('/Users/Akashgupta/Desktop/NEWERFIN/disser/master_DELL.csv')"
   ]
  },
  {
   "cell_type": "code",
   "execution_count": 269,
   "metadata": {},
   "outputs": [],
   "source": [
    "from venn import venn"
   ]
  },
  {
   "cell_type": "code",
   "execution_count": 392,
   "metadata": {},
   "outputs": [
    {
     "data": {
      "text/plain": [
       "<matplotlib.axes._subplots.AxesSubplot at 0x1a1fa3e810>"
      ]
     },
     "execution_count": 392,
     "metadata": {},
     "output_type": "execute_result"
    },
    {
     "data": {
      "image/png": "[encoded data removed]",
      "text/plain": [
       "<Figure size 576x576 with 1 Axes>"
      ]
     },
     "metadata": {},
     "output_type": "display_data"
    }
   ],
   "source": [
    "# 2 way VENN diagrams\n",
    "\n",
    "H_12 = {'customers': set(feature1['REVIEW']), 'performance': set(feature2['REVIEW'])}\n",
    "venn(H_12)"
   ]
  },
  {
   "cell_type": "code",
   "execution_count": 393,
   "metadata": {},
   "outputs": [
    {
     "data": {
      "text/plain": [
       "<matplotlib.axes._subplots.AxesSubplot at 0x1a1faf2450>"
      ]
     },
     "execution_count": 393,
     "metadata": {},
     "output_type": "execute_result"
    },
    {
     "data": {
      "image/png": "[encoded data removed]",
      "text/plain": [
       "<Figure size 576x576 with 1 Axes>"
      ]
     },
     "metadata": {},
     "output_type": "display_data"
    }
   ],
   "source": [
    "H_22 = {'customers': set(feature1['REVIEW']), 'appearance_price': set(feature3['REVIEW'])}\n",
    "venn(H_22)"
   ]
  },
  {
   "cell_type": "code",
   "execution_count": 394,
   "metadata": {},
   "outputs": [
    {
     "data": {
      "text/plain": [
       "<matplotlib.axes._subplots.AxesSubplot at 0x1a1fbdb110>"
      ]
     },
     "execution_count": 394,
     "metadata": {},
     "output_type": "execute_result"
    },
    {
     "data": {
      "image/png": "[encoded data removed]",
      "text/plain": [
       "<Figure size 576x576 with 1 Axes>"
      ]
     },
     "metadata": {},
     "output_type": "display_data"
    }
   ],
   "source": [
    "H_32 = {'performance': set(feature2['REVIEW']), 'appearance_price': set(feature3['REVIEW'])}\n",
    "venn(H_32)"
   ]
  },
  {
   "cell_type": "code",
   "execution_count": 395,
   "metadata": {},
   "outputs": [
    {
     "data": {
      "text/plain": [
       "<matplotlib.axes._subplots.AxesSubplot at 0x1a1fd8b490>"
      ]
     },
     "execution_count": 395,
     "metadata": {},
     "output_type": "execute_result"
    },
    {
     "data": {
      "image/png": "[encoded data removed]",
      "text/plain": [
       "<Figure size 576x576 with 1 Axes>"
      ]
     },
     "metadata": {},
     "output_type": "display_data"
    }
   ],
   "source": [
    "# three way VENN diagrams\n",
    "\n",
    "H_13 = {'customers': set(feature1['REVIEW']), 'performance': set(feature2['REVIEW']),\n",
    "        'appearance': set(feature3['REVIEW'])}\n",
    "venn(H_13)"
   ]
  },
  {
   "cell_type": "code",
   "execution_count": 41,
   "metadata": {},
   "outputs": [],
   "source": [
    "from nltk.sentiment.vader import SentimentIntensityAnalyzer\n",
    "sia = SentimentIntensityAnalyzer()"
   ]
  },
  {
   "cell_type": "code",
   "execution_count": 42,
   "metadata": {},
   "outputs": [],
   "source": [
    "sentence_data = []\n",
    "for rev in data['REVIEW']:\n",
    "    sents = nltk.sent_tokenize(rev)\n",
    "    R = []\n",
    "    for s in sents:\n",
    "        R.append(s)\n",
    "    sentence_data.append(R)"
   ]
  },
  {
   "cell_type": "code",
   "execution_count": 398,
   "metadata": {},
   "outputs": [
    {
     "data": {
      "text/plain": [
       "-0.5719"
      ]
     },
     "execution_count": 398,
     "metadata": {},
     "output_type": "execute_result"
    }
   ],
   "source": [
    "list(sia.polarity_scores(sentence_data[1][0]).values())[3]"
   ]
  },
  {
   "cell_type": "code",
   "execution_count": 43,
   "metadata": {},
   "outputs": [],
   "source": [
    "dd = pd.DataFrame(columns=['rev', 'lab'])\n",
    "rev1 = []\n",
    "lab1 = []\n",
    "for sent in sentence_data:\n",
    "    c = 0\n",
    "    for s in sent:\n",
    "        score = list(sia.polarity_scores(s).values())[3]\n",
    "        c += score\n",
    "    if c <= 0:\n",
    "        rev1.append(\" \".join(sent))\n",
    "        lab1.append('neg')\n",
    "    elif c > 0:\n",
    "        rev1.append(\" \".join(sent))\n",
    "        lab1.append(\"pos\")\n",
    "    \n",
    "dd['rev'] = rev1\n",
    "dd['lab'] = lab1"
   ]
  },
  {
   "cell_type": "code",
   "execution_count": 63,
   "metadata": {},
   "outputs": [
    {
     "data": {
      "text/html": [
       "<div>\n",
       "<style scoped>\n",
       "    .dataframe tbody tr th:only-of-type {\n",
       "        vertical-align: middle;\n",
       "    }\n",
       "\n",
       "    .dataframe tbody tr th {\n",
       "        vertical-align: top;\n",
       "    }\n",
       "\n",
       "    .dataframe thead th {\n",
       "        text-align: right;\n",
       "    }\n",
       "</style>\n",
       "<table border=\"1\" class=\"dataframe\">\n",
       "  <thead>\n",
       "    <tr style=\"text-align: right;\">\n",
       "      <th></th>\n",
       "      <th>rev</th>\n",
       "      <th>lab</th>\n",
       "    </tr>\n",
       "  </thead>\n",
       "  <tbody>\n",
       "    <tr>\n",
       "      <td>0</td>\n",
       "      <td>Using it for last 4~5 days. This is my 4th lap...</td>\n",
       "      <td>pos</td>\n",
       "    </tr>\n",
       "    <tr>\n",
       "      <td>1</td>\n",
       "      <td>I got a detective laptop .It didn't turn on an...</td>\n",
       "      <td>neg</td>\n",
       "    </tr>\n",
       "    <tr>\n",
       "      <td>2</td>\n",
       "      <td>guys , i bought this dell g3 3500 laptop a wee...</td>\n",
       "      <td>pos</td>\n",
       "    </tr>\n",
       "    <tr>\n",
       "      <td>3</td>\n",
       "      <td>After using it for about a month..\\nGood specs...</td>\n",
       "      <td>pos</td>\n",
       "    </tr>\n",
       "    <tr>\n",
       "      <td>4</td>\n",
       "      <td>Using this product for 10 days,no issues at al...</td>\n",
       "      <td>pos</td>\n",
       "    </tr>\n",
       "    <tr>\n",
       "      <td>...</td>\n",
       "      <td>...</td>\n",
       "      <td>...</td>\n",
       "    </tr>\n",
       "    <tr>\n",
       "      <td>494</td>\n",
       "      <td>There is no MS home and office included in the...</td>\n",
       "      <td>pos</td>\n",
       "    </tr>\n",
       "    <tr>\n",
       "      <td>495</td>\n",
       "      <td>In product descriptiom SSD drive was included ...</td>\n",
       "      <td>neg</td>\n",
       "    </tr>\n",
       "    <tr>\n",
       "      <td>496</td>\n",
       "      <td>This product doesn’t have MS office. When I co...</td>\n",
       "      <td>pos</td>\n",
       "    </tr>\n",
       "    <tr>\n",
       "      <td>497</td>\n",
       "      <td>Has a premium look , sleek and fast processing.</td>\n",
       "      <td>neg</td>\n",
       "    </tr>\n",
       "    <tr>\n",
       "      <td>498</td>\n",
       "      <td>Bought this laptop on 6th August 2020, deliver...</td>\n",
       "      <td>pos</td>\n",
       "    </tr>\n",
       "  </tbody>\n",
       "</table>\n",
       "<p>499 rows × 2 columns</p>\n",
       "</div>"
      ],
      "text/plain": [
       "                                                   rev  lab\n",
       "0    Using it for last 4~5 days. This is my 4th lap...  pos\n",
       "1    I got a detective laptop .It didn't turn on an...  neg\n",
       "2    guys , i bought this dell g3 3500 laptop a wee...  pos\n",
       "3    After using it for about a month..\\nGood specs...  pos\n",
       "4    Using this product for 10 days,no issues at al...  pos\n",
       "..                                                 ...  ...\n",
       "494  There is no MS home and office included in the...  pos\n",
       "495  In product descriptiom SSD drive was included ...  neg\n",
       "496  This product doesn’t have MS office. When I co...  pos\n",
       "497    Has a premium look , sleek and fast processing.  neg\n",
       "498  Bought this laptop on 6th August 2020, deliver...  pos\n",
       "\n",
       "[499 rows x 2 columns]"
      ]
     },
     "execution_count": 63,
     "metadata": {},
     "output_type": "execute_result"
    }
   ],
   "source": [
    "dd"
   ]
  },
  {
   "cell_type": "code",
   "execution_count": null,
   "metadata": {},
   "outputs": [],
   "source": []
  },
  {
   "cell_type": "code",
   "execution_count": 44,
   "metadata": {},
   "outputs": [],
   "source": [
    "rev2 = []\n",
    "label2 = []\n",
    "data_new2 = pd.DataFrame(columns=['REVIEW', 'LABELS'])\n",
    "for i in range(len(data)):\n",
    "    rev2.append(\" \".join(unigrams_data[i]))\n",
    "    label2.append(dd['lab'][i])\n",
    "    \n",
    "data_new2['REVIEW'] = rev2\n",
    "data_new2['LABELS'] = label2"
   ]
  },
  {
   "cell_type": "code",
   "execution_count": 66,
   "metadata": {},
   "outputs": [
    {
     "data": {
      "text/html": [
       "<div>\n",
       "<style scoped>\n",
       "    .dataframe tbody tr th:only-of-type {\n",
       "        vertical-align: middle;\n",
       "    }\n",
       "\n",
       "    .dataframe tbody tr th {\n",
       "        vertical-align: top;\n",
       "    }\n",
       "\n",
       "    .dataframe thead th {\n",
       "        text-align: right;\n",
       "    }\n",
       "</style>\n",
       "<table border=\"1\" class=\"dataframe\">\n",
       "  <thead>\n",
       "    <tr style=\"text-align: right;\">\n",
       "      <th></th>\n",
       "      <th>REVIEW</th>\n",
       "      <th>LABELS</th>\n",
       "    </tr>\n",
       "  </thead>\n",
       "  <tbody>\n",
       "    <tr>\n",
       "      <td>0</td>\n",
       "      <td>using for last 4~5 days this 4th laptop main u...</td>\n",
       "      <td>pos</td>\n",
       "    </tr>\n",
       "    <tr>\n",
       "      <td>1</td>\n",
       "      <td>got detective laptop .it did n't turn and had ...</td>\n",
       "      <td>neg</td>\n",
       "    </tr>\n",
       "    <tr>\n",
       "      <td>2</td>\n",
       "      <td>guys bought this dell 3500 laptop week ago fro...</td>\n",
       "      <td>pos</td>\n",
       "    </tr>\n",
       "    <tr>\n",
       "      <td>3</td>\n",
       "      <td>after using for about month good specs and per...</td>\n",
       "      <td>pos</td>\n",
       "    </tr>\n",
       "    <tr>\n",
       "      <td>4</td>\n",
       "      <td>using this product for days issues all the lap...</td>\n",
       "      <td>pos</td>\n",
       "    </tr>\n",
       "    <tr>\n",
       "      <td>...</td>\n",
       "      <td>...</td>\n",
       "      <td>...</td>\n",
       "    </tr>\n",
       "    <tr>\n",
       "      <td>494</td>\n",
       "      <td>there home and office included the product and...</td>\n",
       "      <td>pos</td>\n",
       "    </tr>\n",
       "    <tr>\n",
       "      <td>495</td>\n",
       "      <td>product descriptiom ssd drive was included but...</td>\n",
       "      <td>neg</td>\n",
       "    </tr>\n",
       "    <tr>\n",
       "      <td>496</td>\n",
       "      <td>this product doesn have office when contacted ...</td>\n",
       "      <td>pos</td>\n",
       "    </tr>\n",
       "    <tr>\n",
       "      <td>497</td>\n",
       "      <td>has premium look sleek and fast processing</td>\n",
       "      <td>neg</td>\n",
       "    </tr>\n",
       "    <tr>\n",
       "      <td>498</td>\n",
       "      <td>bought this laptop 6th august 2020 delivered 1...</td>\n",
       "      <td>pos</td>\n",
       "    </tr>\n",
       "  </tbody>\n",
       "</table>\n",
       "<p>499 rows × 2 columns</p>\n",
       "</div>"
      ],
      "text/plain": [
       "                                                REVIEW LABELS\n",
       "0    using for last 4~5 days this 4th laptop main u...    pos\n",
       "1    got detective laptop .it did n't turn and had ...    neg\n",
       "2    guys bought this dell 3500 laptop week ago fro...    pos\n",
       "3    after using for about month good specs and per...    pos\n",
       "4    using this product for days issues all the lap...    pos\n",
       "..                                                 ...    ...\n",
       "494  there home and office included the product and...    pos\n",
       "495  product descriptiom ssd drive was included but...    neg\n",
       "496  this product doesn have office when contacted ...    pos\n",
       "497         has premium look sleek and fast processing    neg\n",
       "498  bought this laptop 6th august 2020 delivered 1...    pos\n",
       "\n",
       "[499 rows x 2 columns]"
      ]
     },
     "execution_count": 66,
     "metadata": {},
     "output_type": "execute_result"
    }
   ],
   "source": [
    "data_new2"
   ]
  },
  {
   "cell_type": "code",
   "execution_count": 45,
   "metadata": {},
   "outputs": [],
   "source": [
    "VALID2 = pd.merge(data_new, data_new2[['REVIEW', 'LABELS']], on='REVIEW', how='inner')"
   ]
  },
  {
   "cell_type": "code",
   "execution_count": 68,
   "metadata": {},
   "outputs": [
    {
     "data": {
      "text/html": [
       "<div>\n",
       "<style scoped>\n",
       "    .dataframe tbody tr th:only-of-type {\n",
       "        vertical-align: middle;\n",
       "    }\n",
       "\n",
       "    .dataframe tbody tr th {\n",
       "        vertical-align: top;\n",
       "    }\n",
       "\n",
       "    .dataframe thead th {\n",
       "        text-align: right;\n",
       "    }\n",
       "</style>\n",
       "<table border=\"1\" class=\"dataframe\">\n",
       "  <thead>\n",
       "    <tr style=\"text-align: right;\">\n",
       "      <th></th>\n",
       "      <th>REVIEW</th>\n",
       "      <th>LABELS_x</th>\n",
       "      <th>LABELS_y</th>\n",
       "    </tr>\n",
       "  </thead>\n",
       "  <tbody>\n",
       "    <tr>\n",
       "      <td>0</td>\n",
       "      <td>using for last 4~5 days this 4th laptop main u...</td>\n",
       "      <td>neg</td>\n",
       "      <td>pos</td>\n",
       "    </tr>\n",
       "    <tr>\n",
       "      <td>1</td>\n",
       "      <td>got detective laptop .it did n't turn and had ...</td>\n",
       "      <td>neg</td>\n",
       "      <td>neg</td>\n",
       "    </tr>\n",
       "    <tr>\n",
       "      <td>2</td>\n",
       "      <td>guys bought this dell 3500 laptop week ago fro...</td>\n",
       "      <td>pos</td>\n",
       "      <td>pos</td>\n",
       "    </tr>\n",
       "    <tr>\n",
       "      <td>3</td>\n",
       "      <td>after using for about month good specs and per...</td>\n",
       "      <td>pos</td>\n",
       "      <td>pos</td>\n",
       "    </tr>\n",
       "    <tr>\n",
       "      <td>4</td>\n",
       "      <td>using this product for days issues all the lap...</td>\n",
       "      <td>pos</td>\n",
       "      <td>pos</td>\n",
       "    </tr>\n",
       "    <tr>\n",
       "      <td>...</td>\n",
       "      <td>...</td>\n",
       "      <td>...</td>\n",
       "      <td>...</td>\n",
       "    </tr>\n",
       "    <tr>\n",
       "      <td>506</td>\n",
       "      <td>there home and office included the product and...</td>\n",
       "      <td>neg</td>\n",
       "      <td>pos</td>\n",
       "    </tr>\n",
       "    <tr>\n",
       "      <td>507</td>\n",
       "      <td>product descriptiom ssd drive was included but...</td>\n",
       "      <td>neg</td>\n",
       "      <td>neg</td>\n",
       "    </tr>\n",
       "    <tr>\n",
       "      <td>508</td>\n",
       "      <td>this product doesn have office when contacted ...</td>\n",
       "      <td>neg</td>\n",
       "      <td>pos</td>\n",
       "    </tr>\n",
       "    <tr>\n",
       "      <td>509</td>\n",
       "      <td>has premium look sleek and fast processing</td>\n",
       "      <td>pos</td>\n",
       "      <td>neg</td>\n",
       "    </tr>\n",
       "    <tr>\n",
       "      <td>510</td>\n",
       "      <td>bought this laptop 6th august 2020 delivered 1...</td>\n",
       "      <td>neg</td>\n",
       "      <td>pos</td>\n",
       "    </tr>\n",
       "  </tbody>\n",
       "</table>\n",
       "<p>511 rows × 3 columns</p>\n",
       "</div>"
      ],
      "text/plain": [
       "                                                REVIEW LABELS_x LABELS_y\n",
       "0    using for last 4~5 days this 4th laptop main u...      neg      pos\n",
       "1    got detective laptop .it did n't turn and had ...      neg      neg\n",
       "2    guys bought this dell 3500 laptop week ago fro...      pos      pos\n",
       "3    after using for about month good specs and per...      pos      pos\n",
       "4    using this product for days issues all the lap...      pos      pos\n",
       "..                                                 ...      ...      ...\n",
       "506  there home and office included the product and...      neg      pos\n",
       "507  product descriptiom ssd drive was included but...      neg      neg\n",
       "508  this product doesn have office when contacted ...      neg      pos\n",
       "509         has premium look sleek and fast processing      pos      neg\n",
       "510  bought this laptop 6th august 2020 delivered 1...      neg      pos\n",
       "\n",
       "[511 rows x 3 columns]"
      ]
     },
     "execution_count": 68,
     "metadata": {},
     "output_type": "execute_result"
    }
   ],
   "source": [
    "VALID2"
   ]
  },
  {
   "cell_type": "code",
   "execution_count": 46,
   "metadata": {},
   "outputs": [
    {
     "name": "stdout",
     "output_type": "stream",
     "text": [
      "0.8395303326810176\n"
     ]
    }
   ],
   "source": [
    "# accuracy of labels computed using VADER\n",
    "\n",
    "counter = 0\n",
    "for i in range(len(VALID2)):\n",
    "    if VALID2['LABELS_x'][i] == VALID2['LABELS_y'][i]:\n",
    "        counter += 1\n",
    "    else:\n",
    "        pass\n",
    "    \n",
    "print(counter/len(VALID2))"
   ]
  },
  {
   "cell_type": "code",
   "execution_count": null,
   "metadata": {},
   "outputs": [],
   "source": []
  }
 ],
 "metadata": {
  "kernelspec": {
   "display_name": "Python 3",
   "language": "python",
   "name": "python3"
  },
  "language_info": {
   "codemirror_mode": {
    "name": "ipython",
    "version": 3
   },
   "file_extension": ".py",
   "mimetype": "text/x-python",
   "name": "python",
   "nbconvert_exporter": "python",
   "pygments_lexer": "ipython3",
   "version": "3.7.4"
  }
 },
 "nbformat": 4,
 "nbformat_minor": 4
}
