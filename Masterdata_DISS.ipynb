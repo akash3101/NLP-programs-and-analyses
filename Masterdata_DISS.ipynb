{
 "cells": [
  {
   "cell_type": "code",
   "execution_count": 380,
   "metadata": {},
   "outputs": [],
   "source": [
    "import numpy as np\n",
    "import pandas as pd\n",
    "import nltk\n",
    "from nltk.corpus import stopwords\n",
    "%matplotlib inline\n",
    "import matplotlib.pyplot as plt\n",
    "plt.style.use('seaborn')\n",
    "from sklearn.feature_extraction.text import CountVectorizer\n",
    "from sklearn.feature_extraction.text import TfidfVectorizer\n",
    "from sklearn.decomposition import TruncatedSVD\n",
    "import seaborn as sns\n",
    "from sklearn.cluster import KMeans\n",
    "from scipy.spatial import distance\n",
    "import scipy\n",
    "import statsmodels.api as sm\n",
    "from venn import venn"
   ]
  },
  {
   "cell_type": "code",
   "execution_count": 206,
   "metadata": {},
   "outputs": [],
   "source": [
    "df = pd.read_csv('/Users/Akashgupta/Desktop/NEWERFIN/disser/scores.csv')\n",
    "df2 = pd.read_csv('/Users/Akashgupta/Desktop/NEWERFIN/disser/regressionfor3.csv')"
   ]
  },
  {
   "cell_type": "code",
   "execution_count": 207,
   "metadata": {},
   "outputs": [
    {
     "data": {
      "text/html": [
       "<div>\n",
       "<style scoped>\n",
       "    .dataframe tbody tr th:only-of-type {\n",
       "        vertical-align: middle;\n",
       "    }\n",
       "\n",
       "    .dataframe tbody tr th {\n",
       "        vertical-align: top;\n",
       "    }\n",
       "\n",
       "    .dataframe thead th {\n",
       "        text-align: right;\n",
       "    }\n",
       "</style>\n",
       "<table border=\"1\" class=\"dataframe\">\n",
       "  <thead>\n",
       "    <tr style=\"text-align: right;\">\n",
       "      <th></th>\n",
       "      <th>Unnamed: 0</th>\n",
       "      <th>REVIEW</th>\n",
       "      <th>score</th>\n",
       "      <th>LABELS</th>\n",
       "    </tr>\n",
       "  </thead>\n",
       "  <tbody>\n",
       "    <tr>\n",
       "      <td>0</td>\n",
       "      <td>0</td>\n",
       "      <td>no would articles browse scanner super program...</td>\n",
       "      <td>8.5</td>\n",
       "      <td>pos</td>\n",
       "    </tr>\n",
       "    <tr>\n",
       "      <td>1</td>\n",
       "      <td>1</td>\n",
       "      <td>laptop earphone plug not correct connecting</td>\n",
       "      <td>-1.0</td>\n",
       "      <td>neg</td>\n",
       "    </tr>\n",
       "    <tr>\n",
       "      <td>2</td>\n",
       "      <td>2</td>\n",
       "      <td>smooth no fast heating laptop love issues best</td>\n",
       "      <td>7.5</td>\n",
       "      <td>pos</td>\n",
       "    </tr>\n",
       "    <tr>\n",
       "      <td>3</td>\n",
       "      <td>3</td>\n",
       "      <td>directly no hassle could november good after u...</td>\n",
       "      <td>-5.5</td>\n",
       "      <td>neg</td>\n",
       "    </tr>\n",
       "    <tr>\n",
       "      <td>4</td>\n",
       "      <td>4</td>\n",
       "      <td>not available port</td>\n",
       "      <td>-1.0</td>\n",
       "      <td>neg</td>\n",
       "    </tr>\n",
       "    <tr>\n",
       "      <td>...</td>\n",
       "      <td>...</td>\n",
       "      <td>...</td>\n",
       "      <td>...</td>\n",
       "      <td>...</td>\n",
       "    </tr>\n",
       "    <tr>\n",
       "      <td>1835</td>\n",
       "      <td>1835</td>\n",
       "      <td>laptop ssd range price under everything</td>\n",
       "      <td>5.0</td>\n",
       "      <td>pos</td>\n",
       "    </tr>\n",
       "    <tr>\n",
       "      <td>1836</td>\n",
       "      <td>1836</td>\n",
       "      <td>use fast boot lightning external mouse better ...</td>\n",
       "      <td>4.0</td>\n",
       "      <td>pos</td>\n",
       "    </tr>\n",
       "    <tr>\n",
       "      <td>1837</td>\n",
       "      <td>1837</td>\n",
       "      <td>man fab fast</td>\n",
       "      <td>1.5</td>\n",
       "      <td>pos</td>\n",
       "    </tr>\n",
       "    <tr>\n",
       "      <td>1838</td>\n",
       "      <td>1838</td>\n",
       "      <td>cant microsoft activate</td>\n",
       "      <td>0.0</td>\n",
       "      <td>neg</td>\n",
       "    </tr>\n",
       "    <tr>\n",
       "      <td>1839</td>\n",
       "      <td>1839</td>\n",
       "      <td>likely usefull</td>\n",
       "      <td>0.0</td>\n",
       "      <td>neg</td>\n",
       "    </tr>\n",
       "  </tbody>\n",
       "</table>\n",
       "<p>1840 rows × 4 columns</p>\n",
       "</div>"
      ],
      "text/plain": [
       "      Unnamed: 0                                             REVIEW  score  \\\n",
       "0              0  no would articles browse scanner super program...    8.5   \n",
       "1              1        laptop earphone plug not correct connecting   -1.0   \n",
       "2              2     smooth no fast heating laptop love issues best    7.5   \n",
       "3              3  directly no hassle could november good after u...   -5.5   \n",
       "4              4                                 not available port   -1.0   \n",
       "...          ...                                                ...    ...   \n",
       "1835        1835            laptop ssd range price under everything    5.0   \n",
       "1836        1836  use fast boot lightning external mouse better ...    4.0   \n",
       "1837        1837                                       man fab fast    1.5   \n",
       "1838        1838                            cant microsoft activate    0.0   \n",
       "1839        1839                                     likely usefull    0.0   \n",
       "\n",
       "     LABELS  \n",
       "0       pos  \n",
       "1       neg  \n",
       "2       pos  \n",
       "3       neg  \n",
       "4       neg  \n",
       "...     ...  \n",
       "1835    pos  \n",
       "1836    pos  \n",
       "1837    pos  \n",
       "1838    neg  \n",
       "1839    neg  \n",
       "\n",
       "[1840 rows x 4 columns]"
      ]
     },
     "execution_count": 207,
     "metadata": {},
     "output_type": "execute_result"
    }
   ],
   "source": [
    "df"
   ]
  },
  {
   "cell_type": "code",
   "execution_count": 208,
   "metadata": {},
   "outputs": [
    {
     "data": {
      "text/plain": [
       "(array([  1.,   0.,   2.,   0.,   3.,   4.,  16.,  26.,  53., 126., 200.,\n",
       "        323., 389., 294., 191.,  97.,  47.,  25.,  17.,   9.,   4.,   3.,\n",
       "          4.,   2.,   0.,   0.,   1.,   1.,   1.,   1.]),\n",
       " array([-5.00443973, -4.60433617, -4.20423261, -3.80412905, -3.40402549,\n",
       "        -3.00392193, -2.60381837, -2.2037148 , -1.80361124, -1.40350768,\n",
       "        -1.00340412, -0.60330056, -0.203197  ,  0.19690656,  0.59701012,\n",
       "         0.99711368,  1.39721724,  1.7973208 ,  2.19742436,  2.59752792,\n",
       "         2.99763148,  3.39773504,  3.7978386 ,  4.19794216,  4.59804572,\n",
       "         4.99814928,  5.39825284,  5.7983564 ,  6.19845996,  6.59856352,\n",
       "         6.99866708]),\n",
       " <a list of 30 Patch objects>)"
      ]
     },
     "execution_count": 208,
     "metadata": {},
     "output_type": "execute_result"
    },
    {
     "data": {
      "image/png": "[encoded data removed]",
      "text/plain": [
       "<Figure size 576x396 with 1 Axes>"
      ]
     },
     "metadata": {},
     "output_type": "display_data"
    }
   ],
   "source": [
    "plt.hist(df2['scores'], bins=30)"
   ]
  },
  {
   "cell_type": "code",
   "execution_count": 209,
   "metadata": {},
   "outputs": [],
   "source": [
    "df2['scores'] = np.round((df2['scores']*df['score'].std())+df['score'].mean())"
   ]
  },
  {
   "cell_type": "code",
   "execution_count": 210,
   "metadata": {},
   "outputs": [
    {
     "data": {
      "text/html": [
       "<div>\n",
       "<style scoped>\n",
       "    .dataframe tbody tr th:only-of-type {\n",
       "        vertical-align: middle;\n",
       "    }\n",
       "\n",
       "    .dataframe tbody tr th {\n",
       "        vertical-align: top;\n",
       "    }\n",
       "\n",
       "    .dataframe thead th {\n",
       "        text-align: right;\n",
       "    }\n",
       "</style>\n",
       "<table border=\"1\" class=\"dataframe\">\n",
       "  <thead>\n",
       "    <tr style=\"text-align: right;\">\n",
       "      <th></th>\n",
       "      <th>Unnamed: 0</th>\n",
       "      <th>Unnamed: 0.1</th>\n",
       "      <th>reviews</th>\n",
       "      <th>brands</th>\n",
       "      <th>scores</th>\n",
       "      <th>performance</th>\n",
       "      <th>customers</th>\n",
       "      <th>pricelooks</th>\n",
       "    </tr>\n",
       "  </thead>\n",
       "  <tbody>\n",
       "    <tr>\n",
       "      <td>1224</td>\n",
       "      <td>1224</td>\n",
       "      <td>1224</td>\n",
       "      <td>stays would feel still advices new perfect lan...</td>\n",
       "      <td>MAC</td>\n",
       "      <td>51.0</td>\n",
       "      <td>1</td>\n",
       "      <td>1</td>\n",
       "      <td>1</td>\n",
       "    </tr>\n",
       "  </tbody>\n",
       "</table>\n",
       "</div>"
      ],
      "text/plain": [
       "      Unnamed: 0  Unnamed: 0.1  \\\n",
       "1224        1224          1224   \n",
       "\n",
       "                                                reviews brands  scores  \\\n",
       "1224  stays would feel still advices new perfect lan...    MAC    51.0   \n",
       "\n",
       "      performance  customers  pricelooks  \n",
       "1224            1          1           1  "
      ]
     },
     "execution_count": 210,
     "metadata": {},
     "output_type": "execute_result"
    }
   ],
   "source": [
    "df2[df2['scores']==df2['scores'].max()]"
   ]
  },
  {
   "cell_type": "code",
   "execution_count": 222,
   "metadata": {},
   "outputs": [
    {
     "data": {
      "text/plain": [
       "count    492.000000\n",
       "mean       2.577236\n",
       "std        8.966567\n",
       "min      -33.000000\n",
       "25%       -2.000000\n",
       "50%        3.000000\n",
       "75%        7.000000\n",
       "max       51.000000\n",
       "Name: scores, dtype: float64"
      ]
     },
     "execution_count": 222,
     "metadata": {},
     "output_type": "execute_result"
    }
   ],
   "source": [
    "df2[df2['brands']=='MAC']['scores'].describe()"
   ]
  },
  {
   "cell_type": "code",
   "execution_count": 220,
   "metadata": {},
   "outputs": [
    {
     "data": {
      "text/plain": [
       "<matplotlib.collections.PathCollection at 0x1c3ee74a50>"
      ]
     },
     "execution_count": 220,
     "metadata": {},
     "output_type": "execute_result"
    },
    {
     "data": {
      "image/png": "[encoded data removed]",
      "text/plain": [
       "<Figure size 576x396 with 1 Axes>"
      ]
     },
     "metadata": {},
     "output_type": "display_data"
    }
   ],
   "source": [
    "s = scipy.stats.probplot(df2[df2['brands']=='MAC']['scores'], dist='norm')\n",
    "plt.scatter(s[0][0], s[0][1])"
   ]
  },
  {
   "cell_type": "code",
   "execution_count": null,
   "metadata": {},
   "outputs": [],
   "source": []
  },
  {
   "cell_type": "code",
   "execution_count": 221,
   "metadata": {},
   "outputs": [
    {
     "data": {
      "text/plain": [
       "(array([  1.,   1.,   6.,  16.,  59., 101., 173.,  88.,  31.,   6.,   2.,\n",
       "          4.,   0.,   2.,   2.]),\n",
       " array([-33. , -27.4, -21.8, -16.2, -10.6,  -5. ,   0.6,   6.2,  11.8,\n",
       "         17.4,  23. ,  28.6,  34.2,  39.8,  45.4,  51. ]),\n",
       " <a list of 15 Patch objects>)"
      ]
     },
     "execution_count": 221,
     "metadata": {},
     "output_type": "execute_result"
    },
    {
     "data": {
      "image/png": "[encoded data removed]",
      "text/plain": [
       "<Figure size 576x396 with 1 Axes>"
      ]
     },
     "metadata": {},
     "output_type": "display_data"
    }
   ],
   "source": [
    "plt.hist(df2[df2['brands']=='MAC']['scores'], bins=15)"
   ]
  },
  {
   "cell_type": "code",
   "execution_count": 110,
   "metadata": {},
   "outputs": [
    {
     "data": {
      "text/plain": [
       "(array([  7.,  12.,  18.,  42., 122., 111.,  71.,  35.,  36.,  23.,   5.,\n",
       "          2.,   1.,   0.,   1.]),\n",
       " array([-16.        , -13.13333333, -10.26666667,  -7.4       ,\n",
       "         -4.53333333,  -1.66666667,   1.2       ,   4.06666667,\n",
       "          6.93333333,   9.8       ,  12.66666667,  15.53333333,\n",
       "         18.4       ,  21.26666667,  24.13333333,  27.        ]),\n",
       " <a list of 15 Patch objects>)"
      ]
     },
     "execution_count": 110,
     "metadata": {},
     "output_type": "execute_result"
    },
    {
     "data": {
      "image/png": "[encoded data removed]",
      "text/plain": [
       "<Figure size 576x396 with 1 Axes>"
      ]
     },
     "metadata": {},
     "output_type": "display_data"
    }
   ],
   "source": [
    "plt.hist(df2[df2['brands']=='LEN']['scores'], bins=15)"
   ]
  },
  {
   "cell_type": "code",
   "execution_count": 223,
   "metadata": {},
   "outputs": [
    {
     "data": {
      "text/plain": [
       "Ttest_indResult(statistic=5.600303050577039, pvalue=2.866926734600772e-08)"
      ]
     },
     "execution_count": 223,
     "metadata": {},
     "output_type": "execute_result"
    }
   ],
   "source": [
    "scipy.stats.ttest_ind(df2[df2['brands']=='HP']['scores'], df2[df2['brands']=='LEN']['scores'],\n",
    "                      equal_var=True)"
   ]
  },
  {
   "cell_type": "code",
   "execution_count": 234,
   "metadata": {},
   "outputs": [
    {
     "data": {
      "text/plain": [
       "Ttest_indResult(statistic=-0.9948193196046472, pvalue=0.3200740460359333)"
      ]
     },
     "execution_count": 234,
     "metadata": {},
     "output_type": "execute_result"
    }
   ],
   "source": [
    "scipy.stats.ttest_ind(df2[df2['brands']=='MAC']['scores'], df2[df2['brands']=='DELL']['scores'],\n",
    "                      equal_var=True)"
   ]
  },
  {
   "cell_type": "code",
   "execution_count": 236,
   "metadata": {},
   "outputs": [
    {
     "data": {
      "text/plain": [
       "Ttest_indResult(statistic=5.010004235638454, pvalue=6.623088930115716e-07)"
      ]
     },
     "execution_count": 236,
     "metadata": {},
     "output_type": "execute_result"
    }
   ],
   "source": [
    "scipy.stats.ttest_ind(df2[df2['brands']=='MAC']['scores'], df2[df2['brands']=='LEN']['scores'],\n",
    "                      equal_var=False)"
   ]
  },
  {
   "cell_type": "code",
   "execution_count": 235,
   "metadata": {},
   "outputs": [
    {
     "data": {
      "text/plain": [
       "Ttest_indResult(statistic=0.45998654256710897, pvalue=0.6456450913149347)"
      ]
     },
     "execution_count": 235,
     "metadata": {},
     "output_type": "execute_result"
    }
   ],
   "source": [
    "scipy.stats.ttest_ind(df2[df2['brands']=='MAC']['scores'], df2[df2['brands']=='HP']['scores'],\n",
    "                      equal_var=False)"
   ]
  },
  {
   "cell_type": "code",
   "execution_count": null,
   "metadata": {},
   "outputs": [],
   "source": []
  },
  {
   "cell_type": "code",
   "execution_count": null,
   "metadata": {},
   "outputs": [],
   "source": []
  },
  {
   "cell_type": "code",
   "execution_count": 237,
   "metadata": {},
   "outputs": [],
   "source": [
    "DD = df2[df2['brands'].isin(['HP', 'LEN'])]"
   ]
  },
  {
   "cell_type": "code",
   "execution_count": null,
   "metadata": {},
   "outputs": [],
   "source": []
  },
  {
   "cell_type": "code",
   "execution_count": 438,
   "metadata": {},
   "outputs": [],
   "source": [
    "regex = r'[a-zA-Z]{2,20}'\n",
    "tfidf = CountVectorizer(token_pattern=regex)\n",
    "TDM = tfidf.fit_transform(DD['reviews'])\n",
    "matrix = pd.DataFrame(TDM.toarray(), columns=tfidf.get_feature_names())"
   ]
  },
  {
   "cell_type": "code",
   "execution_count": 426,
   "metadata": {},
   "outputs": [
    {
     "data": {
      "text/plain": [
       "0       0\n",
       "1       0\n",
       "2       0\n",
       "3       0\n",
       "4       0\n",
       "       ..\n",
       "1835    0\n",
       "1836    0\n",
       "1837    0\n",
       "1838    0\n",
       "1839    0\n",
       "Name: slow, Length: 1840, dtype: int64"
      ]
     },
     "execution_count": 426,
     "metadata": {},
     "output_type": "execute_result"
    }
   ],
   "source": [
    "matrix['slow']"
   ]
  },
  {
   "cell_type": "code",
   "execution_count": 135,
   "metadata": {},
   "outputs": [],
   "source": [
    "doc_vecs = (TDM*TDM.T).toarray()"
   ]
  },
  {
   "cell_type": "code",
   "execution_count": 136,
   "metadata": {},
   "outputs": [
    {
     "data": {
      "text/html": [
       "<div>\n",
       "<style scoped>\n",
       "    .dataframe tbody tr th:only-of-type {\n",
       "        vertical-align: middle;\n",
       "    }\n",
       "\n",
       "    .dataframe tbody tr th {\n",
       "        vertical-align: top;\n",
       "    }\n",
       "\n",
       "    .dataframe thead th {\n",
       "        text-align: right;\n",
       "    }\n",
       "</style>\n",
       "<table border=\"1\" class=\"dataframe\">\n",
       "  <thead>\n",
       "    <tr style=\"text-align: right;\">\n",
       "      <th></th>\n",
       "      <th>0</th>\n",
       "      <th>1</th>\n",
       "      <th>2</th>\n",
       "      <th>3</th>\n",
       "      <th>4</th>\n",
       "      <th>5</th>\n",
       "      <th>6</th>\n",
       "      <th>7</th>\n",
       "      <th>8</th>\n",
       "      <th>9</th>\n",
       "      <th>...</th>\n",
       "      <th>1830</th>\n",
       "      <th>1831</th>\n",
       "      <th>1832</th>\n",
       "      <th>1833</th>\n",
       "      <th>1834</th>\n",
       "      <th>1835</th>\n",
       "      <th>1836</th>\n",
       "      <th>1837</th>\n",
       "      <th>1838</th>\n",
       "      <th>1839</th>\n",
       "    </tr>\n",
       "  </thead>\n",
       "  <tbody>\n",
       "    <tr>\n",
       "      <td>0</td>\n",
       "      <td>61</td>\n",
       "      <td>2</td>\n",
       "      <td>2</td>\n",
       "      <td>8</td>\n",
       "      <td>1</td>\n",
       "      <td>4</td>\n",
       "      <td>2</td>\n",
       "      <td>2</td>\n",
       "      <td>2</td>\n",
       "      <td>6</td>\n",
       "      <td>...</td>\n",
       "      <td>1</td>\n",
       "      <td>4</td>\n",
       "      <td>1</td>\n",
       "      <td>2</td>\n",
       "      <td>0</td>\n",
       "      <td>1</td>\n",
       "      <td>1</td>\n",
       "      <td>0</td>\n",
       "      <td>0</td>\n",
       "      <td>0</td>\n",
       "    </tr>\n",
       "    <tr>\n",
       "      <td>1</td>\n",
       "      <td>2</td>\n",
       "      <td>6</td>\n",
       "      <td>1</td>\n",
       "      <td>2</td>\n",
       "      <td>1</td>\n",
       "      <td>1</td>\n",
       "      <td>1</td>\n",
       "      <td>1</td>\n",
       "      <td>1</td>\n",
       "      <td>2</td>\n",
       "      <td>...</td>\n",
       "      <td>1</td>\n",
       "      <td>0</td>\n",
       "      <td>0</td>\n",
       "      <td>1</td>\n",
       "      <td>0</td>\n",
       "      <td>1</td>\n",
       "      <td>0</td>\n",
       "      <td>0</td>\n",
       "      <td>0</td>\n",
       "      <td>0</td>\n",
       "    </tr>\n",
       "    <tr>\n",
       "      <td>2</td>\n",
       "      <td>2</td>\n",
       "      <td>1</td>\n",
       "      <td>8</td>\n",
       "      <td>2</td>\n",
       "      <td>0</td>\n",
       "      <td>1</td>\n",
       "      <td>0</td>\n",
       "      <td>0</td>\n",
       "      <td>0</td>\n",
       "      <td>2</td>\n",
       "      <td>...</td>\n",
       "      <td>0</td>\n",
       "      <td>2</td>\n",
       "      <td>0</td>\n",
       "      <td>0</td>\n",
       "      <td>0</td>\n",
       "      <td>1</td>\n",
       "      <td>1</td>\n",
       "      <td>1</td>\n",
       "      <td>0</td>\n",
       "      <td>0</td>\n",
       "    </tr>\n",
       "    <tr>\n",
       "      <td>3</td>\n",
       "      <td>8</td>\n",
       "      <td>2</td>\n",
       "      <td>2</td>\n",
       "      <td>72</td>\n",
       "      <td>1</td>\n",
       "      <td>2</td>\n",
       "      <td>1</td>\n",
       "      <td>2</td>\n",
       "      <td>3</td>\n",
       "      <td>10</td>\n",
       "      <td>...</td>\n",
       "      <td>1</td>\n",
       "      <td>4</td>\n",
       "      <td>0</td>\n",
       "      <td>3</td>\n",
       "      <td>0</td>\n",
       "      <td>1</td>\n",
       "      <td>0</td>\n",
       "      <td>0</td>\n",
       "      <td>0</td>\n",
       "      <td>0</td>\n",
       "    </tr>\n",
       "    <tr>\n",
       "      <td>4</td>\n",
       "      <td>1</td>\n",
       "      <td>1</td>\n",
       "      <td>0</td>\n",
       "      <td>1</td>\n",
       "      <td>3</td>\n",
       "      <td>0</td>\n",
       "      <td>1</td>\n",
       "      <td>1</td>\n",
       "      <td>1</td>\n",
       "      <td>1</td>\n",
       "      <td>...</td>\n",
       "      <td>1</td>\n",
       "      <td>0</td>\n",
       "      <td>0</td>\n",
       "      <td>1</td>\n",
       "      <td>0</td>\n",
       "      <td>0</td>\n",
       "      <td>0</td>\n",
       "      <td>0</td>\n",
       "      <td>0</td>\n",
       "      <td>0</td>\n",
       "    </tr>\n",
       "  </tbody>\n",
       "</table>\n",
       "<p>5 rows × 1840 columns</p>\n",
       "</div>"
      ],
      "text/plain": [
       "   0     1     2     3     4     5     6     7     8     9     ...  1830  \\\n",
       "0    61     2     2     8     1     4     2     2     2     6  ...     1   \n",
       "1     2     6     1     2     1     1     1     1     1     2  ...     1   \n",
       "2     2     1     8     2     0     1     0     0     0     2  ...     0   \n",
       "3     8     2     2    72     1     2     1     2     3    10  ...     1   \n",
       "4     1     1     0     1     3     0     1     1     1     1  ...     1   \n",
       "\n",
       "   1831  1832  1833  1834  1835  1836  1837  1838  1839  \n",
       "0     4     1     2     0     1     1     0     0     0  \n",
       "1     0     0     1     0     1     0     0     0     0  \n",
       "2     2     0     0     0     1     1     1     0     0  \n",
       "3     4     0     3     0     1     0     0     0     0  \n",
       "4     0     0     1     0     0     0     0     0     0  \n",
       "\n",
       "[5 rows x 1840 columns]"
      ]
     },
     "execution_count": 136,
     "metadata": {},
     "output_type": "execute_result"
    }
   ],
   "source": [
    "D = pd.DataFrame(doc_vecs)\n",
    "D.head()"
   ]
  },
  {
   "cell_type": "code",
   "execution_count": 266,
   "metadata": {},
   "outputs": [
    {
     "data": {
      "text/plain": [
       "0.7220105960151609"
      ]
     },
     "execution_count": 266,
     "metadata": {},
     "output_type": "execute_result"
    }
   ],
   "source": [
    "svd = TruncatedSVD(n_components=150, n_iter=9, random_state=42)\n",
    "svd.fit(TDM)\n",
    "result = svd.transform(TDM)\n",
    "svd.explained_variance_ratio_.sum()"
   ]
  },
  {
   "cell_type": "code",
   "execution_count": 439,
   "metadata": {},
   "outputs": [],
   "source": [
    "def cos_sim(a, b):\n",
    "    cs = (np.dot(a, b))/(np.linalg.norm(a)*np.linalg.norm(b))\n",
    "    return cs"
   ]
  },
  {
   "cell_type": "code",
   "execution_count": 524,
   "metadata": {},
   "outputs": [
    {
     "data": {
      "text/plain": [
       "0.04193139346887673"
      ]
     },
     "execution_count": 524,
     "metadata": {},
     "output_type": "execute_result"
    }
   ],
   "source": [
    "cos_sim(matrix['display'], matrix['lenovo'])"
   ]
  },
  {
   "cell_type": "code",
   "execution_count": 157,
   "metadata": {},
   "outputs": [
    {
     "data": {
      "text/plain": [
       "Unnamed: 0                                                      1\n",
       "Unnamed: 0.1                                                    1\n",
       "reviews         used not clearly frequently dull become sleek ...\n",
       "brands                                                         HP\n",
       "scores                                                          1\n",
       "performance                                                     1\n",
       "customers                                                       0\n",
       "pricelooks                                                      1\n",
       "Name: 1, dtype: object"
      ]
     },
     "execution_count": 157,
     "metadata": {},
     "output_type": "execute_result"
    }
   ],
   "source": [
    "df2.iloc[1]"
   ]
  },
  {
   "cell_type": "code",
   "execution_count": 241,
   "metadata": {},
   "outputs": [
    {
     "data": {
      "text/plain": [
       "'laptop earphone plug not correct connecting'"
      ]
     },
     "execution_count": 241,
     "metadata": {},
     "output_type": "execute_result"
    }
   ],
   "source": [
    "df['REVIEW'][1]"
   ]
  },
  {
   "cell_type": "code",
   "execution_count": 58,
   "metadata": {},
   "outputs": [
    {
     "data": {
      "text/plain": [
       "\"received defective piece first run behind hp dead arrival letter claim return amazon amazon won't pick up item even though eligible return since past days disappointing experience buying electronics amazon apart form laptop good pick only not via online medium highly recommended purchase offline instead\""
      ]
     },
     "execution_count": 58,
     "metadata": {},
     "output_type": "execute_result"
    }
   ],
   "source": [
    "df['REVIEW'][150]"
   ]
  },
  {
   "cell_type": "code",
   "execution_count": 242,
   "metadata": {},
   "outputs": [
    {
     "name": "stdout",
     "output_type": "stream",
     "text": [
      "[35.35778523 17.25658052 15.53817247 15.34067667 14.20375203 13.65057\n",
      " 13.34478747 12.36715319 12.19060576 11.99678821 11.69975852 11.36926797\n",
      " 11.17564865 11.12361304 10.95541176 10.766084   10.66450658 10.64549862\n",
      " 10.23614395 10.19303659 10.09126384  9.9484283   9.75579683  9.69708772\n",
      "  9.61122846  9.37211563  9.25240561  9.21125166  9.16446821  9.14344688\n",
      "  9.03678208  8.96843031  8.90480935  8.82513762  8.7699055   8.71333497\n",
      "  8.64035132  8.5638012   8.46694828  8.4205546   8.33522147  8.31527658\n",
      "  8.28151756  8.18323153  8.1401601   8.02877857  8.00415894  7.92434926\n",
      "  7.88349363  7.87844995  7.82655988  7.74186299  7.7147722   7.65843632\n",
      "  7.62967374  7.56667564  7.51345985  7.48938482  7.43902417  7.38181687\n",
      "  7.32082427  7.31303034  7.28529689  7.19880529  7.17142524  7.14698239\n",
      "  7.09213282  7.05136764  6.99786274  6.9592982   6.90371156  6.8448971\n",
      "  6.80359825  6.76928756  6.74923809  6.73538773  6.68811237  6.64242032\n",
      "  6.6267439   6.5862159   6.55027793  6.5381756   6.52370674  6.48750422\n",
      "  6.44599538  6.3957252   6.37200055  6.32917069  6.28787736  6.25083442\n",
      "  6.22616404  6.20401234  6.16492451  6.14498745  6.09590821  6.0800808\n",
      "  6.06125126  6.00088157  5.97987554  5.96056619  5.91840246  5.91329229\n",
      "  5.87021172  5.82590864  5.80995153  5.77830533  5.7646102   5.73380913\n",
      "  5.71733745  5.70951616  5.66237468  5.65094654  5.61622277  5.57961477\n",
      "  5.55200859  5.53315184  5.51909468  5.49474348  5.4620362   5.44644915\n",
      "  5.43611003  5.40822136  5.40167232  5.37945967  5.36071999  5.33972099\n",
      "  5.3092961   5.28768496  5.27207842  5.2255011   5.21760471  5.18722081\n",
      "  5.17075536  5.15165666  5.1247837   5.10643361  5.06958835  5.05945176\n",
      "  5.02548966  5.00031548  4.98710199  4.97172223  4.94441627  4.92853713\n",
      "  4.90102369  4.8896433   4.86104223  4.85036137  4.811361    4.80020374]\n"
     ]
    }
   ],
   "source": [
    "print(svd.singular_values_)"
   ]
  },
  {
   "cell_type": "code",
   "execution_count": 243,
   "metadata": {},
   "outputs": [
    {
     "data": {
      "text/plain": [
       "(875, 150)"
      ]
     },
     "execution_count": 243,
     "metadata": {},
     "output_type": "execute_result"
    }
   ],
   "source": [
    "result.shape"
   ]
  },
  {
   "cell_type": "code",
   "execution_count": 244,
   "metadata": {},
   "outputs": [
    {
     "data": {
      "text/plain": [
       "0.7220105960151605"
      ]
     },
     "execution_count": 244,
     "metadata": {},
     "output_type": "execute_result"
    }
   ],
   "source": [
    "svd.explained_variance_ratio_.sum()"
   ]
  },
  {
   "cell_type": "code",
   "execution_count": 245,
   "metadata": {},
   "outputs": [],
   "source": [
    "rss = {}\n",
    "for i in range(1, 10):\n",
    "    kmeans = KMeans(n_clusters=i, max_iter=300000).fit(result)\n",
    "    rss[i] = kmeans.inertia_"
   ]
  },
  {
   "cell_type": "code",
   "execution_count": 246,
   "metadata": {},
   "outputs": [
    {
     "data": {
      "text/plain": [
       "[<matplotlib.lines.Line2D at 0x1c4013da90>]"
      ]
     },
     "execution_count": 246,
     "metadata": {},
     "output_type": "execute_result"
    },
    {
     "data": {
      "image/png": "[encoded data removed]",
      "text/plain": [
       "<Figure size 576x576 with 1 Axes>"
      ]
     },
     "metadata": {},
     "output_type": "display_data"
    }
   ],
   "source": [
    "plt.figure(figsize=(8,8))\n",
    "plt.plot(list(rss.keys()), list(rss.values()))"
   ]
  },
  {
   "cell_type": "code",
   "execution_count": 247,
   "metadata": {},
   "outputs": [],
   "source": [
    "kmeans = KMeans(n_clusters=4)\n",
    "kmeans.fit(result)\n",
    "y_kmeans = kmeans.predict(result)"
   ]
  },
  {
   "cell_type": "code",
   "execution_count": 269,
   "metadata": {},
   "outputs": [
    {
     "data": {
      "text/plain": [
       "1    426\n",
       "3    253\n",
       "0    151\n",
       "2     45\n",
       "Name: cluster, dtype: int64"
      ]
     },
     "execution_count": 269,
     "metadata": {},
     "output_type": "execute_result"
    }
   ],
   "source": [
    "DDD = DD.copy()\n",
    "DDD['cluster'] = y_kmeans\n",
    "DDD['cluster'].value_counts()"
   ]
  },
  {
   "cell_type": "code",
   "execution_count": 270,
   "metadata": {},
   "outputs": [],
   "source": [
    "h = DDD[DDD['cluster']==0]\n",
    "hh = DDD[DDD['cluster']==1]\n",
    "hhh = DDD[DDD['cluster']==2]\n",
    "hhhh = DDD[DDD['cluster']==3]"
   ]
  },
  {
   "cell_type": "code",
   "execution_count": 322,
   "metadata": {},
   "outputs": [
    {
     "data": {
      "text/plain": [
       "253"
      ]
     },
     "execution_count": 322,
     "metadata": {},
     "output_type": "execute_result"
    }
   ],
   "source": [
    "len(hhhh)"
   ]
  },
  {
   "cell_type": "code",
   "execution_count": 324,
   "metadata": {},
   "outputs": [],
   "source": [
    "h0 = pd.DataFrame()\n",
    "h0['scores'] = h['scores']\n",
    "h0['cluster'] = [0 for i in range(151)]\n",
    "\n",
    "h1 = pd.DataFrame()\n",
    "h1['scores'] = hh['scores']\n",
    "h1['cluster'] = [1 for i in range(426)]\n",
    "\n",
    "h2 = pd.DataFrame()\n",
    "h2['scores'] = hhh['scores']\n",
    "h2['cluster'] = [2 for i in range(45)]\n",
    "\n",
    "h3 = pd.DataFrame()\n",
    "h3['scores'] = hhhh['scores']\n",
    "h3['cluster'] = [3 for i in range(253)]"
   ]
  },
  {
   "cell_type": "code",
   "execution_count": 326,
   "metadata": {},
   "outputs": [],
   "source": [
    "T = pd.concat([h0, h1, h2, h3])"
   ]
  },
  {
   "cell_type": "code",
   "execution_count": 327,
   "metadata": {},
   "outputs": [
    {
     "data": {
      "text/html": [
       "<div>\n",
       "<style scoped>\n",
       "    .dataframe tbody tr th:only-of-type {\n",
       "        vertical-align: middle;\n",
       "    }\n",
       "\n",
       "    .dataframe tbody tr th {\n",
       "        vertical-align: top;\n",
       "    }\n",
       "\n",
       "    .dataframe thead th {\n",
       "        text-align: right;\n",
       "    }\n",
       "</style>\n",
       "<table border=\"1\" class=\"dataframe\">\n",
       "  <thead>\n",
       "    <tr style=\"text-align: right;\">\n",
       "      <th></th>\n",
       "      <th>scores</th>\n",
       "      <th>cluster</th>\n",
       "    </tr>\n",
       "  </thead>\n",
       "  <tbody>\n",
       "    <tr>\n",
       "      <td>1</td>\n",
       "      <td>1.0</td>\n",
       "      <td>0</td>\n",
       "    </tr>\n",
       "    <tr>\n",
       "      <td>5</td>\n",
       "      <td>-3.0</td>\n",
       "      <td>0</td>\n",
       "    </tr>\n",
       "    <tr>\n",
       "      <td>23</td>\n",
       "      <td>-9.0</td>\n",
       "      <td>0</td>\n",
       "    </tr>\n",
       "    <tr>\n",
       "      <td>26</td>\n",
       "      <td>18.0</td>\n",
       "      <td>0</td>\n",
       "    </tr>\n",
       "    <tr>\n",
       "      <td>31</td>\n",
       "      <td>-13.0</td>\n",
       "      <td>0</td>\n",
       "    </tr>\n",
       "    <tr>\n",
       "      <td>...</td>\n",
       "      <td>...</td>\n",
       "      <td>...</td>\n",
       "    </tr>\n",
       "    <tr>\n",
       "      <td>869</td>\n",
       "      <td>-1.0</td>\n",
       "      <td>3</td>\n",
       "    </tr>\n",
       "    <tr>\n",
       "      <td>870</td>\n",
       "      <td>4.0</td>\n",
       "      <td>3</td>\n",
       "    </tr>\n",
       "    <tr>\n",
       "      <td>875</td>\n",
       "      <td>1.0</td>\n",
       "      <td>3</td>\n",
       "    </tr>\n",
       "    <tr>\n",
       "      <td>877</td>\n",
       "      <td>1.0</td>\n",
       "      <td>3</td>\n",
       "    </tr>\n",
       "    <tr>\n",
       "      <td>883</td>\n",
       "      <td>6.0</td>\n",
       "      <td>3</td>\n",
       "    </tr>\n",
       "  </tbody>\n",
       "</table>\n",
       "<p>875 rows × 2 columns</p>\n",
       "</div>"
      ],
      "text/plain": [
       "     scores  cluster\n",
       "1       1.0        0\n",
       "5      -3.0        0\n",
       "23     -9.0        0\n",
       "26     18.0        0\n",
       "31    -13.0        0\n",
       "..      ...      ...\n",
       "869    -1.0        3\n",
       "870     4.0        3\n",
       "875     1.0        3\n",
       "877     1.0        3\n",
       "883     6.0        3\n",
       "\n",
       "[875 rows x 2 columns]"
      ]
     },
     "execution_count": 327,
     "metadata": {},
     "output_type": "execute_result"
    }
   ],
   "source": [
    "T"
   ]
  },
  {
   "cell_type": "code",
   "execution_count": 330,
   "metadata": {},
   "outputs": [
    {
     "data": {
      "text/plain": [
       "<matplotlib.axes._subplots.AxesSubplot at 0x1c3c0f0f90>"
      ]
     },
     "execution_count": 330,
     "metadata": {},
     "output_type": "execute_result"
    },
    {
     "data": {
      "image/png": "[encoded data removed]",
      "text/plain": [
       "<Figure size 576x576 with 1 Axes>"
      ]
     },
     "metadata": {},
     "output_type": "display_data"
    }
   ],
   "source": [
    "plt.figure(figsize=(8,8))\n",
    "sns.boxplot(x='cluster', y='scores', data=T)"
   ]
  },
  {
   "cell_type": "code",
   "execution_count": 306,
   "metadata": {},
   "outputs": [
    {
     "data": {
      "text/html": [
       "<div>\n",
       "<style scoped>\n",
       "    .dataframe tbody tr th:only-of-type {\n",
       "        vertical-align: middle;\n",
       "    }\n",
       "\n",
       "    .dataframe tbody tr th {\n",
       "        vertical-align: top;\n",
       "    }\n",
       "\n",
       "    .dataframe thead th {\n",
       "        text-align: right;\n",
       "    }\n",
       "</style>\n",
       "<table border=\"1\" class=\"dataframe\">\n",
       "  <thead>\n",
       "    <tr style=\"text-align: right;\">\n",
       "      <th></th>\n",
       "      <th>cluster_0</th>\n",
       "      <th>cluster_1</th>\n",
       "      <th>cluster_2</th>\n",
       "      <th>cluster_3</th>\n",
       "    </tr>\n",
       "  </thead>\n",
       "  <tbody>\n",
       "    <tr>\n",
       "      <td>1</td>\n",
       "      <td>1.0</td>\n",
       "      <td>NaN</td>\n",
       "      <td>NaN</td>\n",
       "      <td>NaN</td>\n",
       "    </tr>\n",
       "    <tr>\n",
       "      <td>5</td>\n",
       "      <td>-3.0</td>\n",
       "      <td>NaN</td>\n",
       "      <td>NaN</td>\n",
       "      <td>NaN</td>\n",
       "    </tr>\n",
       "    <tr>\n",
       "      <td>23</td>\n",
       "      <td>-9.0</td>\n",
       "      <td>NaN</td>\n",
       "      <td>NaN</td>\n",
       "      <td>NaN</td>\n",
       "    </tr>\n",
       "    <tr>\n",
       "      <td>26</td>\n",
       "      <td>18.0</td>\n",
       "      <td>NaN</td>\n",
       "      <td>NaN</td>\n",
       "      <td>NaN</td>\n",
       "    </tr>\n",
       "    <tr>\n",
       "      <td>31</td>\n",
       "      <td>-13.0</td>\n",
       "      <td>NaN</td>\n",
       "      <td>NaN</td>\n",
       "      <td>NaN</td>\n",
       "    </tr>\n",
       "    <tr>\n",
       "      <td>...</td>\n",
       "      <td>...</td>\n",
       "      <td>...</td>\n",
       "      <td>...</td>\n",
       "      <td>...</td>\n",
       "    </tr>\n",
       "    <tr>\n",
       "      <td>823</td>\n",
       "      <td>-3.0</td>\n",
       "      <td>NaN</td>\n",
       "      <td>NaN</td>\n",
       "      <td>NaN</td>\n",
       "    </tr>\n",
       "    <tr>\n",
       "      <td>836</td>\n",
       "      <td>-3.0</td>\n",
       "      <td>NaN</td>\n",
       "      <td>NaN</td>\n",
       "      <td>NaN</td>\n",
       "    </tr>\n",
       "    <tr>\n",
       "      <td>848</td>\n",
       "      <td>-6.0</td>\n",
       "      <td>NaN</td>\n",
       "      <td>NaN</td>\n",
       "      <td>NaN</td>\n",
       "    </tr>\n",
       "    <tr>\n",
       "      <td>859</td>\n",
       "      <td>-3.0</td>\n",
       "      <td>NaN</td>\n",
       "      <td>NaN</td>\n",
       "      <td>NaN</td>\n",
       "    </tr>\n",
       "    <tr>\n",
       "      <td>882</td>\n",
       "      <td>-7.0</td>\n",
       "      <td>NaN</td>\n",
       "      <td>NaN</td>\n",
       "      <td>NaN</td>\n",
       "    </tr>\n",
       "  </tbody>\n",
       "</table>\n",
       "<p>151 rows × 4 columns</p>\n",
       "</div>"
      ],
      "text/plain": [
       "     cluster_0  cluster_1  cluster_2  cluster_3\n",
       "1          1.0        NaN        NaN        NaN\n",
       "5         -3.0        NaN        NaN        NaN\n",
       "23        -9.0        NaN        NaN        NaN\n",
       "26        18.0        NaN        NaN        NaN\n",
       "31       -13.0        NaN        NaN        NaN\n",
       "..         ...        ...        ...        ...\n",
       "823       -3.0        NaN        NaN        NaN\n",
       "836       -3.0        NaN        NaN        NaN\n",
       "848       -6.0        NaN        NaN        NaN\n",
       "859       -3.0        NaN        NaN        NaN\n",
       "882       -7.0        NaN        NaN        NaN\n",
       "\n",
       "[151 rows x 4 columns]"
      ]
     },
     "execution_count": 306,
     "metadata": {},
     "output_type": "execute_result"
    }
   ],
   "source": [
    "G = pd.DataFrame()\n",
    "G['cluster_0'] = h['scores']\n",
    "G['cluster_1'] = hh['scores']\n",
    "G['cluster_2'] = hhh['scores']\n",
    "G['cluster_3'] = hhhh['scores']\n",
    "G"
   ]
  },
  {
   "cell_type": "code",
   "execution_count": null,
   "metadata": {},
   "outputs": [],
   "source": []
  },
  {
   "cell_type": "code",
   "execution_count": 342,
   "metadata": {},
   "outputs": [],
   "source": [
    "class L_stats(object):\n",
    "    def __init__(self, raw, col_name):\n",
    "        self.raw = raw\n",
    "        self.col_name = col_name\n",
    "        \n",
    "    def tokenized(self):\n",
    "        tokens = []\n",
    "        for review in self.raw[self.col_name]:\n",
    "            tokens.append([w.lower() for w in nltk.word_tokenize(review) if len(w)>1])\n",
    "        return tokens\n",
    "    \n",
    "    def bi_token(self):\n",
    "        bitokens = []\n",
    "        tokendata = self.tokenized()\n",
    "        for review in tokendata:\n",
    "            bitokens.append(list(nltk.bigrams(review)))\n",
    "        return bitokens\n",
    "    \n",
    "    def vocab(self):\n",
    "        voc = []\n",
    "        for review in self.raw[self.col_name]:\n",
    "            voc += [w.lower() for w in nltk.word_tokenize(review) if len(w)>1]\n",
    "        return voc\n",
    "    \n",
    "    def tokenized_uni(self):\n",
    "        tokens = []\n",
    "        for review in self.raw[self.col_name]:\n",
    "            tokens.append(list(set([w.lower() for w in nltk.word_tokenize(review) if len(w)>1])))\n",
    "        return tokens\n",
    "    \n",
    "    def vocab_uni(self):\n",
    "        voc = []\n",
    "        for review in self.raw[self.col_name]:\n",
    "            voc += [w.lower() for w in nltk.word_tokenize(review) if len(w)>1]\n",
    "        return list(set(voc))\n",
    "    \n",
    "    def avg_word_count(self):\n",
    "        avg = 0\n",
    "        v = self.tokenized()\n",
    "        for review in v:\n",
    "            avg += (len(review)/len(v))\n",
    "        avg = np.round(avg, 2)\n",
    "        return avg\n",
    "    \n",
    "    def tokenized_no_stops(self):\n",
    "        DF = []\n",
    "        c = self.tokenized()\n",
    "        for r in c:\n",
    "            DF.append([w.lower() for w in r if w.lower() not in stopwords.words('english')])\n",
    "        return DF\n",
    "    \n",
    "    def vocab_no_stops(self):\n",
    "        v = self.vocab()\n",
    "        d = [w.lower() for w in v if w.lower() not in stopwords.words('english')]\n",
    "        return d\n",
    "    \n",
    "    def count_stats(self):\n",
    "        print(\"Total number of words in all reviews: \", len(self.vocab()))\n",
    "        print()\n",
    "        print(\"Average number of words in each review: \", self.avg_word_count())\n",
    "        print()\n",
    "        print(\"Total number of words in all reviews without stopwords\", len(self.vocab_no_stops()))\n",
    "         \n",
    "    def frequencies(self):\n",
    "        print(\"Top 30 most frequently occurring words in the dataset, along with their count:\")\n",
    "        print()\n",
    "        var2 = nltk.FreqDist(self.vocab()).most_common(30)\n",
    "        for i in range(30):\n",
    "            print(var2[i])\n",
    "    \n",
    "    def frequencies_stop(self):\n",
    "        print(\"Top 60 most frequently occurring words in the data without stops, along with their count:\")\n",
    "        print()\n",
    "        var = nltk.FreqDist(self.vocab_no_stops()).most_common(60)\n",
    "        for i in range(60):\n",
    "            print(var[i])\n",
    "    \n",
    "    def hapaxes(self):\n",
    "        print(\"Top 60 most rare words that occur only once in the review dataset:\")\n",
    "        print()\n",
    "        vvv = self.vocab()\n",
    "        var3 = nltk.FreqDist(vvv).hapaxes()\n",
    "        for i in range(60):\n",
    "            print(var3[i])\n",
    "            \n",
    "    def collocation(self):\n",
    "        print(\"Most frequent bigrams (pairs of words): \")\n",
    "        print()\n",
    "        v4 = self.vocab()\n",
    "        t = nltk.Text(v4)\n",
    "        print(t.collocations_list())\n",
    "        #print()\n",
    "        #dft = self.tokenized()\n",
    "        #for r in dft:\n",
    "            #t = nltk.Text(r)\n",
    "            #if t.collocations() != None:\n",
    "                #print(t.collocations())\n",
    "                \n",
    "    def concord(self, word):\n",
    "        vs = self.vocab()\n",
    "        tt = nltk.Text(vs)\n",
    "        print(tt.concordance(word))\n",
    "        \n",
    "    def find_bigrams(self, word):\n",
    "        vv = self.vocab()\n",
    "        t6 = nltk.Text(vv)\n",
    "        print(t6.findall(r'<{}> <.*>'.format(word)))\n",
    "        \n",
    "    def nouns(self):\n",
    "        vvs = self.vocab()\n",
    "        nouns = [w for (w, n) in nltk.pos_tag(vvs) if n in ['NN', 'NNP']]\n",
    "        return nouns"
   ]
  },
  {
   "cell_type": "code",
   "execution_count": 343,
   "metadata": {},
   "outputs": [],
   "source": [
    "d = L_stats(h, 'reviews')\n",
    "dd = L_stats(hh, 'reviews')\n",
    "ddd = L_stats(hhh, 'reviews')\n",
    "dddd = L_stats(hhhh, 'reviews')"
   ]
  },
  {
   "cell_type": "code",
   "execution_count": null,
   "metadata": {},
   "outputs": [],
   "source": []
  },
  {
   "cell_type": "code",
   "execution_count": 337,
   "metadata": {},
   "outputs": [
    {
     "name": "stdout",
     "output_type": "stream",
     "text": [
      "Total number of words in all reviews:  4050\n",
      "\n",
      "Average number of words in each review:  26.82\n",
      "\n",
      "Total number of words in all reviews without stopwords 3405\n"
     ]
    }
   ],
   "source": [
    "d.count_stats()"
   ]
  },
  {
   "cell_type": "code",
   "execution_count": 338,
   "metadata": {},
   "outputs": [
    {
     "name": "stdout",
     "output_type": "stream",
     "text": [
      "Total number of words in all reviews:  3934\n",
      "\n",
      "Average number of words in each review:  9.23\n",
      "\n",
      "Total number of words in all reviews without stopwords 3502\n"
     ]
    }
   ],
   "source": [
    "dd.count_stats()"
   ]
  },
  {
   "cell_type": "code",
   "execution_count": 339,
   "metadata": {},
   "outputs": [
    {
     "name": "stdout",
     "output_type": "stream",
     "text": [
      "Total number of words in all reviews:  2730\n",
      "\n",
      "Average number of words in each review:  60.67\n",
      "\n",
      "Total number of words in all reviews without stopwords 2412\n"
     ]
    }
   ],
   "source": [
    "ddd.count_stats()"
   ]
  },
  {
   "cell_type": "code",
   "execution_count": 340,
   "metadata": {},
   "outputs": [
    {
     "name": "stdout",
     "output_type": "stream",
     "text": [
      "Total number of words in all reviews:  3294\n",
      "\n",
      "Average number of words in each review:  13.02\n",
      "\n",
      "Total number of words in all reviews without stopwords 2971\n"
     ]
    }
   ],
   "source": [
    "dddd.count_stats()"
   ]
  },
  {
   "cell_type": "code",
   "execution_count": 358,
   "metadata": {},
   "outputs": [
    {
     "data": {
      "text/plain": [
       "LEN    111\n",
       "HP      40\n",
       "Name: brands, dtype: int64"
      ]
     },
     "execution_count": 358,
     "metadata": {},
     "output_type": "execute_result"
    }
   ],
   "source": [
    "h['brands'].value_counts()"
   ]
  },
  {
   "cell_type": "code",
   "execution_count": 299,
   "metadata": {},
   "outputs": [
    {
     "data": {
      "text/plain": [
       "6.068032255397018"
      ]
     },
     "execution_count": 299,
     "metadata": {},
     "output_type": "execute_result"
    }
   ],
   "source": [
    "h['scores'].std()"
   ]
  },
  {
   "cell_type": "code",
   "execution_count": 303,
   "metadata": {},
   "outputs": [
    {
     "data": {
      "text/plain": [
       "{'whiskers': [<matplotlib.lines.Line2D at 0x1c3bc81310>,\n",
       "  <matplotlib.lines.Line2D at 0x1c3bc818d0>],\n",
       " 'caps': [<matplotlib.lines.Line2D at 0x1c3bc81dd0>,\n",
       "  <matplotlib.lines.Line2D at 0x1c3bc79750>],\n",
       " 'boxes': [<matplotlib.lines.Line2D at 0x1c3bc79710>],\n",
       " 'medians': [<matplotlib.lines.Line2D at 0x1c3bd34850>],\n",
       " 'fliers': [<matplotlib.lines.Line2D at 0x1c3bd34d50>],\n",
       " 'means': []}"
      ]
     },
     "execution_count": 303,
     "metadata": {},
     "output_type": "execute_result"
    },
    {
     "data": {
      "image/png": "[encoded data removed]",
      "text/plain": [
       "<Figure size 576x396 with 1 Axes>"
      ]
     },
     "metadata": {},
     "output_type": "display_data"
    }
   ],
   "source": [
    "plt.boxplot(hhhh['scores'])"
   ]
  },
  {
   "cell_type": "code",
   "execution_count": 344,
   "metadata": {},
   "outputs": [
    {
     "name": "stdout",
     "output_type": "stream",
     "text": [
      "Top 60 most frequently occurring words in the data without stops, along with their count:\n",
      "\n",
      "('laptop', 120)\n",
      "(\"n't\", 59)\n",
      "('buy', 58)\n",
      "('product', 43)\n",
      "('slow', 42)\n",
      "('even', 34)\n",
      "('working', 30)\n",
      "('amazon', 29)\n",
      "('battery', 29)\n",
      "('worst', 26)\n",
      "('one', 23)\n",
      "('money', 23)\n",
      "('better', 23)\n",
      "('time', 22)\n",
      "('bad', 22)\n",
      "('bought', 20)\n",
      "('lenovo', 19)\n",
      "('return', 18)\n",
      "('like', 18)\n",
      "('life', 17)\n",
      "('poor', 17)\n",
      "('also', 17)\n",
      "('service', 16)\n",
      "('months', 16)\n",
      "('takes', 16)\n",
      "('quality', 16)\n",
      "('work', 16)\n",
      "('please', 16)\n",
      "('ever', 15)\n",
      "('use', 15)\n",
      "('days', 15)\n",
      "('purchase', 15)\n",
      "('processor', 14)\n",
      "('used', 13)\n",
      "('item', 13)\n",
      "('go', 13)\n",
      "('start', 13)\n",
      "('using', 13)\n",
      "('purchased', 13)\n",
      "('experience', 12)\n",
      "('customer', 12)\n",
      "('performance', 12)\n",
      "('ram', 12)\n",
      "('waste', 11)\n",
      "('camera', 11)\n",
      "('online', 11)\n",
      "('price', 11)\n",
      "('display', 11)\n",
      "('want', 10)\n",
      "('month', 10)\n",
      "('new', 10)\n",
      "('suggest', 10)\n",
      "('take', 10)\n",
      "('issue', 10)\n",
      "('still', 10)\n",
      "('never', 9)\n",
      "('problem', 9)\n",
      "('old', 9)\n",
      "('since', 9)\n",
      "('warranty', 9)\n"
     ]
    }
   ],
   "source": [
    "d.frequencies_stop()"
   ]
  },
  {
   "cell_type": "code",
   "execution_count": 345,
   "metadata": {},
   "outputs": [
    {
     "name": "stdout",
     "output_type": "stream",
     "text": [
      "Top 60 most frequently occurring words in the data without stops, along with their count:\n",
      "\n",
      "('laptop', 33)\n",
      "('good', 32)\n",
      "('battery', 31)\n",
      "('quality', 27)\n",
      "('performance', 23)\n",
      "('office', 20)\n",
      "('also', 18)\n",
      "('ssd', 18)\n",
      "('price', 16)\n",
      "(\"n't\", 16)\n",
      "('like', 16)\n",
      "('use', 16)\n",
      "('one', 15)\n",
      "('light', 15)\n",
      "('go', 15)\n",
      "('windows', 14)\n",
      "('hours', 14)\n",
      "('weight', 14)\n",
      "('fast', 13)\n",
      "('processor', 13)\n",
      "('backup', 13)\n",
      "('buy', 12)\n",
      "('ms', 12)\n",
      "('ram', 12)\n",
      "('cons', 12)\n",
      "('better', 12)\n",
      "('build', 12)\n",
      "('overall', 11)\n",
      "('laptops', 11)\n",
      "('life', 11)\n",
      "('pros', 11)\n",
      "('gaming', 11)\n",
      "('display', 11)\n",
      "('time', 10)\n",
      "('usage', 10)\n",
      "('product', 10)\n",
      "('poor', 10)\n",
      "('using', 9)\n",
      "('review', 9)\n",
      "('well', 9)\n",
      "('average', 9)\n",
      "('design', 9)\n",
      "('installed', 9)\n",
      "('money', 8)\n",
      "('value', 8)\n",
      "('gb', 8)\n",
      "('want', 8)\n",
      "('students', 8)\n",
      "('low', 8)\n",
      "('could', 8)\n",
      "('sound', 8)\n",
      "('much', 8)\n",
      "('system', 8)\n",
      "('camera', 8)\n",
      "('range', 8)\n",
      "('first', 8)\n",
      "(\"'s\", 8)\n",
      "('work', 7)\n",
      "('takes', 7)\n",
      "('purchased', 7)\n"
     ]
    }
   ],
   "source": [
    "ddd.frequencies_stop()"
   ]
  },
  {
   "cell_type": "code",
   "execution_count": 183,
   "metadata": {},
   "outputs": [
    {
     "name": "stdout",
     "output_type": "stream",
     "text": [
      "Top 30 most frequently occurring words in the data without stops, along with their count:\n",
      "\n",
      "('battery', 50)\n",
      "('good', 47)\n",
      "('quality', 44)\n",
      "('laptop', 36)\n",
      "('performance', 27)\n",
      "('also', 22)\n",
      "('life', 20)\n",
      "('ssd', 18)\n",
      "('price', 18)\n",
      "('office', 18)\n",
      "('light', 17)\n",
      "('hours', 17)\n",
      "('backup', 17)\n",
      "('camera', 17)\n",
      "('one', 16)\n",
      "('weight', 16)\n",
      "(\"n't\", 15)\n",
      "('gaming', 15)\n",
      "('best', 14)\n",
      "('like', 13)\n",
      "('cons', 13)\n",
      "('windows', 13)\n",
      "('build', 13)\n",
      "('go', 13)\n",
      "('use', 13)\n",
      "('poor', 13)\n",
      "('fast', 12)\n",
      "('low', 12)\n",
      "('pros', 12)\n",
      "('processor', 12)\n"
     ]
    }
   ],
   "source": [
    "ddd.frequencies_stop()"
   ]
  },
  {
   "cell_type": "code",
   "execution_count": 500,
   "metadata": {},
   "outputs": [
    {
     "name": "stdout",
     "output_type": "stream",
     "text": [
      "Displaying 25 of 42 matches:\n",
      " processing rubbish laptop purchased slow absolutely ram years sincere than fa\n",
      " since bought like table days laptop slow surface within mins it heating than \n",
      "ng urgent wrost battery laptop money slow also backup dont not refundable buy \n",
      "hangs go money play well like laptop slow alot invest more less will start ple\n",
      "ngf only do n't clicking laptop show slow working making showpiece running pro\n",
      "may total amazon play support laptop slow plastic fact extremely screen acknow\n",
      "e click maximum after battery laptop slow also ever wait mins have worst hours\n",
      "ad follow warranty made attended did slow working response replacement request\n",
      " should get serving there did laptop slow option don little exchange purpose d\n",
      "processors took refreshed one laptop slow almost suggest performance mins wont\n",
      "utes keyboard months take use laptop slow working refresh more screen 've it '\n",
      "only saved speed window trash laptop slow one 's using seconds react even else\n",
      "dated hand amazon should system only slow windows working customer done before\n",
      "y speed use do n't who laptop advice slow gud little ram software looking coll\n",
      "week believe there matter who laptop slow using prices concerned phone size th\n",
      "a n't gaming like do n't laptop time slow plastic possible is n't company big \n",
      "d kingston warranty laptop purchased slow ssd called pay extremely brand key d\n",
      "akes open sturdy there chrome laptop slow possible satisfied lot crappy tab ev\n",
      "time lagging felt open do n't laptop slow time extremely really comes their to\n",
      "tic recommend seriously laptop never slow cycle ram wastage biggest applicatio\n",
      "hing work said seriously take laptop slow ram olds contacted stopped feel wort\n",
      "hases all buying notification laptop slow time basis softwares purpose sorfrwe\n",
      "ivery laggy like admit do n't laptop slow ssd using drive quick due laptops le\n",
      "ry money horrible wait spoiling like slow hell brand duplicate goodwill start \n",
      "t awesome have will core used laptop slow processor intel suggest which buy ga\n",
      "None\n"
     ]
    }
   ],
   "source": [
    "d.concord('slow')"
   ]
  },
  {
   "cell_type": "code",
   "execution_count": 503,
   "metadata": {},
   "outputs": [
    {
     "data": {
      "text/plain": [
       "HP     23\n",
       "LEN    22\n",
       "Name: brands, dtype: int64"
      ]
     },
     "execution_count": 503,
     "metadata": {},
     "output_type": "execute_result"
    }
   ],
   "source": [
    "hhh['brands'].value_counts()"
   ]
  },
  {
   "cell_type": "code",
   "execution_count": 502,
   "metadata": {},
   "outputs": [
    {
     "data": {
      "text/html": [
       "<div>\n",
       "<style scoped>\n",
       "    .dataframe tbody tr th:only-of-type {\n",
       "        vertical-align: middle;\n",
       "    }\n",
       "\n",
       "    .dataframe tbody tr th {\n",
       "        vertical-align: top;\n",
       "    }\n",
       "\n",
       "    .dataframe thead th {\n",
       "        text-align: right;\n",
       "    }\n",
       "</style>\n",
       "<table border=\"1\" class=\"dataframe\">\n",
       "  <thead>\n",
       "    <tr style=\"text-align: right;\">\n",
       "      <th></th>\n",
       "      <th>Unnamed: 0</th>\n",
       "      <th>Unnamed: 0.1</th>\n",
       "      <th>reviews</th>\n",
       "      <th>brands</th>\n",
       "      <th>scores</th>\n",
       "      <th>performance</th>\n",
       "      <th>customers</th>\n",
       "      <th>pricelooks</th>\n",
       "      <th>cluster</th>\n",
       "    </tr>\n",
       "  </thead>\n",
       "  <tbody>\n",
       "    <tr>\n",
       "      <td>21</td>\n",
       "      <td>21</td>\n",
       "      <td>21</td>\n",
       "      <td>good after hour activate also writing performa...</td>\n",
       "      <td>HP</td>\n",
       "      <td>9.0</td>\n",
       "      <td>1</td>\n",
       "      <td>0</td>\n",
       "      <td>1</td>\n",
       "      <td>2</td>\n",
       "    </tr>\n",
       "    <tr>\n",
       "      <td>24</td>\n",
       "      <td>24</td>\n",
       "      <td>24</td>\n",
       "      <td>upgrade single still super rams fast setup she...</td>\n",
       "      <td>HP</td>\n",
       "      <td>11.0</td>\n",
       "      <td>1</td>\n",
       "      <td>1</td>\n",
       "      <td>1</td>\n",
       "      <td>2</td>\n",
       "    </tr>\n",
       "    <tr>\n",
       "      <td>27</td>\n",
       "      <td>27</td>\n",
       "      <td>27</td>\n",
       "      <td>no single still boot starts while fast crystal...</td>\n",
       "      <td>HP</td>\n",
       "      <td>30.0</td>\n",
       "      <td>1</td>\n",
       "      <td>1</td>\n",
       "      <td>1</td>\n",
       "      <td>2</td>\n",
       "    </tr>\n",
       "    <tr>\n",
       "      <td>44</td>\n",
       "      <td>44</td>\n",
       "      <td>44</td>\n",
       "      <td>no prodiess good after would processor also bo...</td>\n",
       "      <td>HP</td>\n",
       "      <td>17.0</td>\n",
       "      <td>1</td>\n",
       "      <td>0</td>\n",
       "      <td>1</td>\n",
       "      <td>2</td>\n",
       "    </tr>\n",
       "    <tr>\n",
       "      <td>49</td>\n",
       "      <td>49</td>\n",
       "      <td>49</td>\n",
       "      <td>good consider processor also specifications lu...</td>\n",
       "      <td>HP</td>\n",
       "      <td>8.0</td>\n",
       "      <td>1</td>\n",
       "      <td>0</td>\n",
       "      <td>1</td>\n",
       "      <td>2</td>\n",
       "    </tr>\n",
       "    <tr>\n",
       "      <td>120</td>\n",
       "      <td>120</td>\n",
       "      <td>120</td>\n",
       "      <td>gen single good saving weak would alone proces...</td>\n",
       "      <td>HP</td>\n",
       "      <td>17.0</td>\n",
       "      <td>1</td>\n",
       "      <td>1</td>\n",
       "      <td>1</td>\n",
       "      <td>2</td>\n",
       "    </tr>\n",
       "    <tr>\n",
       "      <td>121</td>\n",
       "      <td>121</td>\n",
       "      <td>121</td>\n",
       "      <td>no life good track still here design performan...</td>\n",
       "      <td>HP</td>\n",
       "      <td>24.0</td>\n",
       "      <td>1</td>\n",
       "      <td>0</td>\n",
       "      <td>1</td>\n",
       "      <td>2</td>\n",
       "    </tr>\n",
       "    <tr>\n",
       "      <td>132</td>\n",
       "      <td>132</td>\n",
       "      <td>132</td>\n",
       "      <td>gen installed no could good web backlight fest...</td>\n",
       "      <td>HP</td>\n",
       "      <td>11.0</td>\n",
       "      <td>1</td>\n",
       "      <td>0</td>\n",
       "      <td>1</td>\n",
       "      <td>2</td>\n",
       "    </tr>\n",
       "    <tr>\n",
       "      <td>140</td>\n",
       "      <td>140</td>\n",
       "      <td>140</td>\n",
       "      <td>touchpad quite good heavily speakers which pri...</td>\n",
       "      <td>HP</td>\n",
       "      <td>18.0</td>\n",
       "      <td>1</td>\n",
       "      <td>1</td>\n",
       "      <td>1</td>\n",
       "      <td>2</td>\n",
       "    </tr>\n",
       "    <tr>\n",
       "      <td>144</td>\n",
       "      <td>144</td>\n",
       "      <td>144</td>\n",
       "      <td>needful single viable cover probably budget fa...</td>\n",
       "      <td>HP</td>\n",
       "      <td>13.0</td>\n",
       "      <td>1</td>\n",
       "      <td>1</td>\n",
       "      <td>1</td>\n",
       "      <td>2</td>\n",
       "    </tr>\n",
       "    <tr>\n",
       "      <td>150</td>\n",
       "      <td>150</td>\n",
       "      <td>150</td>\n",
       "      <td>could good camera hour also complete performan...</td>\n",
       "      <td>HP</td>\n",
       "      <td>10.0</td>\n",
       "      <td>1</td>\n",
       "      <td>0</td>\n",
       "      <td>1</td>\n",
       "      <td>2</td>\n",
       "    </tr>\n",
       "    <tr>\n",
       "      <td>155</td>\n",
       "      <td>155</td>\n",
       "      <td>155</td>\n",
       "      <td>lockdown feel major cpu new hope wfh delighted...</td>\n",
       "      <td>HP</td>\n",
       "      <td>-6.0</td>\n",
       "      <td>1</td>\n",
       "      <td>1</td>\n",
       "      <td>1</td>\n",
       "      <td>2</td>\n",
       "    </tr>\n",
       "    <tr>\n",
       "      <td>157</td>\n",
       "      <td>157</td>\n",
       "      <td>157</td>\n",
       "      <td>portable activate left thickness price instead...</td>\n",
       "      <td>HP</td>\n",
       "      <td>18.0</td>\n",
       "      <td>1</td>\n",
       "      <td>1</td>\n",
       "      <td>1</td>\n",
       "      <td>2</td>\n",
       "    </tr>\n",
       "    <tr>\n",
       "      <td>160</td>\n",
       "      <td>160</td>\n",
       "      <td>160</td>\n",
       "      <td>other where quickly could air placed after hea...</td>\n",
       "      <td>HP</td>\n",
       "      <td>6.0</td>\n",
       "      <td>1</td>\n",
       "      <td>0</td>\n",
       "      <td>1</td>\n",
       "      <td>2</td>\n",
       "    </tr>\n",
       "    <tr>\n",
       "      <td>163</td>\n",
       "      <td>163</td>\n",
       "      <td>163</td>\n",
       "      <td>last also super which not based buy product pr...</td>\n",
       "      <td>HP</td>\n",
       "      <td>14.0</td>\n",
       "      <td>1</td>\n",
       "      <td>1</td>\n",
       "      <td>1</td>\n",
       "      <td>2</td>\n",
       "    </tr>\n",
       "    <tr>\n",
       "      <td>244</td>\n",
       "      <td>244</td>\n",
       "      <td>244</td>\n",
       "      <td>super settings go must sale gaming sata speed ...</td>\n",
       "      <td>HP</td>\n",
       "      <td>14.0</td>\n",
       "      <td>1</td>\n",
       "      <td>1</td>\n",
       "      <td>1</td>\n",
       "      <td>2</td>\n",
       "    </tr>\n",
       "    <tr>\n",
       "      <td>246</td>\n",
       "      <td>246</td>\n",
       "      <td>246</td>\n",
       "      <td>already according no some whole after still ma...</td>\n",
       "      <td>HP</td>\n",
       "      <td>5.0</td>\n",
       "      <td>1</td>\n",
       "      <td>1</td>\n",
       "      <td>1</td>\n",
       "      <td>2</td>\n",
       "    </tr>\n",
       "    <tr>\n",
       "      <td>260</td>\n",
       "      <td>260</td>\n",
       "      <td>260</td>\n",
       "      <td>ghz good would however studio old boast perfor...</td>\n",
       "      <td>HP</td>\n",
       "      <td>5.0</td>\n",
       "      <td>1</td>\n",
       "      <td>1</td>\n",
       "      <td>1</td>\n",
       "      <td>2</td>\n",
       "    </tr>\n",
       "    <tr>\n",
       "      <td>261</td>\n",
       "      <td>261</td>\n",
       "      <td>261</td>\n",
       "      <td>could good processor also faster purchase perf...</td>\n",
       "      <td>HP</td>\n",
       "      <td>18.0</td>\n",
       "      <td>1</td>\n",
       "      <td>0</td>\n",
       "      <td>0</td>\n",
       "      <td>2</td>\n",
       "    </tr>\n",
       "    <tr>\n",
       "      <td>277</td>\n",
       "      <td>277</td>\n",
       "      <td>277</td>\n",
       "      <td>life no good first expect lap battary not dvd ...</td>\n",
       "      <td>HP</td>\n",
       "      <td>3.0</td>\n",
       "      <td>1</td>\n",
       "      <td>1</td>\n",
       "      <td>1</td>\n",
       "      <td>2</td>\n",
       "    </tr>\n",
       "    <tr>\n",
       "      <td>322</td>\n",
       "      <td>322</td>\n",
       "      <td>322</td>\n",
       "      <td>good design performance not licensed have need...</td>\n",
       "      <td>HP</td>\n",
       "      <td>13.0</td>\n",
       "      <td>1</td>\n",
       "      <td>0</td>\n",
       "      <td>1</td>\n",
       "      <td>2</td>\n",
       "    </tr>\n",
       "    <tr>\n",
       "      <td>353</td>\n",
       "      <td>353</td>\n",
       "      <td>353</td>\n",
       "      <td>no some good extra normal initially performanc...</td>\n",
       "      <td>HP</td>\n",
       "      <td>8.0</td>\n",
       "      <td>1</td>\n",
       "      <td>1</td>\n",
       "      <td>1</td>\n",
       "      <td>2</td>\n",
       "    </tr>\n",
       "    <tr>\n",
       "      <td>359</td>\n",
       "      <td>359</td>\n",
       "      <td>359</td>\n",
       "      <td>directly no installed classes seller after nor...</td>\n",
       "      <td>HP</td>\n",
       "      <td>1.0</td>\n",
       "      <td>1</td>\n",
       "      <td>1</td>\n",
       "      <td>1</td>\n",
       "      <td>2</td>\n",
       "    </tr>\n",
       "    <tr>\n",
       "      <td>409</td>\n",
       "      <td>409</td>\n",
       "      <td>409</td>\n",
       "      <td>other some good cases write would dont receive...</td>\n",
       "      <td>LEN</td>\n",
       "      <td>-2.0</td>\n",
       "      <td>1</td>\n",
       "      <td>1</td>\n",
       "      <td>1</td>\n",
       "      <td>2</td>\n",
       "    </tr>\n",
       "    <tr>\n",
       "      <td>412</td>\n",
       "      <td>412</td>\n",
       "      <td>412</td>\n",
       "      <td>no budget heavy programming gaming present gpu...</td>\n",
       "      <td>LEN</td>\n",
       "      <td>21.0</td>\n",
       "      <td>1</td>\n",
       "      <td>1</td>\n",
       "      <td>1</td>\n",
       "      <td>2</td>\n",
       "    </tr>\n",
       "    <tr>\n",
       "      <td>414</td>\n",
       "      <td>414</td>\n",
       "      <td>414</td>\n",
       "      <td>no hear feel headset while budget length all h...</td>\n",
       "      <td>LEN</td>\n",
       "      <td>27.0</td>\n",
       "      <td>1</td>\n",
       "      <td>1</td>\n",
       "      <td>1</td>\n",
       "      <td>2</td>\n",
       "    </tr>\n",
       "    <tr>\n",
       "      <td>417</td>\n",
       "      <td>417</td>\n",
       "      <td>417</td>\n",
       "      <td>seller feel would still layout grainy run whil...</td>\n",
       "      <td>LEN</td>\n",
       "      <td>-14.0</td>\n",
       "      <td>1</td>\n",
       "      <td>1</td>\n",
       "      <td>1</td>\n",
       "      <td>2</td>\n",
       "    </tr>\n",
       "    <tr>\n",
       "      <td>418</td>\n",
       "      <td>418</td>\n",
       "      <td>418</td>\n",
       "      <td>installed life good advisable used longer firs...</td>\n",
       "      <td>LEN</td>\n",
       "      <td>6.0</td>\n",
       "      <td>1</td>\n",
       "      <td>0</td>\n",
       "      <td>1</td>\n",
       "      <td>2</td>\n",
       "    </tr>\n",
       "    <tr>\n",
       "      <td>423</td>\n",
       "      <td>423</td>\n",
       "      <td>423</td>\n",
       "      <td>installed no solved good processor normal perf...</td>\n",
       "      <td>LEN</td>\n",
       "      <td>0.0</td>\n",
       "      <td>1</td>\n",
       "      <td>1</td>\n",
       "      <td>1</td>\n",
       "      <td>2</td>\n",
       "    </tr>\n",
       "    <tr>\n",
       "      <td>435</td>\n",
       "      <td>435</td>\n",
       "      <td>435</td>\n",
       "      <td>classes good cameras would camera used disappo...</td>\n",
       "      <td>LEN</td>\n",
       "      <td>-2.0</td>\n",
       "      <td>1</td>\n",
       "      <td>1</td>\n",
       "      <td>1</td>\n",
       "      <td>2</td>\n",
       "    </tr>\n",
       "    <tr>\n",
       "      <td>439</td>\n",
       "      <td>439</td>\n",
       "      <td>439</td>\n",
       "      <td>presentation playing while go fast students ga...</td>\n",
       "      <td>LEN</td>\n",
       "      <td>18.0</td>\n",
       "      <td>1</td>\n",
       "      <td>1</td>\n",
       "      <td>1</td>\n",
       "      <td>2</td>\n",
       "    </tr>\n",
       "    <tr>\n",
       "      <td>444</td>\n",
       "      <td>444</td>\n",
       "      <td>444</td>\n",
       "      <td>classes other good china expect performance cp...</td>\n",
       "      <td>LEN</td>\n",
       "      <td>5.0</td>\n",
       "      <td>1</td>\n",
       "      <td>0</td>\n",
       "      <td>1</td>\n",
       "      <td>2</td>\n",
       "    </tr>\n",
       "    <tr>\n",
       "      <td>476</td>\n",
       "      <td>476</td>\n",
       "      <td>476</td>\n",
       "      <td>life good headphone however normal clear not m...</td>\n",
       "      <td>LEN</td>\n",
       "      <td>10.0</td>\n",
       "      <td>1</td>\n",
       "      <td>0</td>\n",
       "      <td>1</td>\n",
       "      <td>2</td>\n",
       "    </tr>\n",
       "    <tr>\n",
       "      <td>684</td>\n",
       "      <td>684</td>\n",
       "      <td>684</td>\n",
       "      <td>gen no changes some lenovo processor two also ...</td>\n",
       "      <td>LEN</td>\n",
       "      <td>6.0</td>\n",
       "      <td>1</td>\n",
       "      <td>0</td>\n",
       "      <td>1</td>\n",
       "      <td>2</td>\n",
       "    </tr>\n",
       "    <tr>\n",
       "      <td>685</td>\n",
       "      <td>685</td>\n",
       "      <td>685</td>\n",
       "      <td>genuine installed no category extra camera ava...</td>\n",
       "      <td>LEN</td>\n",
       "      <td>2.0</td>\n",
       "      <td>1</td>\n",
       "      <td>1</td>\n",
       "      <td>1</td>\n",
       "      <td>2</td>\n",
       "    </tr>\n",
       "    <tr>\n",
       "      <td>687</td>\n",
       "      <td>687</td>\n",
       "      <td>687</td>\n",
       "      <td>good would give processor also install perform...</td>\n",
       "      <td>LEN</td>\n",
       "      <td>5.0</td>\n",
       "      <td>1</td>\n",
       "      <td>0</td>\n",
       "      <td>1</td>\n",
       "      <td>2</td>\n",
       "    </tr>\n",
       "    <tr>\n",
       "      <td>690</td>\n",
       "      <td>690</td>\n",
       "      <td>690</td>\n",
       "      <td>installed no good today after first proper not...</td>\n",
       "      <td>LEN</td>\n",
       "      <td>6.0</td>\n",
       "      <td>1</td>\n",
       "      <td>1</td>\n",
       "      <td>1</td>\n",
       "      <td>2</td>\n",
       "    </tr>\n",
       "    <tr>\n",
       "      <td>697</td>\n",
       "      <td>697</td>\n",
       "      <td>697</td>\n",
       "      <td>life used lenovo design aspiring performance w...</td>\n",
       "      <td>LEN</td>\n",
       "      <td>5.0</td>\n",
       "      <td>1</td>\n",
       "      <td>0</td>\n",
       "      <td>1</td>\n",
       "      <td>2</td>\n",
       "    </tr>\n",
       "    <tr>\n",
       "      <td>698</td>\n",
       "      <td>698</td>\n",
       "      <td>698</td>\n",
       "      <td>no quite last good after extra camera availabl...</td>\n",
       "      <td>LEN</td>\n",
       "      <td>3.0</td>\n",
       "      <td>1</td>\n",
       "      <td>1</td>\n",
       "      <td>1</td>\n",
       "      <td>2</td>\n",
       "    </tr>\n",
       "    <tr>\n",
       "      <td>699</td>\n",
       "      <td>699</td>\n",
       "      <td>699</td>\n",
       "      <td>installed life seller camera lenovo two old al...</td>\n",
       "      <td>LEN</td>\n",
       "      <td>-4.0</td>\n",
       "      <td>1</td>\n",
       "      <td>1</td>\n",
       "      <td>0</td>\n",
       "      <td>2</td>\n",
       "    </tr>\n",
       "    <tr>\n",
       "      <td>702</td>\n",
       "      <td>702</td>\n",
       "      <td>702</td>\n",
       "      <td>excellent good write camera feel design add su...</td>\n",
       "      <td>LEN</td>\n",
       "      <td>14.0</td>\n",
       "      <td>1</td>\n",
       "      <td>1</td>\n",
       "      <td>1</td>\n",
       "      <td>2</td>\n",
       "    </tr>\n",
       "    <tr>\n",
       "      <td>792</td>\n",
       "      <td>792</td>\n",
       "      <td>792</td>\n",
       "      <td>good placed camera design also speakers perfor...</td>\n",
       "      <td>LEN</td>\n",
       "      <td>12.0</td>\n",
       "      <td>1</td>\n",
       "      <td>0</td>\n",
       "      <td>1</td>\n",
       "      <td>2</td>\n",
       "    </tr>\n",
       "    <tr>\n",
       "      <td>798</td>\n",
       "      <td>798</td>\n",
       "      <td>798</td>\n",
       "      <td>other waste good reviews boot let's buy price ...</td>\n",
       "      <td>LEN</td>\n",
       "      <td>1.0</td>\n",
       "      <td>1</td>\n",
       "      <td>1</td>\n",
       "      <td>1</td>\n",
       "      <td>2</td>\n",
       "    </tr>\n",
       "    <tr>\n",
       "      <td>811</td>\n",
       "      <td>811</td>\n",
       "      <td>811</td>\n",
       "      <td>genuine no okay good delicate after first cd e...</td>\n",
       "      <td>LEN</td>\n",
       "      <td>3.0</td>\n",
       "      <td>1</td>\n",
       "      <td>0</td>\n",
       "      <td>1</td>\n",
       "      <td>2</td>\n",
       "    </tr>\n",
       "    <tr>\n",
       "      <td>832</td>\n",
       "      <td>832</td>\n",
       "      <td>832</td>\n",
       "      <td>genuine first used lenovo performance sufficie...</td>\n",
       "      <td>LEN</td>\n",
       "      <td>7.0</td>\n",
       "      <td>1</td>\n",
       "      <td>1</td>\n",
       "      <td>1</td>\n",
       "      <td>2</td>\n",
       "    </tr>\n",
       "  </tbody>\n",
       "</table>\n",
       "</div>"
      ],
      "text/plain": [
       "     Unnamed: 0  Unnamed: 0.1  \\\n",
       "21           21            21   \n",
       "24           24            24   \n",
       "27           27            27   \n",
       "44           44            44   \n",
       "49           49            49   \n",
       "120         120           120   \n",
       "121         121           121   \n",
       "132         132           132   \n",
       "140         140           140   \n",
       "144         144           144   \n",
       "150         150           150   \n",
       "155         155           155   \n",
       "157         157           157   \n",
       "160         160           160   \n",
       "163         163           163   \n",
       "244         244           244   \n",
       "246         246           246   \n",
       "260         260           260   \n",
       "261         261           261   \n",
       "277         277           277   \n",
       "322         322           322   \n",
       "353         353           353   \n",
       "359         359           359   \n",
       "409         409           409   \n",
       "412         412           412   \n",
       "414         414           414   \n",
       "417         417           417   \n",
       "418         418           418   \n",
       "423         423           423   \n",
       "435         435           435   \n",
       "439         439           439   \n",
       "444         444           444   \n",
       "476         476           476   \n",
       "684         684           684   \n",
       "685         685           685   \n",
       "687         687           687   \n",
       "690         690           690   \n",
       "697         697           697   \n",
       "698         698           698   \n",
       "699         699           699   \n",
       "702         702           702   \n",
       "792         792           792   \n",
       "798         798           798   \n",
       "811         811           811   \n",
       "832         832           832   \n",
       "\n",
       "                                               reviews brands  scores  \\\n",
       "21   good after hour activate also writing performa...     HP     9.0   \n",
       "24   upgrade single still super rams fast setup she...     HP    11.0   \n",
       "27   no single still boot starts while fast crystal...     HP    30.0   \n",
       "44   no prodiess good after would processor also bo...     HP    17.0   \n",
       "49   good consider processor also specifications lu...     HP     8.0   \n",
       "120  gen single good saving weak would alone proces...     HP    17.0   \n",
       "121  no life good track still here design performan...     HP    24.0   \n",
       "132  gen installed no could good web backlight fest...     HP    11.0   \n",
       "140  touchpad quite good heavily speakers which pri...     HP    18.0   \n",
       "144  needful single viable cover probably budget fa...     HP    13.0   \n",
       "150  could good camera hour also complete performan...     HP    10.0   \n",
       "155  lockdown feel major cpu new hope wfh delighted...     HP    -6.0   \n",
       "157  portable activate left thickness price instead...     HP    18.0   \n",
       "160  other where quickly could air placed after hea...     HP     6.0   \n",
       "163  last also super which not based buy product pr...     HP    14.0   \n",
       "244  super settings go must sale gaming sata speed ...     HP    14.0   \n",
       "246  already according no some whole after still ma...     HP     5.0   \n",
       "260  ghz good would however studio old boast perfor...     HP     5.0   \n",
       "261  could good processor also faster purchase perf...     HP    18.0   \n",
       "277  life no good first expect lap battary not dvd ...     HP     3.0   \n",
       "322  good design performance not licensed have need...     HP    13.0   \n",
       "353  no some good extra normal initially performanc...     HP     8.0   \n",
       "359  directly no installed classes seller after nor...     HP     1.0   \n",
       "409  other some good cases write would dont receive...    LEN    -2.0   \n",
       "412  no budget heavy programming gaming present gpu...    LEN    21.0   \n",
       "414  no hear feel headset while budget length all h...    LEN    27.0   \n",
       "417  seller feel would still layout grainy run whil...    LEN   -14.0   \n",
       "418  installed life good advisable used longer firs...    LEN     6.0   \n",
       "423  installed no solved good processor normal perf...    LEN     0.0   \n",
       "435  classes good cameras would camera used disappo...    LEN    -2.0   \n",
       "439  presentation playing while go fast students ga...    LEN    18.0   \n",
       "444  classes other good china expect performance cp...    LEN     5.0   \n",
       "476  life good headphone however normal clear not m...    LEN    10.0   \n",
       "684  gen no changes some lenovo processor two also ...    LEN     6.0   \n",
       "685  genuine installed no category extra camera ava...    LEN     2.0   \n",
       "687  good would give processor also install perform...    LEN     5.0   \n",
       "690  installed no good today after first proper not...    LEN     6.0   \n",
       "697  life used lenovo design aspiring performance w...    LEN     5.0   \n",
       "698  no quite last good after extra camera availabl...    LEN     3.0   \n",
       "699  installed life seller camera lenovo two old al...    LEN    -4.0   \n",
       "702  excellent good write camera feel design add su...    LEN    14.0   \n",
       "792  good placed camera design also speakers perfor...    LEN    12.0   \n",
       "798  other waste good reviews boot let's buy price ...    LEN     1.0   \n",
       "811  genuine no okay good delicate after first cd e...    LEN     3.0   \n",
       "832  genuine first used lenovo performance sufficie...    LEN     7.0   \n",
       "\n",
       "     performance  customers  pricelooks  cluster  \n",
       "21             1          0           1        2  \n",
       "24             1          1           1        2  \n",
       "27             1          1           1        2  \n",
       "44             1          0           1        2  \n",
       "49             1          0           1        2  \n",
       "120            1          1           1        2  \n",
       "121            1          0           1        2  \n",
       "132            1          0           1        2  \n",
       "140            1          1           1        2  \n",
       "144            1          1           1        2  \n",
       "150            1          0           1        2  \n",
       "155            1          1           1        2  \n",
       "157            1          1           1        2  \n",
       "160            1          0           1        2  \n",
       "163            1          1           1        2  \n",
       "244            1          1           1        2  \n",
       "246            1          1           1        2  \n",
       "260            1          1           1        2  \n",
       "261            1          0           0        2  \n",
       "277            1          1           1        2  \n",
       "322            1          0           1        2  \n",
       "353            1          1           1        2  \n",
       "359            1          1           1        2  \n",
       "409            1          1           1        2  \n",
       "412            1          1           1        2  \n",
       "414            1          1           1        2  \n",
       "417            1          1           1        2  \n",
       "418            1          0           1        2  \n",
       "423            1          1           1        2  \n",
       "435            1          1           1        2  \n",
       "439            1          1           1        2  \n",
       "444            1          0           1        2  \n",
       "476            1          0           1        2  \n",
       "684            1          0           1        2  \n",
       "685            1          1           1        2  \n",
       "687            1          0           1        2  \n",
       "690            1          1           1        2  \n",
       "697            1          0           1        2  \n",
       "698            1          1           1        2  \n",
       "699            1          1           0        2  \n",
       "702            1          1           1        2  \n",
       "792            1          0           1        2  \n",
       "798            1          1           1        2  \n",
       "811            1          0           1        2  \n",
       "832            1          1           1        2  "
      ]
     },
     "execution_count": 502,
     "metadata": {},
     "output_type": "execute_result"
    }
   ],
   "source": [
    "hhh"
   ]
  },
  {
   "cell_type": "code",
   "execution_count": 501,
   "metadata": {},
   "outputs": [
    {
     "data": {
      "text/plain": [
       "<matplotlib.axes._subplots.AxesSubplot at 0x1c4068c410>"
      ]
     },
     "execution_count": 501,
     "metadata": {},
     "output_type": "execute_result"
    },
    {
     "data": {
      "image/png": "[encoded data removed]",
      "text/plain": [
       "<Figure size 576x576 with 1 Axes>"
      ]
     },
     "metadata": {},
     "output_type": "display_data"
    }
   ],
   "source": [
    "H_13 = {'performance': set(hhh[hhh['performance']==1]['reviews']), \n",
    "        'customers': set(hhh[hhh['customers']==1]['reviews']),\n",
    "        'pricelooks': set(hhh[hhh['pricelooks']==1]['reviews'])}\n",
    "venn(H_13)"
   ]
  },
  {
   "cell_type": "code",
   "execution_count": 382,
   "metadata": {},
   "outputs": [
    {
     "data": {
      "text/plain": [
       "<matplotlib.axes._subplots.AxesSubplot at 0x1c3c364c90>"
      ]
     },
     "execution_count": 382,
     "metadata": {},
     "output_type": "execute_result"
    },
    {
     "data": {
      "image/png": "[encoded data removed]",
      "text/plain": [
       "<Figure size 576x576 with 1 Axes>"
      ]
     },
     "metadata": {},
     "output_type": "display_data"
    }
   ],
   "source": [
    "H_23 = {'HP': set(h[h['brands']=='HP']['reviews']), \n",
    "        'LENOVO': set(h[h['brands']=='LEN']['reviews'])}\n",
    "venn(H_23)"
   ]
  },
  {
   "cell_type": "code",
   "execution_count": 347,
   "metadata": {},
   "outputs": [],
   "source": [
    "d_nouns = list(set(d.nouns()) - set(dd.nouns()).intersection(set(d.nouns()))\n",
    "               -set(ddd.nouns()).intersection(set(d.nouns()))\n",
    "               -set(dddd.nouns()).intersection(set(d.nouns())))"
   ]
  },
  {
   "cell_type": "code",
   "execution_count": 348,
   "metadata": {},
   "outputs": [],
   "source": [
    "dd_nouns = list(set(dd.nouns()) - set(d.nouns()).intersection(set(dd.nouns()))\n",
    "               -set(ddd.nouns()).intersection(set(dd.nouns()))\n",
    "               -set(dddd.nouns()).intersection(set(dd.nouns())))"
   ]
  },
  {
   "cell_type": "code",
   "execution_count": 525,
   "metadata": {},
   "outputs": [],
   "source": [
    "ddd_nouns = list(set(ddd.nouns()) - set(dd.nouns()).intersection(set(ddd.nouns()))\n",
    "               -set(d.nouns()).intersection(set(ddd.nouns()))\n",
    "               -set(dddd.nouns()).intersection(set(ddd.nouns())))"
   ]
  },
  {
   "cell_type": "code",
   "execution_count": 526,
   "metadata": {},
   "outputs": [
    {
     "data": {
      "text/plain": [
       "['donthe',\n",
       " 'note',\n",
       " 'forget',\n",
       " 'stop',\n",
       " 'genuine',\n",
       " 'write',\n",
       " 'think',\n",
       " 'hood',\n",
       " 'scrap',\n",
       " 'shopping',\n",
       " 'thank',\n",
       " 'category',\n",
       " 'exceptional',\n",
       " 'cont',\n",
       " 'bummer',\n",
       " 'radeon',\n",
       " 'telling',\n",
       " 'verdict',\n",
       " 'viewing',\n",
       " 'permanent',\n",
       " 'cover',\n",
       " 'drop',\n",
       " 'assure',\n",
       " 'explorer',\n",
       " 'becoz',\n",
       " 'touch',\n",
       " 'gpu',\n",
       " 'search',\n",
       " 'etc',\n",
       " 'channel',\n",
       " 'dell',\n",
       " 'broser',\n",
       " 'rating',\n",
       " 'boast',\n",
       " 'patience',\n",
       " 'bottom',\n",
       " 'delicate',\n",
       " 'let',\n",
       " 'trust',\n",
       " 'want',\n",
       " 'festival',\n",
       " 'mony',\n",
       " 'headphone',\n",
       " 'researcher',\n",
       " 'place',\n",
       " 'laptops',\n",
       " 'hav',\n",
       " 'protection',\n",
       " 'explore',\n",
       " 'login',\n",
       " 'kgs',\n",
       " 'os',\n",
       " 'fee',\n",
       " 'position',\n",
       " 'website',\n",
       " 'pack',\n",
       " 'wfh',\n",
       " 'fulll',\n",
       " 'tablet',\n",
       " 'remember',\n",
       " 'sec',\n",
       " 'utility',\n",
       " 'none',\n",
       " 'osm',\n",
       " 'milk',\n",
       " 'tracoad',\n",
       " 'gap',\n",
       " 'skin',\n",
       " 'launch',\n",
       " 'competition',\n",
       " 'mcafee',\n",
       " 'worry',\n",
       " 'anaconda',\n",
       " 'cache',\n",
       " 'advisable',\n",
       " 'hr',\n",
       " 'levovo',\n",
       " 'saving',\n",
       " 'prodiess',\n",
       " 'cooling',\n",
       " 'samsung',\n",
       " 'plan',\n",
       " 'chance',\n",
       " 'cam',\n",
       " 'upset',\n",
       " 'privacy',\n",
       " 'read',\n",
       " 'pain',\n",
       " 'cord',\n",
       " 'reachability',\n",
       " 'mobile',\n",
       " 'family',\n",
       " 'keep',\n",
       " 'customise',\n",
       " 'save',\n",
       " 'downside',\n",
       " 'blurry',\n",
       " 'constraint',\n",
       " 'feedback',\n",
       " 'project',\n",
       " 'vga',\n",
       " 'provide',\n",
       " 'mysql',\n",
       " 'sheet',\n",
       " 'share',\n",
       " 'teaching',\n",
       " 'preserve',\n",
       " 'minimal',\n",
       " 'breaker',\n",
       " 'excel',\n",
       " 'track',\n",
       " 'coupon',\n",
       " 'reproduction',\n",
       " 'fr',\n",
       " 'cart',\n",
       " 'refer',\n",
       " 'detail',\n",
       " 'cm',\n",
       " 'conclude',\n",
       " 'test',\n",
       " 'open.overall',\n",
       " 'device',\n",
       " 'e.g',\n",
       " 'prize',\n",
       " 'consider',\n",
       " 'compromise',\n",
       " 'bulky',\n",
       " 'collection',\n",
       " 'noisy',\n",
       " 'bec',\n",
       " 'chase',\n",
       " 'spot',\n",
       " 'move',\n",
       " 'magnet',\n",
       " 'powerpoint',\n",
       " 'icon',\n",
       " 'pointer',\n",
       " 'investment']"
      ]
     },
     "execution_count": 526,
     "metadata": {},
     "output_type": "execute_result"
    }
   ],
   "source": [
    "ddd_nouns"
   ]
  },
  {
   "cell_type": "code",
   "execution_count": 96,
   "metadata": {},
   "outputs": [],
   "source": [
    "df['x_ax1'] = result[:, 0]\n",
    "df['y_ax2'] = result[:, 1]"
   ]
  },
  {
   "cell_type": "code",
   "execution_count": 101,
   "metadata": {},
   "outputs": [
    {
     "data": {
      "text/html": [
       "<div>\n",
       "<style scoped>\n",
       "    .dataframe tbody tr th:only-of-type {\n",
       "        vertical-align: middle;\n",
       "    }\n",
       "\n",
       "    .dataframe tbody tr th {\n",
       "        vertical-align: top;\n",
       "    }\n",
       "\n",
       "    .dataframe thead th {\n",
       "        text-align: right;\n",
       "    }\n",
       "</style>\n",
       "<table border=\"1\" class=\"dataframe\">\n",
       "  <thead>\n",
       "    <tr style=\"text-align: right;\">\n",
       "      <th></th>\n",
       "      <th>Unnamed: 0</th>\n",
       "      <th>REVIEW</th>\n",
       "      <th>customers</th>\n",
       "      <th>performance</th>\n",
       "      <th>appearance_price</th>\n",
       "      <th>SCORE</th>\n",
       "      <th>LABELS</th>\n",
       "      <th>brand</th>\n",
       "      <th>x_ax1</th>\n",
       "      <th>y_ax2</th>\n",
       "    </tr>\n",
       "  </thead>\n",
       "  <tbody>\n",
       "    <tr>\n",
       "      <td>0</td>\n",
       "      <td>0</td>\n",
       "      <td>using for last 4~5 days this 4th laptop main u...</td>\n",
       "      <td>1</td>\n",
       "      <td>1</td>\n",
       "      <td>1</td>\n",
       "      <td>1</td>\n",
       "      <td>pos</td>\n",
       "      <td>DELL</td>\n",
       "      <td>0.364890</td>\n",
       "      <td>-0.049753</td>\n",
       "    </tr>\n",
       "    <tr>\n",
       "      <td>1</td>\n",
       "      <td>1</td>\n",
       "      <td>guys bought this dell 3500 laptop week ago fro...</td>\n",
       "      <td>1</td>\n",
       "      <td>1</td>\n",
       "      <td>1</td>\n",
       "      <td>1</td>\n",
       "      <td>pos</td>\n",
       "      <td>DELL</td>\n",
       "      <td>0.553698</td>\n",
       "      <td>-0.185729</td>\n",
       "    </tr>\n",
       "    <tr>\n",
       "      <td>2</td>\n",
       "      <td>2</td>\n",
       "      <td>overall products was good but when was receive...</td>\n",
       "      <td>1</td>\n",
       "      <td>0</td>\n",
       "      <td>0</td>\n",
       "      <td>-5</td>\n",
       "      <td>neg</td>\n",
       "      <td>DELL</td>\n",
       "      <td>0.189869</td>\n",
       "      <td>-0.058181</td>\n",
       "    </tr>\n",
       "    <tr>\n",
       "      <td>3</td>\n",
       "      <td>3</td>\n",
       "      <td>this laptop good almost all terms though not g...</td>\n",
       "      <td>1</td>\n",
       "      <td>1</td>\n",
       "      <td>1</td>\n",
       "      <td>1</td>\n",
       "      <td>pos</td>\n",
       "      <td>DELL</td>\n",
       "      <td>0.389457</td>\n",
       "      <td>-0.056182</td>\n",
       "    </tr>\n",
       "    <tr>\n",
       "      <td>4</td>\n",
       "      <td>4</td>\n",
       "      <td>purchased the base varient dell 3500 10th gen ...</td>\n",
       "      <td>1</td>\n",
       "      <td>1</td>\n",
       "      <td>1</td>\n",
       "      <td>9</td>\n",
       "      <td>pos</td>\n",
       "      <td>DELL</td>\n",
       "      <td>0.551774</td>\n",
       "      <td>-0.170529</td>\n",
       "    </tr>\n",
       "  </tbody>\n",
       "</table>\n",
       "</div>"
      ],
      "text/plain": [
       "   Unnamed: 0                                             REVIEW  customers  \\\n",
       "0           0  using for last 4~5 days this 4th laptop main u...          1   \n",
       "1           1  guys bought this dell 3500 laptop week ago fro...          1   \n",
       "2           2  overall products was good but when was receive...          1   \n",
       "3           3  this laptop good almost all terms though not g...          1   \n",
       "4           4  purchased the base varient dell 3500 10th gen ...          1   \n",
       "\n",
       "   performance  appearance_price  SCORE LABELS brand     x_ax1     y_ax2  \n",
       "0            1                 1      1    pos  DELL  0.364890 -0.049753  \n",
       "1            1                 1      1    pos  DELL  0.553698 -0.185729  \n",
       "2            0                 0     -5    neg  DELL  0.189869 -0.058181  \n",
       "3            1                 1      1    pos  DELL  0.389457 -0.056182  \n",
       "4            1                 1      9    pos  DELL  0.551774 -0.170529  "
      ]
     },
     "execution_count": 101,
     "metadata": {},
     "output_type": "execute_result"
    }
   ],
   "source": [
    "df.head()"
   ]
  },
  {
   "cell_type": "code",
   "execution_count": 103,
   "metadata": {},
   "outputs": [],
   "source": [
    "df.to_csv(\"/Users/Akashgupta/Desktop/NEWERFIN/disser/MASTER.csv\")"
   ]
  },
  {
   "cell_type": "code",
   "execution_count": null,
   "metadata": {},
   "outputs": [],
   "source": []
  },
  {
   "cell_type": "code",
   "execution_count": 81,
   "metadata": {},
   "outputs": [
    {
     "data": {
      "text/plain": [
       "<matplotlib.collections.PathCollection at 0x1a1ab749d0>"
      ]
     },
     "execution_count": 81,
     "metadata": {},
     "output_type": "execute_result"
    },
    {
     "data": {
      "image/png": "[encoded data removed]",
      "text/plain": [
       "<Figure size 720x720 with 1 Axes>"
      ]
     },
     "metadata": {
      "needs_background": "light"
     },
     "output_type": "display_data"
    }
   ],
   "source": [
    "plt.figure(figsize=(10,10))\n",
    "plt.scatter(result[:, 0], result[:, 1])"
   ]
  },
  {
   "cell_type": "code",
   "execution_count": 41,
   "metadata": {},
   "outputs": [],
   "source": [
    "df = pd.read_csv(\"/Users/Akashgupta/Desktop/NEWERFIN/disser/MASTER.csv\")"
   ]
  },
  {
   "cell_type": "code",
   "execution_count": 133,
   "metadata": {},
   "outputs": [],
   "source": [
    "data = df[['customers', 'performance', 'appearance_price', 'brand', 'LABELS', 'SCORE']]"
   ]
  },
  {
   "cell_type": "code",
   "execution_count": 134,
   "metadata": {},
   "outputs": [
    {
     "data": {
      "text/html": [
       "<div>\n",
       "<style scoped>\n",
       "    .dataframe tbody tr th:only-of-type {\n",
       "        vertical-align: middle;\n",
       "    }\n",
       "\n",
       "    .dataframe tbody tr th {\n",
       "        vertical-align: top;\n",
       "    }\n",
       "\n",
       "    .dataframe thead th {\n",
       "        text-align: right;\n",
       "    }\n",
       "</style>\n",
       "<table border=\"1\" class=\"dataframe\">\n",
       "  <thead>\n",
       "    <tr style=\"text-align: right;\">\n",
       "      <th></th>\n",
       "      <th>customers</th>\n",
       "      <th>performance</th>\n",
       "      <th>appearance_price</th>\n",
       "      <th>brand</th>\n",
       "      <th>LABELS</th>\n",
       "      <th>SCORE</th>\n",
       "    </tr>\n",
       "  </thead>\n",
       "  <tbody>\n",
       "    <tr>\n",
       "      <td>0</td>\n",
       "      <td>1</td>\n",
       "      <td>1</td>\n",
       "      <td>1</td>\n",
       "      <td>DELL</td>\n",
       "      <td>pos</td>\n",
       "      <td>1</td>\n",
       "    </tr>\n",
       "    <tr>\n",
       "      <td>1</td>\n",
       "      <td>1</td>\n",
       "      <td>1</td>\n",
       "      <td>1</td>\n",
       "      <td>DELL</td>\n",
       "      <td>pos</td>\n",
       "      <td>1</td>\n",
       "    </tr>\n",
       "    <tr>\n",
       "      <td>2</td>\n",
       "      <td>1</td>\n",
       "      <td>0</td>\n",
       "      <td>0</td>\n",
       "      <td>DELL</td>\n",
       "      <td>neg</td>\n",
       "      <td>-5</td>\n",
       "    </tr>\n",
       "    <tr>\n",
       "      <td>3</td>\n",
       "      <td>1</td>\n",
       "      <td>1</td>\n",
       "      <td>1</td>\n",
       "      <td>DELL</td>\n",
       "      <td>pos</td>\n",
       "      <td>1</td>\n",
       "    </tr>\n",
       "    <tr>\n",
       "      <td>4</td>\n",
       "      <td>1</td>\n",
       "      <td>1</td>\n",
       "      <td>1</td>\n",
       "      <td>DELL</td>\n",
       "      <td>pos</td>\n",
       "      <td>9</td>\n",
       "    </tr>\n",
       "  </tbody>\n",
       "</table>\n",
       "</div>"
      ],
      "text/plain": [
       "   customers  performance  appearance_price brand LABELS  SCORE\n",
       "0          1            1                 1  DELL    pos      1\n",
       "1          1            1                 1  DELL    pos      1\n",
       "2          1            0                 0  DELL    neg     -5\n",
       "3          1            1                 1  DELL    pos      1\n",
       "4          1            1                 1  DELL    pos      9"
      ]
     },
     "execution_count": 134,
     "metadata": {},
     "output_type": "execute_result"
    }
   ],
   "source": [
    "data.head()"
   ]
  },
  {
   "cell_type": "code",
   "execution_count": 135,
   "metadata": {},
   "outputs": [],
   "source": [
    "data2 = pd.concat([data, pd.get_dummies(data['brand'])], axis=1)"
   ]
  },
  {
   "cell_type": "code",
   "execution_count": 52,
   "metadata": {},
   "outputs": [],
   "source": [
    "#ydat = pd.qcut(data2['SCORE'], 3, labels=['negative', 'neutral', 'positive'])"
   ]
  },
  {
   "cell_type": "code",
   "execution_count": 136,
   "metadata": {},
   "outputs": [
    {
     "data": {
      "text/html": [
       "<div>\n",
       "<style scoped>\n",
       "    .dataframe tbody tr th:only-of-type {\n",
       "        vertical-align: middle;\n",
       "    }\n",
       "\n",
       "    .dataframe tbody tr th {\n",
       "        vertical-align: top;\n",
       "    }\n",
       "\n",
       "    .dataframe thead th {\n",
       "        text-align: right;\n",
       "    }\n",
       "</style>\n",
       "<table border=\"1\" class=\"dataframe\">\n",
       "  <thead>\n",
       "    <tr style=\"text-align: right;\">\n",
       "      <th></th>\n",
       "      <th>customers</th>\n",
       "      <th>performance</th>\n",
       "      <th>appearance_price</th>\n",
       "      <th>brand</th>\n",
       "      <th>LABELS</th>\n",
       "      <th>SCORE</th>\n",
       "      <th>DELL</th>\n",
       "      <th>HP</th>\n",
       "      <th>LEN</th>\n",
       "      <th>MAC</th>\n",
       "    </tr>\n",
       "  </thead>\n",
       "  <tbody>\n",
       "    <tr>\n",
       "      <td>0</td>\n",
       "      <td>1</td>\n",
       "      <td>1</td>\n",
       "      <td>1</td>\n",
       "      <td>DELL</td>\n",
       "      <td>pos</td>\n",
       "      <td>1</td>\n",
       "      <td>1</td>\n",
       "      <td>0</td>\n",
       "      <td>0</td>\n",
       "      <td>0</td>\n",
       "    </tr>\n",
       "    <tr>\n",
       "      <td>1</td>\n",
       "      <td>1</td>\n",
       "      <td>1</td>\n",
       "      <td>1</td>\n",
       "      <td>DELL</td>\n",
       "      <td>pos</td>\n",
       "      <td>1</td>\n",
       "      <td>1</td>\n",
       "      <td>0</td>\n",
       "      <td>0</td>\n",
       "      <td>0</td>\n",
       "    </tr>\n",
       "    <tr>\n",
       "      <td>2</td>\n",
       "      <td>1</td>\n",
       "      <td>0</td>\n",
       "      <td>0</td>\n",
       "      <td>DELL</td>\n",
       "      <td>neg</td>\n",
       "      <td>-5</td>\n",
       "      <td>1</td>\n",
       "      <td>0</td>\n",
       "      <td>0</td>\n",
       "      <td>0</td>\n",
       "    </tr>\n",
       "    <tr>\n",
       "      <td>3</td>\n",
       "      <td>1</td>\n",
       "      <td>1</td>\n",
       "      <td>1</td>\n",
       "      <td>DELL</td>\n",
       "      <td>pos</td>\n",
       "      <td>1</td>\n",
       "      <td>1</td>\n",
       "      <td>0</td>\n",
       "      <td>0</td>\n",
       "      <td>0</td>\n",
       "    </tr>\n",
       "    <tr>\n",
       "      <td>4</td>\n",
       "      <td>1</td>\n",
       "      <td>1</td>\n",
       "      <td>1</td>\n",
       "      <td>DELL</td>\n",
       "      <td>pos</td>\n",
       "      <td>9</td>\n",
       "      <td>1</td>\n",
       "      <td>0</td>\n",
       "      <td>0</td>\n",
       "      <td>0</td>\n",
       "    </tr>\n",
       "    <tr>\n",
       "      <td>...</td>\n",
       "      <td>...</td>\n",
       "      <td>...</td>\n",
       "      <td>...</td>\n",
       "      <td>...</td>\n",
       "      <td>...</td>\n",
       "      <td>...</td>\n",
       "      <td>...</td>\n",
       "      <td>...</td>\n",
       "      <td>...</td>\n",
       "      <td>...</td>\n",
       "    </tr>\n",
       "    <tr>\n",
       "      <td>1428</td>\n",
       "      <td>0</td>\n",
       "      <td>0</td>\n",
       "      <td>1</td>\n",
       "      <td>MAC</td>\n",
       "      <td>neg</td>\n",
       "      <td>0</td>\n",
       "      <td>0</td>\n",
       "      <td>0</td>\n",
       "      <td>0</td>\n",
       "      <td>1</td>\n",
       "    </tr>\n",
       "    <tr>\n",
       "      <td>1429</td>\n",
       "      <td>0</td>\n",
       "      <td>0</td>\n",
       "      <td>1</td>\n",
       "      <td>MAC</td>\n",
       "      <td>pos</td>\n",
       "      <td>3</td>\n",
       "      <td>0</td>\n",
       "      <td>0</td>\n",
       "      <td>0</td>\n",
       "      <td>1</td>\n",
       "    </tr>\n",
       "    <tr>\n",
       "      <td>1430</td>\n",
       "      <td>0</td>\n",
       "      <td>0</td>\n",
       "      <td>1</td>\n",
       "      <td>MAC</td>\n",
       "      <td>pos</td>\n",
       "      <td>4</td>\n",
       "      <td>0</td>\n",
       "      <td>0</td>\n",
       "      <td>0</td>\n",
       "      <td>1</td>\n",
       "    </tr>\n",
       "    <tr>\n",
       "      <td>1431</td>\n",
       "      <td>0</td>\n",
       "      <td>0</td>\n",
       "      <td>1</td>\n",
       "      <td>MAC</td>\n",
       "      <td>neg</td>\n",
       "      <td>0</td>\n",
       "      <td>0</td>\n",
       "      <td>0</td>\n",
       "      <td>0</td>\n",
       "      <td>1</td>\n",
       "    </tr>\n",
       "    <tr>\n",
       "      <td>1432</td>\n",
       "      <td>0</td>\n",
       "      <td>0</td>\n",
       "      <td>1</td>\n",
       "      <td>MAC</td>\n",
       "      <td>pos</td>\n",
       "      <td>3</td>\n",
       "      <td>0</td>\n",
       "      <td>0</td>\n",
       "      <td>0</td>\n",
       "      <td>1</td>\n",
       "    </tr>\n",
       "  </tbody>\n",
       "</table>\n",
       "<p>1433 rows × 10 columns</p>\n",
       "</div>"
      ],
      "text/plain": [
       "      customers  performance  appearance_price brand LABELS  SCORE  DELL  HP  \\\n",
       "0             1            1                 1  DELL    pos      1     1   0   \n",
       "1             1            1                 1  DELL    pos      1     1   0   \n",
       "2             1            0                 0  DELL    neg     -5     1   0   \n",
       "3             1            1                 1  DELL    pos      1     1   0   \n",
       "4             1            1                 1  DELL    pos      9     1   0   \n",
       "...         ...          ...               ...   ...    ...    ...   ...  ..   \n",
       "1428          0            0                 1   MAC    neg      0     0   0   \n",
       "1429          0            0                 1   MAC    pos      3     0   0   \n",
       "1430          0            0                 1   MAC    pos      4     0   0   \n",
       "1431          0            0                 1   MAC    neg      0     0   0   \n",
       "1432          0            0                 1   MAC    pos      3     0   0   \n",
       "\n",
       "      LEN  MAC  \n",
       "0       0    0  \n",
       "1       0    0  \n",
       "2       0    0  \n",
       "3       0    0  \n",
       "4       0    0  \n",
       "...   ...  ...  \n",
       "1428    0    1  \n",
       "1429    0    1  \n",
       "1430    0    1  \n",
       "1431    0    1  \n",
       "1432    0    1  \n",
       "\n",
       "[1433 rows x 10 columns]"
      ]
     },
     "execution_count": 136,
     "metadata": {},
     "output_type": "execute_result"
    }
   ],
   "source": [
    "data2"
   ]
  },
  {
   "cell_type": "code",
   "execution_count": 137,
   "metadata": {},
   "outputs": [],
   "source": [
    "data2.to_csv('/Users/Akashgupta/Desktop/newfinal1.csv')"
   ]
  },
  {
   "cell_type": "code",
   "execution_count": 61,
   "metadata": {},
   "outputs": [],
   "source": [
    "X = data2[['customers', 'performance', 'appearance_price', 'DELL', 'HP', 'LEN', 'MAC']]\n",
    "Y = data2['LABELS']"
   ]
  },
  {
   "cell_type": "code",
   "execution_count": 67,
   "metadata": {},
   "outputs": [],
   "source": [
    "le = LabelEncoder()\n",
    "ydat = le.fit_transform(Y)"
   ]
  },
  {
   "cell_type": "code",
   "execution_count": 70,
   "metadata": {},
   "outputs": [
    {
     "data": {
      "text/html": [
       "<div>\n",
       "<style scoped>\n",
       "    .dataframe tbody tr th:only-of-type {\n",
       "        vertical-align: middle;\n",
       "    }\n",
       "\n",
       "    .dataframe tbody tr th {\n",
       "        vertical-align: top;\n",
       "    }\n",
       "\n",
       "    .dataframe thead th {\n",
       "        text-align: right;\n",
       "    }\n",
       "</style>\n",
       "<table border=\"1\" class=\"dataframe\">\n",
       "  <thead>\n",
       "    <tr style=\"text-align: right;\">\n",
       "      <th></th>\n",
       "      <th>customers</th>\n",
       "      <th>performance</th>\n",
       "      <th>appearance_price</th>\n",
       "      <th>DELL</th>\n",
       "      <th>HP</th>\n",
       "      <th>LEN</th>\n",
       "      <th>MAC</th>\n",
       "    </tr>\n",
       "  </thead>\n",
       "  <tbody>\n",
       "    <tr>\n",
       "      <td>0</td>\n",
       "      <td>1</td>\n",
       "      <td>1</td>\n",
       "      <td>1</td>\n",
       "      <td>1</td>\n",
       "      <td>0</td>\n",
       "      <td>0</td>\n",
       "      <td>0</td>\n",
       "    </tr>\n",
       "    <tr>\n",
       "      <td>1</td>\n",
       "      <td>1</td>\n",
       "      <td>1</td>\n",
       "      <td>1</td>\n",
       "      <td>1</td>\n",
       "      <td>0</td>\n",
       "      <td>0</td>\n",
       "      <td>0</td>\n",
       "    </tr>\n",
       "    <tr>\n",
       "      <td>2</td>\n",
       "      <td>1</td>\n",
       "      <td>0</td>\n",
       "      <td>0</td>\n",
       "      <td>1</td>\n",
       "      <td>0</td>\n",
       "      <td>0</td>\n",
       "      <td>0</td>\n",
       "    </tr>\n",
       "    <tr>\n",
       "      <td>3</td>\n",
       "      <td>1</td>\n",
       "      <td>1</td>\n",
       "      <td>1</td>\n",
       "      <td>1</td>\n",
       "      <td>0</td>\n",
       "      <td>0</td>\n",
       "      <td>0</td>\n",
       "    </tr>\n",
       "    <tr>\n",
       "      <td>4</td>\n",
       "      <td>1</td>\n",
       "      <td>1</td>\n",
       "      <td>1</td>\n",
       "      <td>1</td>\n",
       "      <td>0</td>\n",
       "      <td>0</td>\n",
       "      <td>0</td>\n",
       "    </tr>\n",
       "    <tr>\n",
       "      <td>...</td>\n",
       "      <td>...</td>\n",
       "      <td>...</td>\n",
       "      <td>...</td>\n",
       "      <td>...</td>\n",
       "      <td>...</td>\n",
       "      <td>...</td>\n",
       "      <td>...</td>\n",
       "    </tr>\n",
       "    <tr>\n",
       "      <td>1428</td>\n",
       "      <td>0</td>\n",
       "      <td>0</td>\n",
       "      <td>1</td>\n",
       "      <td>0</td>\n",
       "      <td>0</td>\n",
       "      <td>0</td>\n",
       "      <td>1</td>\n",
       "    </tr>\n",
       "    <tr>\n",
       "      <td>1429</td>\n",
       "      <td>0</td>\n",
       "      <td>0</td>\n",
       "      <td>1</td>\n",
       "      <td>0</td>\n",
       "      <td>0</td>\n",
       "      <td>0</td>\n",
       "      <td>1</td>\n",
       "    </tr>\n",
       "    <tr>\n",
       "      <td>1430</td>\n",
       "      <td>0</td>\n",
       "      <td>0</td>\n",
       "      <td>1</td>\n",
       "      <td>0</td>\n",
       "      <td>0</td>\n",
       "      <td>0</td>\n",
       "      <td>1</td>\n",
       "    </tr>\n",
       "    <tr>\n",
       "      <td>1431</td>\n",
       "      <td>0</td>\n",
       "      <td>0</td>\n",
       "      <td>1</td>\n",
       "      <td>0</td>\n",
       "      <td>0</td>\n",
       "      <td>0</td>\n",
       "      <td>1</td>\n",
       "    </tr>\n",
       "    <tr>\n",
       "      <td>1432</td>\n",
       "      <td>0</td>\n",
       "      <td>0</td>\n",
       "      <td>1</td>\n",
       "      <td>0</td>\n",
       "      <td>0</td>\n",
       "      <td>0</td>\n",
       "      <td>1</td>\n",
       "    </tr>\n",
       "  </tbody>\n",
       "</table>\n",
       "<p>1433 rows × 7 columns</p>\n",
       "</div>"
      ],
      "text/plain": [
       "      customers  performance  appearance_price  DELL  HP  LEN  MAC\n",
       "0             1            1                 1     1   0    0    0\n",
       "1             1            1                 1     1   0    0    0\n",
       "2             1            0                 0     1   0    0    0\n",
       "3             1            1                 1     1   0    0    0\n",
       "4             1            1                 1     1   0    0    0\n",
       "...         ...          ...               ...   ...  ..  ...  ...\n",
       "1428          0            0                 1     0   0    0    1\n",
       "1429          0            0                 1     0   0    0    1\n",
       "1430          0            0                 1     0   0    0    1\n",
       "1431          0            0                 1     0   0    0    1\n",
       "1432          0            0                 1     0   0    0    1\n",
       "\n",
       "[1433 rows x 7 columns]"
      ]
     },
     "execution_count": 70,
     "metadata": {},
     "output_type": "execute_result"
    }
   ],
   "source": [
    "X"
   ]
  },
  {
   "cell_type": "code",
   "execution_count": 110,
   "metadata": {},
   "outputs": [],
   "source": [
    "x_train, x_test, y_train, y_test = train_test_split(X, ydat, test_size=0.4, random_state=42)"
   ]
  },
  {
   "cell_type": "code",
   "execution_count": 111,
   "metadata": {},
   "outputs": [],
   "source": [
    "clf = cross_val_score(LogisticRegression(solver='liblinear'), x_train, y_train, cv=5)"
   ]
  },
  {
   "cell_type": "code",
   "execution_count": 112,
   "metadata": {},
   "outputs": [
    {
     "data": {
      "text/plain": [
       "0.658916811902499"
      ]
     },
     "execution_count": 112,
     "metadata": {},
     "output_type": "execute_result"
    }
   ],
   "source": [
    "np.mean(clf)"
   ]
  },
  {
   "cell_type": "code",
   "execution_count": 113,
   "metadata": {},
   "outputs": [
    {
     "name": "stdout",
     "output_type": "stream",
     "text": [
      "best cross val:  0.6589057043073341\n"
     ]
    }
   ],
   "source": [
    "param_grid = {'C':[0.001, 0.01, 0.1, 1, 10]}\n",
    "grid = GridSearchCV(LogisticRegression(solver='liblinear'), param_grid, cv=5, iid=True)\n",
    "grid.fit(x_train, y_train)\n",
    "print('best cross val: ', grid.best_score_)"
   ]
  },
  {
   "cell_type": "code",
   "execution_count": 115,
   "metadata": {},
   "outputs": [
    {
     "data": {
      "text/plain": [
       "0.6707317073170732"
      ]
     },
     "execution_count": 115,
     "metadata": {},
     "output_type": "execute_result"
    }
   ],
   "source": [
    "tree = DecisionTreeClassifier(min_samples_split=30, min_samples_leaf=30, max_depth=4, random_state=0)\n",
    "tree.fit(x_train, y_train)\n",
    "tree.score(x_test, y_test)"
   ]
  },
  {
   "cell_type": "code",
   "execution_count": 130,
   "metadata": {},
   "outputs": [
    {
     "data": {
      "text/plain": [
       "0.6655052264808362"
      ]
     },
     "execution_count": 130,
     "metadata": {},
     "output_type": "execute_result"
    }
   ],
   "source": [
    "model = SVC(kernel='rbf', C=100, gamma=0.1).fit(x_train, y_train)\n",
    "model.score(x_test, y_test)"
   ]
  },
  {
   "cell_type": "code",
   "execution_count": null,
   "metadata": {},
   "outputs": [],
   "source": []
  }
 ],
 "metadata": {
  "kernelspec": {
   "display_name": "Python 3",
   "language": "python",
   "name": "python3"
  },
  "language_info": {
   "codemirror_mode": {
    "name": "ipython",
    "version": 3
   },
   "file_extension": ".py",
   "mimetype": "text/x-python",
   "name": "python",
   "nbconvert_exporter": "python",
   "pygments_lexer": "ipython3",
   "version": "3.7.4"
  }
 },
 "nbformat": 4,
 "nbformat_minor": 4
}
